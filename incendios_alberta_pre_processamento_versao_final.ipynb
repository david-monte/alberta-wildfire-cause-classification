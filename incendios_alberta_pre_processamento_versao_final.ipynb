{
 "cells": [
  {
   "cell_type": "markdown",
   "id": "22407056",
   "metadata": {},
   "source": [
    "# Uma abordagem inovadora utilizando aprendizagem de máquina integrada ao Azure para classificação da causa de incêndios florestais em Alberta no Canadá"
   ]
  },
  {
   "cell_type": "markdown",
   "id": "bDDJRMD6vH0D",
   "metadata": {
    "id": "bDDJRMD6vH0D"
   },
   "source": [
    "## Importação das Bibliotecas Necessárias"
   ]
  },
  {
   "cell_type": "code",
   "execution_count": null,
   "id": "469ea58f",
   "metadata": {
    "id": "469ea58f"
   },
   "outputs": [],
   "source": [
    "import pandas as pd\n",
    "import numpy as np\n",
    "import datetime as dt\n",
    "from datetime import datetime, date, timezone\n",
    "from collections import Counter\n",
    "import seaborn as sn\n",
    "import matplotlib.pyplot as plt"
   ]
  },
  {
   "cell_type": "markdown",
   "id": "VFVPCqnGvUl6",
   "metadata": {
    "id": "VFVPCqnGvUl6"
   },
   "source": [
    "## Pré-processamento da Dataset"
   ]
  },
  {
   "cell_type": "markdown",
   "id": "CA9RZvuuveNy",
   "metadata": {
    "id": "CA9RZvuuveNy"
   },
   "source": [
    "### Importação do Dataset"
   ]
  },
  {
   "cell_type": "code",
   "execution_count": 2,
   "id": "UKhaRVckaigL",
   "metadata": {
    "id": "UKhaRVckaigL"
   },
   "outputs": [],
   "source": [
    "# !pip freeze > requirements.txt"
   ]
  },
  {
   "cell_type": "code",
   "execution_count": null,
   "id": "SPT8cMNAlX73",
   "metadata": {
    "id": "SPT8cMNAlX73"
   },
   "outputs": [],
   "source": [
    "# pd.set_option('display.max_columns', None)"
   ]
  },
  {
   "cell_type": "code",
   "execution_count": null,
   "id": "66RWQa5KAC3f",
   "metadata": {
    "id": "66RWQa5KAC3f"
   },
   "outputs": [],
   "source": [
    "df_96_05 = pd.read_csv(\"alberta_fires_1996to2005.csv\", encoding='cp1252')\n",
    "df_06_18 = pd.read_csv(\"alberta_fires_2006to2018.csv\", encoding='cp1252')\n",
    "df_96_18 = pd.concat([df_96_05, df_06_18])"
   ]
  },
  {
   "cell_type": "code",
   "execution_count": null,
   "id": "J1e9qwW95DrE",
   "metadata": {
    "colab": {
     "base_uri": "https://localhost:8080/"
    },
    "id": "J1e9qwW95DrE",
    "outputId": "9c990fa8-d24d-4934-c0bf-b4fceb1a479e"
   },
   "outputs": [
    {
     "data": {
      "text/plain": [
       "Index(['fire_number', 'fire_name', 'fire_year', 'calendar_year',\n",
       "       'assessment_datetime', 'assessment_hectares', 'current_size',\n",
       "       'size_class', 'fire_location_latitude', 'fire_location_longitude',\n",
       "       'fire_origin', 'general_cause_desc', 'industry_identifier_desc',\n",
       "       'responsible_group_desc', 'activity_class', 'true_cause',\n",
       "       'permit_detail_desc', 'fire_start_date', 'det_agent_type', 'det_agent',\n",
       "       'discovered_date', 'reported_date', 'start_for_fire_date',\n",
       "       'fire_fighting_start_date', 'fire_fighting_start_size',\n",
       "       'initial_action_by', 'fire_type', 'fire_position_on_slope',\n",
       "       'weather_conditions_over_fire', 'fuel_type', 'other_fuel_type',\n",
       "       'bh_fs_date', 'bh_hectares', 'uc_fs_date', 'uc_hectares', 'to_fs_date',\n",
       "       'to_hectares', 'ex_fs_date', 'ex_hectares'],\n",
       "      dtype='object')"
      ]
     },
     "execution_count": 8,
     "metadata": {},
     "output_type": "execute_result"
    }
   ],
   "source": [
    "df_96_18.columns"
   ]
  },
  {
   "cell_type": "code",
   "execution_count": null,
   "id": "12210d34",
   "metadata": {
    "colab": {
     "base_uri": "https://localhost:8080/"
    },
    "id": "12210d34",
    "outputId": "a83a6560-0781-42ec-c35c-72a46c402aaa"
   },
   "outputs": [
    {
     "data": {
      "text/plain": [
       "(31196, 39)"
      ]
     },
     "execution_count": 9,
     "metadata": {},
     "output_type": "execute_result"
    }
   ],
   "source": [
    "df_96_18.shape"
   ]
  },
  {
   "cell_type": "code",
   "execution_count": null,
   "id": "708c9511",
   "metadata": {
    "colab": {
     "base_uri": "https://localhost:8080/",
     "height": 1000
    },
    "id": "708c9511",
    "outputId": "88874aa6-9036-40fe-a920-e4773d276591"
   },
   "outputs": [
    {
     "data": {
      "text/html": [
       "\n",
       "  <div id=\"df-56d9bca9-7c3f-4f46-8819-dc014388d727\">\n",
       "    <div class=\"colab-df-container\">\n",
       "      <div>\n",
       "<style scoped>\n",
       "    .dataframe tbody tr th:only-of-type {\n",
       "        vertical-align: middle;\n",
       "    }\n",
       "\n",
       "    .dataframe tbody tr th {\n",
       "        vertical-align: top;\n",
       "    }\n",
       "\n",
       "    .dataframe thead th {\n",
       "        text-align: right;\n",
       "    }\n",
       "</style>\n",
       "<table border=\"1\" class=\"dataframe\">\n",
       "  <thead>\n",
       "    <tr style=\"text-align: right;\">\n",
       "      <th></th>\n",
       "      <th>9888</th>\n",
       "      <th>16693</th>\n",
       "      <th>356</th>\n",
       "      <th>7420</th>\n",
       "      <th>8902</th>\n",
       "    </tr>\n",
       "  </thead>\n",
       "  <tbody>\n",
       "    <tr>\n",
       "      <th>fire_number</th>\n",
       "      <td>CWF106</td>\n",
       "      <td>LWF095</td>\n",
       "      <td>EWF123</td>\n",
       "      <td>GWF052</td>\n",
       "      <td>HWF319</td>\n",
       "    </tr>\n",
       "    <tr>\n",
       "      <th>fire_name</th>\n",
       "      <td>NaN</td>\n",
       "      <td>NaN</td>\n",
       "      <td>NaN</td>\n",
       "      <td>NaN</td>\n",
       "      <td>NaN</td>\n",
       "    </tr>\n",
       "    <tr>\n",
       "      <th>fire_year</th>\n",
       "      <td>2012</td>\n",
       "      <td>2016</td>\n",
       "      <td>2006</td>\n",
       "      <td>2003</td>\n",
       "      <td>2004</td>\n",
       "    </tr>\n",
       "    <tr>\n",
       "      <th>calendar_year</th>\n",
       "      <td>2012</td>\n",
       "      <td>2016</td>\n",
       "      <td>2006</td>\n",
       "      <td>2003</td>\n",
       "      <td>2004</td>\n",
       "    </tr>\n",
       "    <tr>\n",
       "      <th>assessment_datetime</th>\n",
       "      <td>2012-05-21 15:55:00</td>\n",
       "      <td>2016-06-26 20:25:00</td>\n",
       "      <td>2006-07-01 17:50:00</td>\n",
       "      <td>2003-07-24 14:10:00</td>\n",
       "      <td>2004-08-01 18:03:00</td>\n",
       "    </tr>\n",
       "    <tr>\n",
       "      <th>assessment_hectares</th>\n",
       "      <td>0.01</td>\n",
       "      <td>0.01</td>\n",
       "      <td>0.03</td>\n",
       "      <td>0.01</td>\n",
       "      <td>0.5</td>\n",
       "    </tr>\n",
       "    <tr>\n",
       "      <th>current_size</th>\n",
       "      <td>0.01</td>\n",
       "      <td>0.01</td>\n",
       "      <td>0.11</td>\n",
       "      <td>0.01</td>\n",
       "      <td>0.3</td>\n",
       "    </tr>\n",
       "    <tr>\n",
       "      <th>size_class</th>\n",
       "      <td>A</td>\n",
       "      <td>A</td>\n",
       "      <td>B</td>\n",
       "      <td>A</td>\n",
       "      <td>B</td>\n",
       "    </tr>\n",
       "    <tr>\n",
       "      <th>fire_location_latitude</th>\n",
       "      <td>49.815383</td>\n",
       "      <td>56.103483</td>\n",
       "      <td>53.93425</td>\n",
       "      <td>55.8724</td>\n",
       "      <td>59.382751</td>\n",
       "    </tr>\n",
       "    <tr>\n",
       "      <th>fire_location_longitude</th>\n",
       "      <td>-113.957033</td>\n",
       "      <td>-112.605833</td>\n",
       "      <td>-118.9567</td>\n",
       "      <td>-119.6244</td>\n",
       "      <td>-119.616232</td>\n",
       "    </tr>\n",
       "    <tr>\n",
       "      <th>fire_origin</th>\n",
       "      <td>Provincial Land</td>\n",
       "      <td>Provincial Land</td>\n",
       "      <td>Private Land</td>\n",
       "      <td>Provincial Land</td>\n",
       "      <td>Provincial Land</td>\n",
       "    </tr>\n",
       "    <tr>\n",
       "      <th>general_cause_desc</th>\n",
       "      <td>Recreation</td>\n",
       "      <td>Lightning</td>\n",
       "      <td>Railroad</td>\n",
       "      <td>Lightning</td>\n",
       "      <td>Lightning</td>\n",
       "    </tr>\n",
       "    <tr>\n",
       "      <th>industry_identifier_desc</th>\n",
       "      <td>NaN</td>\n",
       "      <td>NaN</td>\n",
       "      <td>NaN</td>\n",
       "      <td>NaN</td>\n",
       "      <td>NaN</td>\n",
       "    </tr>\n",
       "    <tr>\n",
       "      <th>responsible_group_desc</th>\n",
       "      <td>Campers</td>\n",
       "      <td>NaN</td>\n",
       "      <td>Operators</td>\n",
       "      <td>NaN</td>\n",
       "      <td>NaN</td>\n",
       "    </tr>\n",
       "    <tr>\n",
       "      <th>activity_class</th>\n",
       "      <td>Cooking and Warming</td>\n",
       "      <td>NaN</td>\n",
       "      <td>Rail Transportation</td>\n",
       "      <td>NaN</td>\n",
       "      <td>NaN</td>\n",
       "    </tr>\n",
       "    <tr>\n",
       "      <th>true_cause</th>\n",
       "      <td>Unsafe Fire</td>\n",
       "      <td>NaN</td>\n",
       "      <td>Unpredictable Event</td>\n",
       "      <td>NaN</td>\n",
       "      <td>NaN</td>\n",
       "    </tr>\n",
       "    <tr>\n",
       "      <th>permit_detail_desc</th>\n",
       "      <td>NaN</td>\n",
       "      <td>NaN</td>\n",
       "      <td>NaN</td>\n",
       "      <td>NaN</td>\n",
       "      <td>NaN</td>\n",
       "    </tr>\n",
       "    <tr>\n",
       "      <th>fire_start_date</th>\n",
       "      <td>2012-05-21 12:00:00</td>\n",
       "      <td>2016-06-26 16:30:00</td>\n",
       "      <td>2006-07-01 17:30:00</td>\n",
       "      <td>2003-07-23 22:00:00</td>\n",
       "      <td>2004-07-27 16:40:00</td>\n",
       "    </tr>\n",
       "    <tr>\n",
       "      <th>det_agent_type</th>\n",
       "      <td>GRP</td>\n",
       "      <td>UNP</td>\n",
       "      <td>UNP</td>\n",
       "      <td>UNP</td>\n",
       "      <td>LKT</td>\n",
       "    </tr>\n",
       "    <tr>\n",
       "      <th>det_agent</th>\n",
       "      <td>PATR</td>\n",
       "      <td>LFS</td>\n",
       "      <td>310</td>\n",
       "      <td>310</td>\n",
       "      <td>PD</td>\n",
       "    </tr>\n",
       "    <tr>\n",
       "      <th>discovered_date</th>\n",
       "      <td>2012-05-21 15:55:00</td>\n",
       "      <td>NaN</td>\n",
       "      <td>NaN</td>\n",
       "      <td>2003-07-24 13:00:00</td>\n",
       "      <td>2004-08-01 16:53:00</td>\n",
       "    </tr>\n",
       "    <tr>\n",
       "      <th>reported_date</th>\n",
       "      <td>2012-05-21 15:55:00</td>\n",
       "      <td>2016-06-26 20:25:00</td>\n",
       "      <td>2006-07-01 17:39:00</td>\n",
       "      <td>2003-07-24 13:00:00</td>\n",
       "      <td>2004-08-01 16:57:00</td>\n",
       "    </tr>\n",
       "    <tr>\n",
       "      <th>start_for_fire_date</th>\n",
       "      <td>2012-05-21 15:55:00</td>\n",
       "      <td>2016-06-26 20:25:00</td>\n",
       "      <td>2006-07-01 17:41:00</td>\n",
       "      <td>2003-07-24 13:00:00</td>\n",
       "      <td>2004-08-01 17:29:00</td>\n",
       "    </tr>\n",
       "    <tr>\n",
       "      <th>fire_fighting_start_date</th>\n",
       "      <td>2012-05-21 15:55:00</td>\n",
       "      <td>2016-06-27 10:30:00</td>\n",
       "      <td>2006-07-01 17:50:00</td>\n",
       "      <td>2003-07-24 14:10:00</td>\n",
       "      <td>2004-08-01 18:11:00</td>\n",
       "    </tr>\n",
       "    <tr>\n",
       "      <th>fire_fighting_start_size</th>\n",
       "      <td>0.01</td>\n",
       "      <td>0.01</td>\n",
       "      <td>0.03</td>\n",
       "      <td>0.01</td>\n",
       "      <td>0.3</td>\n",
       "    </tr>\n",
       "    <tr>\n",
       "      <th>initial_action_by</th>\n",
       "      <td>FPD Staff</td>\n",
       "      <td>RAP</td>\n",
       "      <td>HAC1H</td>\n",
       "      <td>HAC1H</td>\n",
       "      <td>Air Tanker</td>\n",
       "    </tr>\n",
       "    <tr>\n",
       "      <th>fire_type</th>\n",
       "      <td>NaN</td>\n",
       "      <td>Crown</td>\n",
       "      <td>Surface</td>\n",
       "      <td>Surface</td>\n",
       "      <td>Ground</td>\n",
       "    </tr>\n",
       "    <tr>\n",
       "      <th>fire_position_on_slope</th>\n",
       "      <td>NaN</td>\n",
       "      <td>Flat</td>\n",
       "      <td>Upper 1/3</td>\n",
       "      <td>Flat</td>\n",
       "      <td>Flat</td>\n",
       "    </tr>\n",
       "    <tr>\n",
       "      <th>weather_conditions_over_fire</th>\n",
       "      <td>NaN</td>\n",
       "      <td>Clear</td>\n",
       "      <td>Clear</td>\n",
       "      <td>Cloudy</td>\n",
       "      <td>CB Dry</td>\n",
       "    </tr>\n",
       "    <tr>\n",
       "      <th>fuel_type</th>\n",
       "      <td>NaN</td>\n",
       "      <td>M2</td>\n",
       "      <td>O1a</td>\n",
       "      <td>M2</td>\n",
       "      <td>C2</td>\n",
       "    </tr>\n",
       "    <tr>\n",
       "      <th>other_fuel_type</th>\n",
       "      <td>NaN</td>\n",
       "      <td>NaN</td>\n",
       "      <td>NaN</td>\n",
       "      <td>NaN</td>\n",
       "      <td>NaN</td>\n",
       "    </tr>\n",
       "    <tr>\n",
       "      <th>bh_fs_date</th>\n",
       "      <td>2012-05-21 15:55:00</td>\n",
       "      <td>2016-06-26 20:27:00</td>\n",
       "      <td>2006-07-01 20:12:00</td>\n",
       "      <td>2003-07-24 14:30:00</td>\n",
       "      <td>2004-08-01 18:03:00</td>\n",
       "    </tr>\n",
       "    <tr>\n",
       "      <th>bh_hectares</th>\n",
       "      <td>0.01</td>\n",
       "      <td>0.01</td>\n",
       "      <td>0.03</td>\n",
       "      <td>0.01</td>\n",
       "      <td>0.5</td>\n",
       "    </tr>\n",
       "    <tr>\n",
       "      <th>uc_fs_date</th>\n",
       "      <td>2012-05-21 15:55:00</td>\n",
       "      <td>2016-06-27 10:10:00</td>\n",
       "      <td>2006-07-01 20:20:00</td>\n",
       "      <td>2003-07-24 15:00:00</td>\n",
       "      <td>2004-08-01 21:00:00</td>\n",
       "    </tr>\n",
       "    <tr>\n",
       "      <th>uc_hectares</th>\n",
       "      <td>0.01</td>\n",
       "      <td>0.01</td>\n",
       "      <td>0.03</td>\n",
       "      <td>0.01</td>\n",
       "      <td>0.3</td>\n",
       "    </tr>\n",
       "    <tr>\n",
       "      <th>to_fs_date</th>\n",
       "      <td>NaN</td>\n",
       "      <td>NaN</td>\n",
       "      <td>NaN</td>\n",
       "      <td>NaN</td>\n",
       "      <td>NaN</td>\n",
       "    </tr>\n",
       "    <tr>\n",
       "      <th>to_hectares</th>\n",
       "      <td>NaN</td>\n",
       "      <td>NaN</td>\n",
       "      <td>NaN</td>\n",
       "      <td>NaN</td>\n",
       "      <td>NaN</td>\n",
       "    </tr>\n",
       "    <tr>\n",
       "      <th>ex_fs_date</th>\n",
       "      <td>2012-05-21 16:10:00</td>\n",
       "      <td>2016-06-27 10:16:00</td>\n",
       "      <td>2006-07-01 20:44:00</td>\n",
       "      <td>2003-07-25 10:00:00</td>\n",
       "      <td>2004-08-01 21:37:00</td>\n",
       "    </tr>\n",
       "    <tr>\n",
       "      <th>ex_hectares</th>\n",
       "      <td>0.01</td>\n",
       "      <td>0.01</td>\n",
       "      <td>0.11</td>\n",
       "      <td>0.01</td>\n",
       "      <td>0.3</td>\n",
       "    </tr>\n",
       "  </tbody>\n",
       "</table>\n",
       "</div>\n",
       "      <button class=\"colab-df-convert\" onclick=\"convertToInteractive('df-56d9bca9-7c3f-4f46-8819-dc014388d727')\"\n",
       "              title=\"Convert this dataframe to an interactive table.\"\n",
       "              style=\"display:none;\">\n",
       "        \n",
       "  <svg xmlns=\"http://www.w3.org/2000/svg\" height=\"24px\"viewBox=\"0 0 24 24\"\n",
       "       width=\"24px\">\n",
       "    <path d=\"M0 0h24v24H0V0z\" fill=\"none\"/>\n",
       "    <path d=\"M18.56 5.44l.94 2.06.94-2.06 2.06-.94-2.06-.94-.94-2.06-.94 2.06-2.06.94zm-11 1L8.5 8.5l.94-2.06 2.06-.94-2.06-.94L8.5 2.5l-.94 2.06-2.06.94zm10 10l.94 2.06.94-2.06 2.06-.94-2.06-.94-.94-2.06-.94 2.06-2.06.94z\"/><path d=\"M17.41 7.96l-1.37-1.37c-.4-.4-.92-.59-1.43-.59-.52 0-1.04.2-1.43.59L10.3 9.45l-7.72 7.72c-.78.78-.78 2.05 0 2.83L4 21.41c.39.39.9.59 1.41.59.51 0 1.02-.2 1.41-.59l7.78-7.78 2.81-2.81c.8-.78.8-2.07 0-2.86zM5.41 20L4 18.59l7.72-7.72 1.47 1.35L5.41 20z\"/>\n",
       "  </svg>\n",
       "      </button>\n",
       "      \n",
       "  <style>\n",
       "    .colab-df-container {\n",
       "      display:flex;\n",
       "      flex-wrap:wrap;\n",
       "      gap: 12px;\n",
       "    }\n",
       "\n",
       "    .colab-df-convert {\n",
       "      background-color: #E8F0FE;\n",
       "      border: none;\n",
       "      border-radius: 50%;\n",
       "      cursor: pointer;\n",
       "      display: none;\n",
       "      fill: #1967D2;\n",
       "      height: 32px;\n",
       "      padding: 0 0 0 0;\n",
       "      width: 32px;\n",
       "    }\n",
       "\n",
       "    .colab-df-convert:hover {\n",
       "      background-color: #E2EBFA;\n",
       "      box-shadow: 0px 1px 2px rgba(60, 64, 67, 0.3), 0px 1px 3px 1px rgba(60, 64, 67, 0.15);\n",
       "      fill: #174EA6;\n",
       "    }\n",
       "\n",
       "    [theme=dark] .colab-df-convert {\n",
       "      background-color: #3B4455;\n",
       "      fill: #D2E3FC;\n",
       "    }\n",
       "\n",
       "    [theme=dark] .colab-df-convert:hover {\n",
       "      background-color: #434B5C;\n",
       "      box-shadow: 0px 1px 3px 1px rgba(0, 0, 0, 0.15);\n",
       "      filter: drop-shadow(0px 1px 2px rgba(0, 0, 0, 0.3));\n",
       "      fill: #FFFFFF;\n",
       "    }\n",
       "  </style>\n",
       "\n",
       "      <script>\n",
       "        const buttonEl =\n",
       "          document.querySelector('#df-56d9bca9-7c3f-4f46-8819-dc014388d727 button.colab-df-convert');\n",
       "        buttonEl.style.display =\n",
       "          google.colab.kernel.accessAllowed ? 'block' : 'none';\n",
       "\n",
       "        async function convertToInteractive(key) {\n",
       "          const element = document.querySelector('#df-56d9bca9-7c3f-4f46-8819-dc014388d727');\n",
       "          const dataTable =\n",
       "            await google.colab.kernel.invokeFunction('convertToInteractive',\n",
       "                                                     [key], {});\n",
       "          if (!dataTable) return;\n",
       "\n",
       "          const docLinkHtml = 'Like what you see? Visit the ' +\n",
       "            '<a target=\"_blank\" href=https://colab.research.google.com/notebooks/data_table.ipynb>data table notebook</a>'\n",
       "            + ' to learn more about interactive tables.';\n",
       "          element.innerHTML = '';\n",
       "          dataTable['output_type'] = 'display_data';\n",
       "          await google.colab.output.renderOutput(dataTable, element);\n",
       "          const docLink = document.createElement('div');\n",
       "          docLink.innerHTML = docLinkHtml;\n",
       "          element.appendChild(docLink);\n",
       "        }\n",
       "      </script>\n",
       "    </div>\n",
       "  </div>\n",
       "  "
      ],
      "text/plain": [
       "                                            9888                 16693  \\\n",
       "fire_number                                CWF106               LWF095   \n",
       "fire_name                                     NaN                  NaN   \n",
       "fire_year                                    2012                 2016   \n",
       "calendar_year                                2012                 2016   \n",
       "assessment_datetime           2012-05-21 15:55:00  2016-06-26 20:25:00   \n",
       "assessment_hectares                          0.01                 0.01   \n",
       "current_size                                 0.01                 0.01   \n",
       "size_class                                      A                    A   \n",
       "fire_location_latitude                  49.815383            56.103483   \n",
       "fire_location_longitude               -113.957033          -112.605833   \n",
       "fire_origin                       Provincial Land      Provincial Land   \n",
       "general_cause_desc                     Recreation            Lightning   \n",
       "industry_identifier_desc                      NaN                  NaN   \n",
       "responsible_group_desc                    Campers                  NaN   \n",
       "activity_class                Cooking and Warming                  NaN   \n",
       "true_cause                            Unsafe Fire                  NaN   \n",
       "permit_detail_desc                            NaN                  NaN   \n",
       "fire_start_date               2012-05-21 12:00:00  2016-06-26 16:30:00   \n",
       "det_agent_type                                GRP                  UNP   \n",
       "det_agent                                    PATR                  LFS   \n",
       "discovered_date               2012-05-21 15:55:00                  NaN   \n",
       "reported_date                 2012-05-21 15:55:00  2016-06-26 20:25:00   \n",
       "start_for_fire_date           2012-05-21 15:55:00  2016-06-26 20:25:00   \n",
       "fire_fighting_start_date      2012-05-21 15:55:00  2016-06-27 10:30:00   \n",
       "fire_fighting_start_size                     0.01                 0.01   \n",
       "initial_action_by                       FPD Staff                  RAP   \n",
       "fire_type                                     NaN                Crown   \n",
       "fire_position_on_slope                        NaN                 Flat   \n",
       "weather_conditions_over_fire                  NaN                Clear   \n",
       "fuel_type                                     NaN                   M2   \n",
       "other_fuel_type                               NaN                  NaN   \n",
       "bh_fs_date                    2012-05-21 15:55:00  2016-06-26 20:27:00   \n",
       "bh_hectares                                  0.01                 0.01   \n",
       "uc_fs_date                    2012-05-21 15:55:00  2016-06-27 10:10:00   \n",
       "uc_hectares                                  0.01                 0.01   \n",
       "to_fs_date                                    NaN                  NaN   \n",
       "to_hectares                                   NaN                  NaN   \n",
       "ex_fs_date                    2012-05-21 16:10:00  2016-06-27 10:16:00   \n",
       "ex_hectares                                  0.01                 0.01   \n",
       "\n",
       "                                            356                  7420   \\\n",
       "fire_number                                EWF123               GWF052   \n",
       "fire_name                                     NaN                  NaN   \n",
       "fire_year                                    2006                 2003   \n",
       "calendar_year                                2006                 2003   \n",
       "assessment_datetime           2006-07-01 17:50:00  2003-07-24 14:10:00   \n",
       "assessment_hectares                          0.03                 0.01   \n",
       "current_size                                 0.11                 0.01   \n",
       "size_class                                      B                    A   \n",
       "fire_location_latitude                   53.93425              55.8724   \n",
       "fire_location_longitude                 -118.9567            -119.6244   \n",
       "fire_origin                          Private Land      Provincial Land   \n",
       "general_cause_desc                       Railroad            Lightning   \n",
       "industry_identifier_desc                      NaN                  NaN   \n",
       "responsible_group_desc                  Operators                  NaN   \n",
       "activity_class                Rail Transportation                  NaN   \n",
       "true_cause                    Unpredictable Event                  NaN   \n",
       "permit_detail_desc                            NaN                  NaN   \n",
       "fire_start_date               2006-07-01 17:30:00  2003-07-23 22:00:00   \n",
       "det_agent_type                                UNP                  UNP   \n",
       "det_agent                                     310                  310   \n",
       "discovered_date                               NaN  2003-07-24 13:00:00   \n",
       "reported_date                 2006-07-01 17:39:00  2003-07-24 13:00:00   \n",
       "start_for_fire_date           2006-07-01 17:41:00  2003-07-24 13:00:00   \n",
       "fire_fighting_start_date      2006-07-01 17:50:00  2003-07-24 14:10:00   \n",
       "fire_fighting_start_size                     0.03                 0.01   \n",
       "initial_action_by                           HAC1H                HAC1H   \n",
       "fire_type                                 Surface              Surface   \n",
       "fire_position_on_slope                  Upper 1/3                 Flat   \n",
       "weather_conditions_over_fire                Clear               Cloudy   \n",
       "fuel_type                                     O1a                   M2   \n",
       "other_fuel_type                               NaN                  NaN   \n",
       "bh_fs_date                    2006-07-01 20:12:00  2003-07-24 14:30:00   \n",
       "bh_hectares                                  0.03                 0.01   \n",
       "uc_fs_date                    2006-07-01 20:20:00  2003-07-24 15:00:00   \n",
       "uc_hectares                                  0.03                 0.01   \n",
       "to_fs_date                                    NaN                  NaN   \n",
       "to_hectares                                   NaN                  NaN   \n",
       "ex_fs_date                    2006-07-01 20:44:00  2003-07-25 10:00:00   \n",
       "ex_hectares                                  0.11                 0.01   \n",
       "\n",
       "                                            8902   \n",
       "fire_number                                HWF319  \n",
       "fire_name                                     NaN  \n",
       "fire_year                                    2004  \n",
       "calendar_year                                2004  \n",
       "assessment_datetime           2004-08-01 18:03:00  \n",
       "assessment_hectares                           0.5  \n",
       "current_size                                  0.3  \n",
       "size_class                                      B  \n",
       "fire_location_latitude                  59.382751  \n",
       "fire_location_longitude               -119.616232  \n",
       "fire_origin                       Provincial Land  \n",
       "general_cause_desc                      Lightning  \n",
       "industry_identifier_desc                      NaN  \n",
       "responsible_group_desc                        NaN  \n",
       "activity_class                                NaN  \n",
       "true_cause                                    NaN  \n",
       "permit_detail_desc                            NaN  \n",
       "fire_start_date               2004-07-27 16:40:00  \n",
       "det_agent_type                                LKT  \n",
       "det_agent                                      PD  \n",
       "discovered_date               2004-08-01 16:53:00  \n",
       "reported_date                 2004-08-01 16:57:00  \n",
       "start_for_fire_date           2004-08-01 17:29:00  \n",
       "fire_fighting_start_date      2004-08-01 18:11:00  \n",
       "fire_fighting_start_size                      0.3  \n",
       "initial_action_by                      Air Tanker  \n",
       "fire_type                                  Ground  \n",
       "fire_position_on_slope                       Flat  \n",
       "weather_conditions_over_fire               CB Dry  \n",
       "fuel_type                                      C2  \n",
       "other_fuel_type                               NaN  \n",
       "bh_fs_date                    2004-08-01 18:03:00  \n",
       "bh_hectares                                   0.5  \n",
       "uc_fs_date                    2004-08-01 21:00:00  \n",
       "uc_hectares                                   0.3  \n",
       "to_fs_date                                    NaN  \n",
       "to_hectares                                   NaN  \n",
       "ex_fs_date                    2004-08-01 21:37:00  \n",
       "ex_hectares                                   0.3  "
      ]
     },
     "execution_count": 10,
     "metadata": {},
     "output_type": "execute_result"
    }
   ],
   "source": [
    "df_96_18.sample(5).T"
   ]
  },
  {
   "cell_type": "code",
   "execution_count": null,
   "id": "wFtQdaaVXjdk",
   "metadata": {
    "colab": {
     "base_uri": "https://localhost:8080/"
    },
    "id": "wFtQdaaVXjdk",
    "outputId": "139570fc-729d-49bb-a15f-12e81c2c0a28"
   },
   "outputs": [
    {
     "name": "stdout",
     "output_type": "stream",
     "text": [
      "<class 'pandas.core.frame.DataFrame'>\n",
      "Int64Index: 31196 entries, 0 to 19843\n",
      "Data columns (total 39 columns):\n",
      " #   Column                        Non-Null Count  Dtype  \n",
      "---  ------                        --------------  -----  \n",
      " 0   fire_number                   31196 non-null  object \n",
      " 1   fire_name                     637 non-null    object \n",
      " 2   fire_year                     31196 non-null  int64  \n",
      " 3   calendar_year                 31196 non-null  int64  \n",
      " 4   assessment_datetime           31196 non-null  object \n",
      " 5   assessment_hectares           31195 non-null  float64\n",
      " 6   current_size                  31195 non-null  float64\n",
      " 7   size_class                    31196 non-null  object \n",
      " 8   fire_location_latitude        31196 non-null  float64\n",
      " 9   fire_location_longitude       31196 non-null  float64\n",
      " 10  fire_origin                   31186 non-null  object \n",
      " 11  general_cause_desc            31196 non-null  object \n",
      " 12  industry_identifier_desc      978 non-null    object \n",
      " 13  responsible_group_desc        13257 non-null  object \n",
      " 14  activity_class                17217 non-null  object \n",
      " 15  true_cause                    15949 non-null  object \n",
      " 16  permit_detail_desc            1078 non-null   object \n",
      " 17  fire_start_date               30647 non-null  object \n",
      " 18  det_agent_type                31194 non-null  object \n",
      " 19  det_agent                     31194 non-null  object \n",
      " 20  discovered_date               28498 non-null  object \n",
      " 21  reported_date                 31194 non-null  object \n",
      " 22  start_for_fire_date           29536 non-null  object \n",
      " 23  fire_fighting_start_date      24224 non-null  object \n",
      " 24  fire_fighting_start_size      24242 non-null  float64\n",
      " 25  initial_action_by             31195 non-null  object \n",
      " 26  fire_type                     28943 non-null  object \n",
      " 27  fire_position_on_slope        28841 non-null  object \n",
      " 28  weather_conditions_over_fire  28844 non-null  object \n",
      " 29  fuel_type                     24322 non-null  object \n",
      " 30  other_fuel_type               6218 non-null   object \n",
      " 31  bh_fs_date                    31192 non-null  object \n",
      " 32  bh_hectares                   31192 non-null  float64\n",
      " 33  uc_fs_date                    31191 non-null  object \n",
      " 34  uc_hectares                   31191 non-null  float64\n",
      " 35  to_fs_date                    3156 non-null   object \n",
      " 36  to_hectares                   3156 non-null   float64\n",
      " 37  ex_fs_date                    31195 non-null  object \n",
      " 38  ex_hectares                   31195 non-null  float64\n",
      "dtypes: float64(9), int64(2), object(28)\n",
      "memory usage: 9.5+ MB\n"
     ]
    }
   ],
   "source": [
    "df_96_18.info()"
   ]
  },
  {
   "cell_type": "markdown",
   "id": "O19rIMI108wY",
   "metadata": {
    "id": "O19rIMI108wY"
   },
   "source": [
    "### Avaliação de atributos para tarefa de classificação"
   ]
  },
  {
   "cell_type": "code",
   "execution_count": null,
   "id": "bNFEGVdvy8Fi",
   "metadata": {
    "colab": {
     "base_uri": "https://localhost:8080/"
    },
    "id": "bNFEGVdvy8Fi",
    "outputId": "55c4c9ee-d2be-4ddb-9908-aa01eb54005d"
   },
   "outputs": [
    {
     "data": {
      "text/plain": [
       "787"
      ]
     },
     "execution_count": 12,
     "metadata": {},
     "output_type": "execute_result"
    }
   ],
   "source": [
    "df_96_18[df_96_18['general_cause_desc'] == 'Undetermined']['general_cause_desc'].count()"
   ]
  },
  {
   "cell_type": "code",
   "execution_count": null,
   "id": "4waG3-GJzf2Q",
   "metadata": {
    "colab": {
     "base_uri": "https://localhost:8080/"
    },
    "id": "4waG3-GJzf2Q",
    "outputId": "acdd2596-c025-45f5-fb07-a6c3d9b18a77"
   },
   "outputs": [
    {
     "data": {
      "text/plain": [
       "Lightning               13080\n",
       "Recreation               6175\n",
       "Resident                 5392\n",
       "Incendiary               1899\n",
       "Power Line Industry       988\n",
       "Other Industry            891\n",
       "Undetermined              787\n",
       "Forest Industry           514\n",
       "Oil & Gas Industry        470\n",
       "Agriculture Industry      341\n",
       "Railroad                  245\n",
       "Miscellaneous Known       225\n",
       "Government                 90\n",
       "Restart                    74\n",
       "Prescribed Fire            24\n",
       "Under Investigation         1\n",
       "Name: general_cause_desc, dtype: int64"
      ]
     },
     "execution_count": 13,
     "metadata": {},
     "output_type": "execute_result"
    }
   ],
   "source": [
    "df_96_18['general_cause_desc'].value_counts()"
   ]
  },
  {
   "cell_type": "code",
   "execution_count": null,
   "id": "V2eOgI2GCvOm",
   "metadata": {
    "colab": {
     "base_uri": "https://localhost:8080/"
    },
    "id": "V2eOgI2GCvOm",
    "outputId": "3d633bd3-31cd-4961-ddc1-70dd00beb94f"
   },
   "outputs": [
    {
     "data": {
      "text/plain": [
       "A    19386\n",
       "B     9185\n",
       "C     1663\n",
       "E      520\n",
       "D      442\n",
       "Name: size_class, dtype: int64"
      ]
     },
     "execution_count": 14,
     "metadata": {},
     "output_type": "execute_result"
    }
   ],
   "source": [
    "df_96_18['size_class'].value_counts()"
   ]
  },
  {
   "cell_type": "markdown",
   "id": "no8Pqepk1K7H",
   "metadata": {
    "id": "no8Pqepk1K7H"
   },
   "source": [
    "### Correção de alguns registros dos atributos 'fire type' and 'fuel type'"
   ]
  },
  {
   "cell_type": "code",
   "execution_count": null,
   "id": "HWsGliv8vRyI",
   "metadata": {
    "id": "HWsGliv8vRyI"
   },
   "outputs": [],
   "source": [
    "df_96_18['fire_type'] = df_96_18['fire_type'].map(lambda v: v.replace('   Surface', 'Surface'), na_action = 'ignore')\n",
    "df_96_18['fire_type'] = df_96_18['fire_type'].map(lambda v: v.replace('  Surface', 'Surface'), na_action = 'ignore')\n",
    "df_96_18['fire_type'] = df_96_18['fire_type'].map(lambda v: v.replace('    Ground', 'Ground'), na_action = 'ignore')"
   ]
  },
  {
   "cell_type": "code",
   "execution_count": null,
   "id": "E6Hpc-txv-J6",
   "metadata": {
    "colab": {
     "base_uri": "https://localhost:8080/"
    },
    "id": "E6Hpc-txv-J6",
    "outputId": "f49afd9e-447c-470a-b01c-32b53454c497"
   },
   "outputs": [
    {
     "data": {
      "text/plain": [
       "[9955]"
      ]
     },
     "execution_count": 16,
     "metadata": {},
     "output_type": "execute_result"
    }
   ],
   "source": [
    "void_reg_fire_type_index = list(df_96_18[df_96_18['fire_type'] == '  ']['fire_type'].index)\n",
    "void_reg_fire_type_index"
   ]
  },
  {
   "cell_type": "code",
   "execution_count": null,
   "id": "-vxSKAn2wMvk",
   "metadata": {
    "id": "-vxSKAn2wMvk"
   },
   "outputs": [],
   "source": [
    "# Remoção dos registros nos quais \"fuel_type\" está com espaço em branco\n",
    "df_96_18.drop(void_reg_fire_type_index, axis=0, inplace=True)"
   ]
  },
  {
   "cell_type": "code",
   "execution_count": null,
   "id": "gBsSDWc2z_hf",
   "metadata": {
    "colab": {
     "base_uri": "https://localhost:8080/"
    },
    "id": "gBsSDWc2z_hf",
    "outputId": "45cee9de-9c31-4ba8-a194-259414e8ebc3"
   },
   "outputs": [
    {
     "data": {
      "text/plain": [
       "Surface    19947\n",
       "Ground      6678\n",
       "Crown       2315\n",
       "               1\n",
       "Name: fire_type, dtype: int64"
      ]
     },
     "execution_count": 18,
     "metadata": {},
     "output_type": "execute_result"
    }
   ],
   "source": [
    "df_96_18['fire_type'].value_counts()"
   ]
  },
  {
   "cell_type": "code",
   "execution_count": null,
   "id": "1ZCSA8iAr26v",
   "metadata": {
    "id": "1ZCSA8iAr26v"
   },
   "outputs": [],
   "source": [
    "# Correção de um registro no qual \"C2\" foi armazenado como \" C2\"\n",
    "df_96_18['fuel_type'] = df_96_18['fuel_type'].map(lambda v: v.replace(' C2', 'C2'), na_action = 'ignore')"
   ]
  },
  {
   "cell_type": "code",
   "execution_count": null,
   "id": "DXuly5h9s4bc",
   "metadata": {
    "colab": {
     "base_uri": "https://localhost:8080/"
    },
    "id": "DXuly5h9s4bc",
    "outputId": "e4961eca-40f5-4ec5-c590-e4f666e791bc"
   },
   "outputs": [
    {
     "data": {
      "text/plain": [
       "[3462, 10959, 11089, 11210]"
      ]
     },
     "execution_count": 20,
     "metadata": {},
     "output_type": "execute_result"
    }
   ],
   "source": [
    "# Busca dos indices para os quais o registro de \"fuel_type\" é igual a espaço vazio\n",
    "void_reg_fuel_type_index = list(df_96_18[df_96_18['fuel_type'] == ' ']['fuel_type'].index)\n",
    "void_reg_fuel_type_index"
   ]
  },
  {
   "cell_type": "code",
   "execution_count": null,
   "id": "0ycFMW4Ntdxj",
   "metadata": {
    "id": "0ycFMW4Ntdxj"
   },
   "outputs": [],
   "source": [
    "# Remoção dos registros nos quais \"fuel_type\" está com espaço em branco\n",
    "df_96_18.drop(void_reg_fuel_type_index, axis=0, inplace=True)"
   ]
  },
  {
   "cell_type": "code",
   "execution_count": null,
   "id": "3QkhpZN5aeBX",
   "metadata": {
    "colab": {
     "base_uri": "https://localhost:8080/"
    },
    "id": "3QkhpZN5aeBX",
    "outputId": "45bdd9c1-9068-4a4c-8cd6-ffefa26db8e7"
   },
   "outputs": [
    {
     "data": {
      "text/plain": [
       "C2     9582\n",
       "O1a    4184\n",
       "M2     2980\n",
       "O1b    2301\n",
       "C3     1081\n",
       "C1     1030\n",
       "M1      901\n",
       "D1      720\n",
       "S2      652\n",
       "S1      606\n",
       "C4      225\n",
       "C7       24\n",
       "M3       16\n",
       "M4        7\n",
       "C6        3\n",
       "S3        3\n",
       "Name: fuel_type, dtype: int64"
      ]
     },
     "execution_count": 22,
     "metadata": {},
     "output_type": "execute_result"
    }
   ],
   "source": [
    "df_96_18['fuel_type'].value_counts()"
   ]
  },
  {
   "cell_type": "code",
   "execution_count": null,
   "id": "rVq35B0jwc93",
   "metadata": {
    "colab": {
     "base_uri": "https://localhost:8080/"
    },
    "id": "rVq35B0jwc93",
    "outputId": "61ef716c-8596-4b0a-bca7-1bac04f5b425"
   },
   "outputs": [
    {
     "data": {
      "text/plain": [
       "(31186, 39)"
      ]
     },
     "execution_count": 23,
     "metadata": {},
     "output_type": "execute_result"
    }
   ],
   "source": [
    "# Após exclusão de registros, reordena os index\n",
    "df_96_18.reset_index(drop=True, inplace=True)\n",
    "df_96_18.shape"
   ]
  },
  {
   "cell_type": "markdown",
   "id": "BUUOyRC82H-r",
   "metadata": {
    "id": "BUUOyRC82H-r"
   },
   "source": [
    "### Verificação da existência de registros duplicados"
   ]
  },
  {
   "cell_type": "code",
   "execution_count": null,
   "id": "oDB2Nsf227Hb",
   "metadata": {
    "colab": {
     "base_uri": "https://localhost:8080/"
    },
    "id": "oDB2Nsf227Hb",
    "outputId": "fe3ccd66-dcf0-40b5-909c-6d22eca91489"
   },
   "outputs": [
    {
     "data": {
      "text/plain": [
       "False    31186\n",
       "dtype: int64"
      ]
     },
     "execution_count": 24,
     "metadata": {},
     "output_type": "execute_result"
    }
   ],
   "source": [
    "df_96_18.duplicated(keep='first').value_counts()\n",
    "# 'False' corresponde aos dados não duplicados"
   ]
  },
  {
   "cell_type": "markdown",
   "id": "U3G4g_qX2SFO",
   "metadata": {
    "id": "U3G4g_qX2SFO"
   },
   "source": [
    "### Preenchimento dos NAN do atributo `fuel_type`"
   ]
  },
  {
   "cell_type": "markdown",
   "id": "ZHGhOAa72mlY",
   "metadata": {
    "id": "ZHGhOAa72mlY"
   },
   "source": [
    "* Quando a classificação do tipo de combustível (fuel_type) é \"outro tipo de combustível\" (other_fuel_type), o atributo `fuel_type` não é preenchido e o registro é feito no atributo `other_fuel_type`;\n",
    "* Portanto, foram verificados os registros NAN para `fuel_type` que correspondiam a registros preenchidos em `other_fuel_type` e substituiu-se tais registros por uma classe adicional chamada `other_fuel` (OF)."
   ]
  },
  {
   "cell_type": "code",
   "execution_count": null,
   "id": "-y2vtnzdxZRO",
   "metadata": {
    "id": "-y2vtnzdxZRO"
   },
   "outputs": [],
   "source": [
    "for i,fuel in enumerate(df_96_18['fuel_type']):\n",
    "  if pd.isna(fuel):\n",
    "    if not pd.isna(df_96_18.loc[i,'other_fuel_type']):\n",
    "      df_96_18.loc[i,'fuel_type'] = 'OF'               # OF = Other Fuel"
   ]
  },
  {
   "cell_type": "code",
   "execution_count": null,
   "id": "T2qh2Rf3zr69",
   "metadata": {
    "id": "T2qh2Rf3zr69"
   },
   "outputs": [],
   "source": [
    "df_96_18['fuel_type'].value_counts()"
   ]
  },
  {
   "cell_type": "markdown",
   "id": "eWUtO-glvj0U",
   "metadata": {
    "id": "eWUtO-glvj0U"
   },
   "source": [
    "### Verificação do Percentual de Dados Ausentes em cada Coluna do Dataset"
   ]
  },
  {
   "cell_type": "code",
   "execution_count": null,
   "id": "vicwZaMwkGn5",
   "metadata": {
    "id": "vicwZaMwkGn5"
   },
   "outputs": [],
   "source": [
    "(df_96_18.isna().sum()/df_96_18.shape[0])*100"
   ]
  },
  {
   "cell_type": "markdown",
   "id": "lVnAQCev4zuo",
   "metadata": {
    "id": "lVnAQCev4zuo"
   },
   "source": [
    "### Descrição de alguns atributos e avaliação de possíveis atributos adicionais"
   ]
  },
  {
   "cell_type": "markdown",
   "id": "WnNom3KLJB4N",
   "metadata": {
    "id": "WnNom3KLJB4N"
   },
   "source": [
    "* `fire_start_date`: data e hora de início do incêndio;\n",
    "* `discovered_date`: instante de descoberta do incêndio;\n",
    "* `reported_date`: data e hora que o incêndio foi reportado a primeira vez as autoridades;\n",
    "* `start_for_fire_date`: data e hora em que os primeiros recursos foram mobilizados para combate ao incêndio;\n",
    "* `fire_fighting_start_date`: data e hora de início de combate ao incêndio pelas autoridades;\n",
    "* `bh_fs_date`: A data e hora em que o Comandante do Incidente (IC) determinou que o incêndio florestal estava em estado de incêndio (BH);\n",
    "* `uc_fs_date`: A data e hora em que o Comandante do Incidente determinou que o incêndio florestal estava no estado de fogo sob controle (UC);\n",
    "* `ex_fs_date`: Esta é a data e hora em que o Comandante do Incidente determinou que o incêndio florestal estava completamente extinto (EX)."
   ]
  },
  {
   "cell_type": "markdown",
   "id": "CX-ayE7PPfo-",
   "metadata": {
    "id": "CX-ayE7PPfo-"
   },
   "source": [
    "**Atributos possíveis**: \n",
    "1. Dia, mês e hora baseado em: `fire_start_date`;\n",
    "2. Turno baseado em: `fire_start_date`;\n",
    "3. Tempo de início de combate ao incêndio: `fire_fighting_start_date` - `fire_start_date`;\n",
    "4. Tempo de controle do incêndio: `uc_fs_date` - `bh_fs_date`;\n",
    "5. Tempo de extinção do incêndio: `ex_fs_date` - `bh_fs_date`;\n",
    "6. Tempo total do incêndio: `ex_fs_date` - `fire_start_date`;\n",
    "7. Área florestal na qual está localizado o local de ignição do fogo. Indicado pela primeira letra de `fire_number`:\n",
    "  * C–Calgary\n",
    "  * E–Edson\n",
    "  * H–High Level\n",
    "  * G–Grande Prairie\n",
    "  * L–Lac La Biche\n",
    "  * M–Fort McMurray\n",
    "  * P–Peace River\n",
    "  * R–Rocky\n",
    "  * S–Slave Lake\n",
    "  * W–Whitecourt"
   ]
  },
  {
   "cell_type": "markdown",
   "id": "3FkVvo6cxgmY",
   "metadata": {
    "id": "3FkVvo6cxgmY"
   },
   "source": [
    "### Ajuste dos Tipos de Variáveis"
   ]
  },
  {
   "cell_type": "code",
   "execution_count": null,
   "id": "Lr6HpAqEnctS",
   "metadata": {
    "id": "Lr6HpAqEnctS"
   },
   "outputs": [],
   "source": [
    "date_columns = ['fire_start_date', 'discovered_date', 'reported_date', 'start_for_fire_date', 'fire_fighting_start_date',\n",
    "                'bh_fs_date', 'uc_fs_date', 'ex_fs_date']\n",
    "\n",
    "for date in date_columns:\n",
    "  df_96_18[date] = pd.to_datetime(df_96_18[date])"
   ]
  },
  {
   "cell_type": "code",
   "execution_count": null,
   "id": "faefc04a",
   "metadata": {
    "id": "faefc04a"
   },
   "outputs": [],
   "source": [
    "df_96_18.info()"
   ]
  },
  {
   "cell_type": "markdown",
   "id": "SkZrTGGXv9BV",
   "metadata": {
    "id": "SkZrTGGXv9BV"
   },
   "source": [
    "### Remoção de Colunas"
   ]
  },
  {
   "cell_type": "code",
   "execution_count": null,
   "id": "4lFqNzIGhzh6",
   "metadata": {
    "id": "4lFqNzIGhzh6"
   },
   "outputs": [],
   "source": [
    "removed_columns = ['fire_name', 'industry_identifier_desc', 'responsible_group_desc', 'activity_class', 'true_cause', \n",
    "                   'permit_detail_desc', 'other_fuel_type', 'to_fs_date', 'to_hectares', 'assessment_datetime', 'fire_year',\n",
    "                   'calendar_year', 'fire_fighting_start_size', 'discovered_date', 'fire_fighting_start_date',\n",
    "                   'reported_date', 'start_for_fire_date']\n",
    "df_96_18 = df_96_18.drop(removed_columns, axis=1)"
   ]
  },
  {
   "cell_type": "code",
   "execution_count": null,
   "id": "bWS5Tk8rz5J2",
   "metadata": {
    "id": "bWS5Tk8rz5J2"
   },
   "outputs": [],
   "source": [
    "df_96_18.columns"
   ]
  },
  {
   "cell_type": "markdown",
   "id": "VOFcNW96xFO1",
   "metadata": {
    "id": "VOFcNW96xFO1"
   },
   "source": [
    "### Remoção de Linhas (Registros)"
   ]
  },
  {
   "cell_type": "markdown",
   "id": "U5c7AZvv5_sJ",
   "metadata": {
    "id": "U5c7AZvv5_sJ"
   },
   "source": [
    "* Verificação do percentual de registros ausentes para cada atributo antes da aplicação do `dropna`. "
   ]
  },
  {
   "cell_type": "code",
   "execution_count": null,
   "id": "rrE1vS-b0apv",
   "metadata": {
    "id": "rrE1vS-b0apv"
   },
   "outputs": [],
   "source": [
    "(df_96_18.isna().sum()/df_96_18.shape[0])*100"
   ]
  },
  {
   "cell_type": "code",
   "execution_count": null,
   "id": "O38-KGuA1E0g",
   "metadata": {
    "id": "O38-KGuA1E0g"
   },
   "outputs": [],
   "source": [
    "df_96_18.dropna(axis=0, how='any', inplace=True, subset=df_96_18.columns)\n",
    "df_96_18.reset_index(drop=True, inplace=True)\n",
    "df_96_18.shape"
   ]
  },
  {
   "cell_type": "markdown",
   "id": "suv7UzMo7f6p",
   "metadata": {
    "id": "suv7UzMo7f6p"
   },
   "source": [
    "### Nova verificação de Dados Ausentes após Remoção de Linhas e Colunas"
   ]
  },
  {
   "cell_type": "code",
   "execution_count": null,
   "id": "7KDsrp-m7ZcE",
   "metadata": {
    "id": "7KDsrp-m7ZcE"
   },
   "outputs": [],
   "source": [
    "(df_96_18.isna().sum()/df_96_18.shape[0])*100"
   ]
  },
  {
   "cell_type": "markdown",
   "id": "AQ-pG9OK6bTX",
   "metadata": {
    "id": "AQ-pG9OK6bTX"
   },
   "source": [
    "### Adição de novos atributos baseados nos atributos existentes no dataset"
   ]
  },
  {
   "cell_type": "markdown",
   "id": "MuonD1LG61tC",
   "metadata": {
    "id": "MuonD1LG61tC"
   },
   "source": [
    "* **Dia, Mês, Ano, Turno** e **Estações** extraídos do atributo `fire_start_date`"
   ]
  },
  {
   "cell_type": "code",
   "execution_count": null,
   "id": "oog3jfLcxYLe",
   "metadata": {
    "id": "oog3jfLcxYLe"
   },
   "outputs": [],
   "source": [
    "# Separando dia, mês e ano\n",
    "df_96_18['fire_start_day'] = df_96_18['fire_start_date'].apply(lambda dt: dt.day)      \n",
    "df_96_18['fire_start_month'] = df_96_18['fire_start_date'].apply(lambda dt: dt.month)      \n",
    "df_96_18['fire_start_year'] = df_96_18['fire_start_date'].apply(lambda dt: dt.year)      "
   ]
  },
  {
   "cell_type": "code",
   "execution_count": null,
   "id": "B7xdB7covVJs",
   "metadata": {
    "id": "B7xdB7covVJs"
   },
   "outputs": [],
   "source": [
    "# Criando feature de turnos\n",
    "def define_day_period(dt):\n",
    "  hour = dt.strftime(\"%H:%M:%S\")\n",
    "  if (hour >= '00:00') and (hour <= '12:00'):\n",
    "    return 'morning'\n",
    "  elif (hour > '12:00') and (hour <= '18:00'):\n",
    "    return 'afternoon'\n",
    "  else:\n",
    "    return 'night'\n",
    "  \n",
    "df_96_18['day_period'] = df_96_18['fire_start_date'].apply(lambda dt: define_day_period(dt))"
   ]
  },
  {
   "cell_type": "markdown",
   "id": "46fiK3_F8mtn",
   "metadata": {
    "id": "46fiK3_F8mtn"
   },
   "source": [
    "**Estações do ano**: \n",
    "* Primavera – março a maio. `É quando a neve começa a derreter e fica mais quente.`<br>\n",
    "* Verão – Junho a Agosto/Setembro. `As temperaturas diurnas são geralmente superiores a 20 graus Celsius e podem atingir 30 graus Celsius ou mais em julho.`<br>\n",
    "* Outono – setembro a novembro.<br>\n",
    "* Inverno – dezembro a fevereiro ou mais tarde."
   ]
  },
  {
   "cell_type": "code",
   "execution_count": null,
   "id": "wvexgqs4dCGX",
   "metadata": {
    "id": "wvexgqs4dCGX"
   },
   "outputs": [],
   "source": [
    "# Criando feature de estações do ano\n",
    "def define_season(dt):\n",
    "  month = dt.month\n",
    "  if (month >= 3) and (month <= 5):\n",
    "    return 'spring'\n",
    "  elif (month >= 6) and (month <= 8):\n",
    "    return 'summer'\n",
    "  elif (month >= 9) and (month <= 11):\n",
    "    return 'autumn'\n",
    "  else:\n",
    "    return 'winter'\n",
    "  \n",
    "df_96_18['seasons'] = df_96_18['fire_start_date'].apply(lambda dt: define_season(dt))"
   ]
  },
  {
   "cell_type": "code",
   "execution_count": null,
   "id": "19p16d3aT4jp",
   "metadata": {
    "id": "19p16d3aT4jp"
   },
   "outputs": [],
   "source": [
    "# Criando feature de tempo de controle \n",
    "df_96_18['control_time'] = (df_96_18['uc_fs_date'] - df_96_18['fire_start_date']).apply(lambda t: (t.components[0]*24*60) + (t.components[1]*60) + t.components[2])"
   ]
  },
  {
   "cell_type": "code",
   "execution_count": null,
   "id": "jX5CvjU9UXQv",
   "metadata": {
    "id": "jX5CvjU9UXQv"
   },
   "outputs": [],
   "source": [
    "# Criando feature de tempo de extinção\n",
    "df_96_18['extinction_time'] = (df_96_18['ex_fs_date'] - df_96_18['fire_start_date']).apply(lambda t: (t.components[0]*24*60) + (t.components[1]*60) + t.components[2])"
   ]
  },
  {
   "cell_type": "code",
   "execution_count": null,
   "id": "IRYxt-FQVwuQ",
   "metadata": {
    "id": "IRYxt-FQVwuQ"
   },
   "outputs": [],
   "source": [
    "# Criando feature delta de extinção: intervalo de tempo entre o controle do fogo e a extinção\n",
    "df_96_18['extinction_delta'] = df_96_18['extinction_time'] - df_96_18['control_time']"
   ]
  },
  {
   "cell_type": "code",
   "execution_count": null,
   "id": "gMzpC0Hq1WdY",
   "metadata": {
    "id": "gMzpC0Hq1WdY"
   },
   "outputs": [],
   "source": [
    "# Criando feature eficiência de extinção: tempo de extinçao do incêndio / (area total queimada * 10000)\n",
    "# A multiplicação por 10000 converte hectares em metros quadrados\n",
    "df_96_18['extinction_efficiency'] = round(df_96_18['extinction_time'] / (df_96_18['ex_hectares'] * 10000), 4)"
   ]
  },
  {
   "cell_type": "code",
   "execution_count": null,
   "id": "fPfJeW5myZ00",
   "metadata": {
    "id": "fPfJeW5myZ00"
   },
   "outputs": [],
   "source": [
    "# Criando feature causa do fogo: natural ou humana\n",
    "df_96_18['fire_cause'] = df_96_18['general_cause_desc'].apply(lambda c: 'natural' if c == 'Lightning' else 'human' )"
   ]
  },
  {
   "cell_type": "code",
   "execution_count": null,
   "id": "3YRW-_9TWGS9",
   "metadata": {
    "id": "3YRW-_9TWGS9"
   },
   "outputs": [],
   "source": [
    "# Criando feature de área de proteção florestal\n",
    "def define_forest_protection_area(l):\n",
    "  cod = str(l[0:3]).lower().strip()\n",
    "  if (cod == 'cwf') or (cod[1:] == '01'):\n",
    "    return 'Calgary'\n",
    "  elif (cod == 'ewf') or (cod[1:] == '02'):\n",
    "    return 'Edson'\n",
    "  elif (cod == 'hwf') or (cod[1:] == '03'):\n",
    "    return 'High Level'\n",
    "  elif (cod == 'gwf') or (cod[1:] == '04'):\n",
    "    return 'Grande Prairie'\n",
    "  elif (cod == 'lwf') or (cod[1:] == '05'):\n",
    "    return 'Lac La Biche'\n",
    "  elif (cod == 'mwf'):\n",
    "    return 'Fort McMurray'\n",
    "  elif (cod == 'pwf') or (cod[1:] == '06'):\n",
    "    return 'Peace River'\n",
    "  elif (cod == 'rwf') or (cod[1:] == '07'):\n",
    "    return 'Rocky'\n",
    "  elif (cod == 'swf') or (cod[1:] == '08'):\n",
    "    return 'Slave Lake'\n",
    "  elif (cod == 'wwf') or (cod[1:] == '09'):\n",
    "    return 'Whitecourt' \n",
    "  else:\n",
    "    return 'Not Defined'\n",
    "  \n",
    "df_96_18['forest_protection_area'] = df_96_18['fire_number'].apply(lambda l: define_forest_protection_area(l))"
   ]
  },
  {
   "cell_type": "code",
   "execution_count": null,
   "id": "CVT8NpHEjBUL",
   "metadata": {
    "id": "CVT8NpHEjBUL"
   },
   "outputs": [],
   "source": [
    "df_96_18['forest_protection_area'].value_counts()"
   ]
  },
  {
   "cell_type": "code",
   "execution_count": null,
   "id": "FT3fD640aE3L",
   "metadata": {
    "id": "FT3fD640aE3L"
   },
   "outputs": [],
   "source": [
    "df_96_18.info()"
   ]
  },
  {
   "cell_type": "code",
   "execution_count": null,
   "id": "PO5FeOW_aa9a",
   "metadata": {
    "id": "PO5FeOW_aa9a"
   },
   "outputs": [],
   "source": [
    "# Novas features criadas\n",
    "df_96_18[['fire_start_day','fire_start_month','fire_start_year','day_period','seasons','control_time','extinction_time', 'ex_hectares', 'extinction_delta', 'extinction_efficiency', 'forest_protection_area']].sample(10)"
   ]
  },
  {
   "cell_type": "code",
   "execution_count": null,
   "id": "qwgOv4tvIG9H",
   "metadata": {
    "id": "qwgOv4tvIG9H"
   },
   "outputs": [],
   "source": [
    "df_96_18.describe().T"
   ]
  },
  {
   "cell_type": "markdown",
   "id": "daZVLVzuFjXp",
   "metadata": {
    "id": "daZVLVzuFjXp"
   },
   "source": [
    "#### Corrigindo Inconsistências: tempo de controle zero e tempo de extinção zero"
   ]
  },
  {
   "cell_type": "code",
   "execution_count": null,
   "id": "Q-Dq1vLnXfZ1",
   "metadata": {
    "id": "Q-Dq1vLnXfZ1"
   },
   "outputs": [],
   "source": [
    "df_96_18[df_96_18['extinction_time'] == 0][['fire_start_date', 'fire_number', 'extinction_time']]"
   ]
  },
  {
   "cell_type": "code",
   "execution_count": null,
   "id": "OvfN98HSZVfv",
   "metadata": {
    "id": "OvfN98HSZVfv"
   },
   "outputs": [],
   "source": [
    "df_96_18[df_96_18['control_time'] == 0]['control_time'].count()"
   ]
  },
  {
   "cell_type": "markdown",
   "id": "8vHIiBSdGRVF",
   "metadata": {
    "id": "8vHIiBSdGRVF"
   },
   "source": [
    "ATENÇÃO!!!\n",
    "* Os registros com tempo de extinção zero estão contidos nos intervalo de registros com tempo de controle zero. Portanto, basta excluir (drop) os registros referentes ao tempo de controle.\n"
   ]
  },
  {
   "cell_type": "code",
   "execution_count": null,
   "id": "RqkqTaek3veL",
   "metadata": {
    "id": "RqkqTaek3veL"
   },
   "outputs": [],
   "source": [
    "# Excluindo registros com tempo de controle igual a zero\n",
    "zero_reg_control_time_index = list(df_96_18[df_96_18['control_time'] == 0].index)\n",
    "\n",
    "df_96_18.drop(zero_reg_control_time_index, axis=0, inplace=True)\n",
    "\n",
    "df_96_18.reset_index(drop=True, inplace=True)\n",
    "df_96_18.shape"
   ]
  },
  {
   "cell_type": "markdown",
   "id": "AAx0lLmLF5og",
   "metadata": {
    "id": "AAx0lLmLF5og"
   },
   "source": [
    "### Análise das Variáveis Numéricas do Dataset"
   ]
  },
  {
   "cell_type": "code",
   "execution_count": null,
   "id": "OKj39NnTN3Cz",
   "metadata": {
    "id": "OKj39NnTN3Cz"
   },
   "outputs": [],
   "source": [
    "df_96_18.describe().T"
   ]
  },
  {
   "cell_type": "markdown",
   "id": "k8OVM3TSMb6d",
   "metadata": {
    "id": "k8OVM3TSMb6d"
   },
   "source": [
    "* Verificação do registro com eficiência de extinção zero"
   ]
  },
  {
   "cell_type": "code",
   "execution_count": null,
   "id": "taeKz-sXIO9L",
   "metadata": {
    "id": "taeKz-sXIO9L"
   },
   "outputs": [],
   "source": [
    "df_96_18[df_96_18['extinction_efficiency'] == 0].T"
   ]
  },
  {
   "cell_type": "code",
   "execution_count": null,
   "id": "yuIGqMAKKhVi",
   "metadata": {
    "id": "yuIGqMAKKhVi"
   },
   "outputs": [],
   "source": [
    "df_96_18.loc[26004, 'extinction_time']/(df_96_18.loc[26004, 'ex_hectares']*10000)"
   ]
  },
  {
   "cell_type": "markdown",
   "id": "6OqjU_cxzBZ5",
   "metadata": {
    "id": "6OqjU_cxzBZ5"
   },
   "source": [
    "### Análise das Variáveis Categóricas do Dataset "
   ]
  },
  {
   "cell_type": "code",
   "execution_count": null,
   "id": "7DD9xW07FeH-",
   "metadata": {
    "id": "7DD9xW07FeH-"
   },
   "outputs": [],
   "source": [
    "df_96_18.describe(include='object').T"
   ]
  },
  {
   "cell_type": "markdown",
   "id": "2RJPN7nnorC3",
   "metadata": {
    "id": "2RJPN7nnorC3"
   },
   "source": [
    "* Ranking das áreas de proteção ambiental mais afetadas pelos incêndios"
   ]
  },
  {
   "cell_type": "code",
   "execution_count": null,
   "id": "ownOWyWUo639",
   "metadata": {
    "id": "ownOWyWUo639"
   },
   "outputs": [],
   "source": [
    "dict_forest_protection_area_ranking = {'forest_protection_area':df_96_18['forest_protection_area'].value_counts().index, 'ranking':df_96_18['forest_protection_area'].value_counts().values}\n",
    "\n",
    "df_forest_protection_area_ranking = pd.DataFrame(dict_forest_protection_area_ranking)\n",
    "df_forest_protection_area_ranking"
   ]
  },
  {
   "cell_type": "markdown",
   "id": "ioR-HTGBl8Rs",
   "metadata": {
    "id": "ioR-HTGBl8Rs"
   },
   "source": [
    "* Ranking das vegetações mais atingidas pelos incêndios"
   ]
  },
  {
   "cell_type": "code",
   "execution_count": null,
   "id": "Qymk6va9kB5K",
   "metadata": {
    "id": "Qymk6va9kB5K"
   },
   "outputs": [],
   "source": [
    "dict_vegetation_cover_ranking = {'vegetation_code':df_96_18['fuel_type'].value_counts().index, 'ranking':df_96_18['fuel_type'].value_counts().values}\n",
    "\n",
    "df_vegetation_cover_ranking = pd.DataFrame(dict_vegetation_cover_ranking)\n",
    "df_vegetation_cover_ranking"
   ]
  },
  {
   "cell_type": "markdown",
   "id": "bZGTtmd4mJh0",
   "metadata": {
    "id": "bZGTtmd4mJh0"
   },
   "source": [
    "* Ranking das estações do ano"
   ]
  },
  {
   "cell_type": "code",
   "execution_count": null,
   "id": "Rn2LVcYlmxpy",
   "metadata": {
    "id": "Rn2LVcYlmxpy"
   },
   "outputs": [],
   "source": [
    "dict_season_ranking = {'season':df_96_18['seasons'].value_counts().index, 'ranking':df_96_18['seasons'].value_counts().values}\n",
    "\n",
    "df_season_ranking = pd.DataFrame(dict_season_ranking)\n",
    "df_season_ranking"
   ]
  },
  {
   "cell_type": "markdown",
   "id": "-wSqqe8UGUk5",
   "metadata": {
    "id": "-wSqqe8UGUk5"
   },
   "source": [
    "### Boxplots"
   ]
  },
  {
   "cell_type": "code",
   "execution_count": null,
   "id": "od4EiL4RIWvZ",
   "metadata": {
    "id": "od4EiL4RIWvZ"
   },
   "outputs": [],
   "source": [
    "df_96_18.boxplot(column=['ex_hectares'], figsize=(10,8))"
   ]
  },
  {
   "cell_type": "code",
   "execution_count": null,
   "id": "6OAd-81sGc8p",
   "metadata": {
    "id": "6OAd-81sGc8p"
   },
   "outputs": [],
   "source": [
    "df_96_18.boxplot(column=['extinction_delta'], figsize=(10,8))"
   ]
  },
  {
   "cell_type": "code",
   "execution_count": null,
   "id": "9q927aCNHwyN",
   "metadata": {
    "id": "9q927aCNHwyN"
   },
   "outputs": [],
   "source": [
    "df_96_18.boxplot(column=['extinction_time'], figsize=(10,8))"
   ]
  },
  {
   "cell_type": "markdown",
   "id": "L_CfblwbFNgg",
   "metadata": {
    "id": "L_CfblwbFNgg"
   },
   "source": [
    "### Correlação"
   ]
  },
  {
   "cell_type": "code",
   "execution_count": null,
   "id": "RpkqgJ-TFMxK",
   "metadata": {
    "id": "RpkqgJ-TFMxK"
   },
   "outputs": [],
   "source": [
    "round(df_96_18.corr(), 4)"
   ]
  },
  {
   "cell_type": "markdown",
   "id": "KD1lIHKxiz5h",
   "metadata": {
    "id": "KD1lIHKxiz5h"
   },
   "source": [
    "### Exportando dataset pré-processado"
   ]
  },
  {
   "cell_type": "code",
   "execution_count": null,
   "id": "4jXjYsyuz2-5",
   "metadata": {
    "id": "4jXjYsyuz2-5"
   },
   "outputs": [],
   "source": [
    "# df_96_18.to_csv('df_alberta_96_18.csv')"
   ]
  },
  {
   "cell_type": "markdown",
   "id": "8jy8mMEug_3_",
   "metadata": {
    "id": "8jy8mMEug_3_"
   },
   "source": [
    "### Preparação dos dados para os Modelos de Machine Learning"
   ]
  },
  {
   "cell_type": "markdown",
   "id": "j86JX2dbHaI9",
   "metadata": {
    "id": "j86JX2dbHaI9"
   },
   "source": [
    "#### Divisão dos dados entre variáveis previsoras (features) e variável alvo (target)"
   ]
  },
  {
   "cell_type": "code",
   "execution_count": null,
   "id": "bdYy0xtVvSqf",
   "metadata": {
    "id": "bdYy0xtVvSqf"
   },
   "outputs": [],
   "source": [
    "df_96_18.columns"
   ]
  },
  {
   "cell_type": "code",
   "execution_count": null,
   "id": "NYJmGvRmQn1z",
   "metadata": {
    "id": "NYJmGvRmQn1z"
   },
   "outputs": [],
   "source": [
    "# Cria novo df para os modelos de ML \n",
    "df_ml = df_96_18.drop(['fire_number', 'general_cause_desc', 'det_agent', 'fire_start_date', 'bh_fs_date', 'uc_fs_date', 'ex_fs_date'], axis=1)\n",
    "df_ml.shape"
   ]
  },
  {
   "cell_type": "code",
   "execution_count": null,
   "id": "pp1U3XvFHnF5",
   "metadata": {
    "id": "pp1U3XvFHnF5"
   },
   "outputs": [],
   "source": [
    "# Divisão entre 'features' e 'target'\n",
    "\n",
    "X = df_ml.drop(['fire_cause'], axis=1)\n",
    "y = df_ml['fire_cause']"
   ]
  },
  {
   "cell_type": "code",
   "execution_count": null,
   "id": "jy6xupXj2kMZ",
   "metadata": {
    "id": "jy6xupXj2kMZ"
   },
   "outputs": [],
   "source": [
    "y.value_counts()"
   ]
  },
  {
   "cell_type": "code",
   "execution_count": null,
   "id": "UaQeS_PVHos_",
   "metadata": {
    "id": "UaQeS_PVHos_"
   },
   "outputs": [],
   "source": [
    "# Armazenando os nomes das variáveis categóricas e numéricas em listas\n",
    "cat_cols = X.select_dtypes(include=\"object\").columns.to_list()\n",
    "num_cols = X.select_dtypes(exclude=\"object\").columns.to_list()\n",
    "\n",
    "print('Colunas Categóricas: ', cat_cols)\n",
    "print('Colunas Numéricas: ', num_cols)"
   ]
  },
  {
   "cell_type": "code",
   "execution_count": null,
   "id": "4GxiWPFGHsJo",
   "metadata": {
    "id": "4GxiWPFGHsJo"
   },
   "outputs": [],
   "source": [
    "# Armazenando os nomes das features e das classes em listas\n",
    "df_target_names = list(y.unique())\n",
    "\n",
    "df_features_names = X.columns.to_list()\n",
    "\n",
    "print('Nº de Classes:', len(df_target_names))\n",
    "print('Classes:', df_target_names)\n",
    "print('\\nNº de Features:', len(df_features_names))\n",
    "print('Features:', df_features_names)"
   ]
  },
  {
   "cell_type": "markdown",
   "id": "JAFb78NBuw_q",
   "metadata": {
    "id": "JAFb78NBuw_q"
   },
   "source": [
    "## Implementação dos Modelos"
   ]
  },
  {
   "cell_type": "code",
   "execution_count": null,
   "id": "b3dzTRxfJaYm",
   "metadata": {
    "id": "b3dzTRxfJaYm"
   },
   "outputs": [],
   "source": [
    "from sklearn import model_selection\n",
    "from sklearn.model_selection import RepeatedStratifiedKFold\n",
    "from sklearn.model_selection import RandomizedSearchCV\n",
    "from sklearn.model_selection import StratifiedKFold\n",
    "from sklearn.model_selection import train_test_split\n",
    "from sklearn.model_selection import cross_val_score, cross_validate\n",
    "from sklearn.metrics import classification_report, accuracy_score\n",
    "from sklearn.metrics import confusion_matrix\n",
    "from sklearn import tree\n",
    "from sklearn.tree import DecisionTreeClassifier\n",
    "from sklearn.ensemble import RandomForestClassifier"
   ]
  },
  {
   "cell_type": "code",
   "execution_count": null,
   "id": "oPN1ILOTtJeV",
   "metadata": {
    "id": "oPN1ILOTtJeV"
   },
   "outputs": [],
   "source": [
    "from sklearn.metrics import roc_auc_score\n",
    "from sklearn.metrics import roc_curve\n",
    "from sklearn.preprocessing import LabelEncoder, MinMaxScaler"
   ]
  },
  {
   "cell_type": "code",
   "execution_count": null,
   "id": "KNuyndNxJ5nK",
   "metadata": {
    "id": "KNuyndNxJ5nK"
   },
   "outputs": [],
   "source": [
    "seed = 1275"
   ]
  },
  {
   "cell_type": "markdown",
   "id": "PZtZxQLLdCPs",
   "metadata": {
    "id": "PZtZxQLLdCPs"
   },
   "source": [
    "### Funções para avaliação dos modelos"
   ]
  },
  {
   "cell_type": "code",
   "execution_count": null,
   "id": "E88Cc1FDc-x0",
   "metadata": {
    "id": "E88Cc1FDc-x0"
   },
   "outputs": [],
   "source": [
    "def evaluate(model, X, y, cv):\n",
    "    cv_results = cross_validate(\n",
    "        model,\n",
    "        X,\n",
    "        y,\n",
    "        cv=cv,\n",
    "        scoring=['accuracy', 'f1_micro', 'roc_auc'],\n",
    "    )\n",
    "    acc = cv_results[\"test_accuracy\"]\n",
    "    f1_m = cv_results[\"test_f1_micro\"]\n",
    "    auc = cv_results[\"test_roc_auc\"]\n",
    "    \n",
    "    print(\n",
    "        f\"Accuracy:     {acc.mean():.3f} +/- {acc.std():.3f}\\n\"\n",
    "        f\"F1_micro:     {f1_m.mean():.3f} +/- {f1_m.std():.3f}\\n\"\n",
    "        f\"Roc_auc:      {auc.mean():.3f} +/- {auc.std():.3f}\\n\"\n",
    "    )\n",
    "    #print(cv_results.keys())"
   ]
  },
  {
   "cell_type": "code",
   "execution_count": null,
   "id": "oIu17KSdfxWg",
   "metadata": {
    "id": "oIu17KSdfxWg"
   },
   "outputs": [],
   "source": [
    "def roc_curve_function(X_test, y_test, y_predicted, model, rn=False):\n",
    "  # calculate accuracy\n",
    "  acc = np.average(y_predicted == y_test)\n",
    "  print('Accuracy:', acc)\n",
    "\n",
    "  # calculate AUC\n",
    "  if rn == True: # Neural Network models\n",
    "    y_scores = np.reshape(model.predict(X_test), len(X_test))\n",
    "    auc = roc_auc_score(y_test,y_scores)\n",
    "    fpr, tpr, thresholds = roc_curve(y_test, y_scores)\n",
    "  else: # ML models\n",
    "    y_scores = model.predict_proba(X_test)\n",
    "    auc = roc_auc_score(y_test,y_scores[:,1])\n",
    "    fpr, tpr, thresholds = roc_curve(y_test, y_scores[:,1])\n",
    "  \n",
    "  print('AUC: ' + str(auc))\n",
    "\n",
    "  # plot ROC curve\n",
    "  fig = plt.figure(figsize=(6, 4))\n",
    "  # print(thresholds)\n",
    "\n",
    "  # Plot the diagonal 50% line\n",
    "  plt.plot([0, 1], [0, 1], 'k--')\n",
    "  plt.axis([0, 1, 0, 1])\n",
    "  # Plot the FPR and TPR achieved by our model\n",
    "  plt.plot(fpr, tpr)\n",
    "  plt.xlabel('False Positive Rate')\n",
    "  plt.ylabel('True Positive Rate')\n",
    "  plt.title('ROC Curve')\n",
    "\n",
    "  plt.show()"
   ]
  },
  {
   "cell_type": "markdown",
   "id": "c1kBvaD4JBCw",
   "metadata": {
    "id": "c1kBvaD4JBCw"
   },
   "source": [
    "### Árvore de Decisão (Decision Tree)"
   ]
  },
  {
   "cell_type": "code",
   "execution_count": null,
   "id": "VIy5Hc3-N_AN",
   "metadata": {
    "id": "VIy5Hc3-N_AN"
   },
   "outputs": [],
   "source": [
    "le_tree = LabelEncoder()\n",
    "\n",
    "for atr in cat_cols:\n",
    "  X[atr] = le_tree.fit_transform(X[atr])\n",
    "\n",
    "X_tree = np.array(X)\n",
    "y_tree = le_tree.fit_transform(y)"
   ]
  },
  {
   "cell_type": "code",
   "execution_count": null,
   "id": "pH7kkLXn3SJ7",
   "metadata": {
    "colab": {
     "base_uri": "https://localhost:8080/"
    },
    "id": "pH7kkLXn3SJ7",
    "outputId": "a565dd35-988a-450f-ead1-9dbf42712255"
   },
   "outputs": [
    {
     "data": {
      "text/plain": [
       "array(['human', 'natural'], dtype=object)"
      ]
     },
     "execution_count": 85,
     "metadata": {},
     "output_type": "execute_result"
    }
   ],
   "source": [
    "le_tree.classes_"
   ]
  },
  {
   "cell_type": "code",
   "execution_count": null,
   "id": "NVna91h63b1m",
   "metadata": {
    "colab": {
     "base_uri": "https://localhost:8080/"
    },
    "id": "NVna91h63b1m",
    "outputId": "87775cdc-8f53-494a-d363-bcbf7fc6d0db"
   },
   "outputs": [
    {
     "data": {
      "text/plain": [
       "['human', 'natural']"
      ]
     },
     "execution_count": 86,
     "metadata": {},
     "output_type": "execute_result"
    }
   ],
   "source": [
    "list(le_tree.inverse_transform([0, 1]))"
   ]
  },
  {
   "cell_type": "code",
   "execution_count": null,
   "id": "u7M76jSVJE33",
   "metadata": {
    "id": "u7M76jSVJE33"
   },
   "outputs": [],
   "source": [
    "# Divisao da base de dados em treinamento, validacao e teste\n",
    "X_train, X_test, y_train, y_test = train_test_split(X_tree, y_tree, test_size=0.25, stratify=y_tree, random_state=seed) # shuffle=False\n",
    "\n",
    "# Instanciando o modelo\n",
    "decisionTree = DecisionTreeClassifier(random_state=seed)\n",
    "\n",
    "# K-fold estratificado com k = 10\n",
    "cv = model_selection.StratifiedKFold(n_splits=10)\n",
    "\n",
    "# definição dos parâmetros para a árvore de decisão\n",
    "param_distributions = { 'criterion': ['gini', 'entropy'],\n",
    "                        'min_samples_split': [7,8,9,10,12,15,18,20,22,24],\n",
    "                        'max_depth': [2,3,4,5,6,7,8,9,10],\n",
    "                        'min_samples_leaf': [3,4,5,6,7,8,9,10,12,14,16,18]\n",
    "                      }\n",
    "\n",
    "# define random search for decision tree\n",
    "rnd_search_tree = RandomizedSearchCV( estimator=decisionTree, \n",
    "                                      param_distributions = param_distributions, \n",
    "                                      n_iter=25, scoring='accuracy', \n",
    "                                      n_jobs=-1, cv=cv, random_state=seed\n",
    "                                    )\n",
    "\n",
    "# execute search\n",
    "result_tree = rnd_search_tree.fit(X_train, y_train)"
   ]
  },
  {
   "cell_type": "code",
   "execution_count": null,
   "id": "7v1LCmT2JeJH",
   "metadata": {
    "colab": {
     "base_uri": "https://localhost:8080/"
    },
    "id": "7v1LCmT2JeJH",
    "outputId": "e9f6a8e3-ce09-4d8f-9fcd-1ede38207510"
   },
   "outputs": [
    {
     "name": "stdout",
     "output_type": "stream",
     "text": [
      "=========Random Search Results for TREE==========\n",
      "Best Score: 0.9228268348747382\n",
      "Best Hyperparameters: {'min_samples_split': 8, 'min_samples_leaf': 10, 'max_depth': 9, 'criterion': 'entropy'}\n",
      "\n",
      "Desempenho médio da Árvore de Decisão:\n",
      "Arvore de Decisão: 0.922827 (0.005728)\n",
      "\n",
      "Acuracia Árvore de Decisão: Treinamento 0.9320618126131143  Teste 0.922466592427617\n",
      "\n",
      "Classification report:\n",
      "               precision    recall  f1-score   support\n",
      "\n",
      "       human       0.93      0.92      0.93      3918\n",
      "     natural       0.91      0.92      0.92      3266\n",
      "\n",
      "    accuracy                           0.92      7184\n",
      "   macro avg       0.92      0.92      0.92      7184\n",
      "weighted avg       0.92      0.92      0.92      7184\n",
      "\n",
      "Confusion matrix:\n",
      " [[3622  296]\n",
      " [ 261 3005]]\n"
     ]
    }
   ],
   "source": [
    "# summarize result for decision tree\n",
    "print('=========Random Search Results for TREE==========')\n",
    "print('Best Score: %s' % result_tree.best_score_)\n",
    "print('Best Hyperparameters: %s' % result_tree.best_params_)\n",
    "\n",
    "# Instanciando e avaliando o modelo\n",
    "decisionTree = DecisionTreeClassifier(**result_tree.best_params_, random_state=seed)\n",
    "\n",
    "model_dt = decisionTree.fit(X_train, y_train)\n",
    "y_predicted_tree = decisionTree.predict(X_test)\n",
    "\n",
    "print('\\nDesempenho médio da Árvore de Decisão:')\n",
    "\n",
    "cv_results = model_selection.cross_val_score(decisionTree, X_train, y_train, cv=cv, scoring='accuracy')\n",
    "# cv_models_results['decisionTree'] = cv_results\n",
    "\n",
    "name = 'Arvore de Decisão'\n",
    "msg = \"%s: %f (%f)\" % (name, cv_results.mean(), cv_results.std())\n",
    "print(msg)\n",
    "\n",
    "print(\"\\nAcuracia Árvore de Decisão: Treinamento\",  decisionTree.score(X_train, y_train),\" Teste\", decisionTree.score(X_test, y_test))\n",
    "print(\"\\nClassification report:\\n\", classification_report(le_tree.inverse_transform(y_test), le_tree.inverse_transform(y_predicted_tree)))\n",
    "print(\"Confusion matrix:\\n\", confusion_matrix(y_test, y_predicted_tree))"
   ]
  },
  {
   "cell_type": "markdown",
   "id": "5782f14a",
   "metadata": {},
   "source": [
    "#### Representação Gráfica da Matrix de Confusão da Árvore de Decisão"
   ]
  },
  {
   "cell_type": "code",
   "execution_count": null,
   "id": "mrpZJGqpS6Fb",
   "metadata": {
    "colab": {
     "base_uri": "https://localhost:8080/",
     "height": 279
    },
    "id": "mrpZJGqpS6Fb",
    "outputId": "1754e3bd-ff21-4dea-b53b-ca9d153f5c63"
   },
   "outputs": [
    {
     "data": {
      "image/png": "[encoded data removed]",
      "text/plain": [
       "<Figure size 432x288 with 2 Axes>"
      ]
     },
     "metadata": {
      "needs_background": "light"
     },
     "output_type": "display_data"
    }
   ],
   "source": [
    "tree_confusion_matrix = pd.crosstab(le_tree.inverse_transform(y_test), le_tree.inverse_transform(y_predicted_tree), rownames=['Valor Atual'], colnames=['Valor Predito'])\n",
    "\n",
    "sn.heatmap(tree_confusion_matrix, annot=True, fmt=\"d\", cmap='inferno', linewidths=.5)\n",
    "plt.show()"
   ]
  },
  {
   "cell_type": "markdown",
   "id": "09501ace",
   "metadata": {},
   "source": [
    "#### Funções de avaliação para a Árvore de Decisão"
   ]
  },
  {
   "cell_type": "code",
   "execution_count": null,
   "id": "54lIKt0rdfwM",
   "metadata": {
    "colab": {
     "base_uri": "https://localhost:8080/"
    },
    "id": "54lIKt0rdfwM",
    "outputId": "a6622043-543c-484e-edd2-04d4a5bb4725"
   },
   "outputs": [
    {
     "name": "stdout",
     "output_type": "stream",
     "text": [
      "Accuracy:     0.911 +/- 0.029\n",
      "F1_micro:     0.911 +/- 0.029\n",
      "Roc_auc:      0.956 +/- 0.031\n",
      "\n"
     ]
    }
   ],
   "source": [
    "evaluate(decisionTree, X_tree, y_tree, cv=cv)"
   ]
  },
  {
   "cell_type": "code",
   "execution_count": null,
   "id": "jvAggZuUslDj",
   "metadata": {
    "colab": {
     "base_uri": "https://localhost:8080/",
     "height": 332
    },
    "id": "jvAggZuUslDj",
    "outputId": "43fe7d38-3aed-4733-f0b1-0e57dc15d978"
   },
   "outputs": [
    {
     "name": "stdout",
     "output_type": "stream",
     "text": [
      "Accuracy: 0.922466592427617\n",
      "AUC: 0.9720416736609372\n"
     ]
    },
    {
     "data": {
      "image/png": "[encoded data removed]",
      "text/plain": [
       "<Figure size 432x288 with 1 Axes>"
      ]
     },
     "metadata": {
      "needs_background": "light"
     },
     "output_type": "display_data"
    }
   ],
   "source": [
    "roc_curve_function(X_test, y_test, y_predicted_tree, model_dt)"
   ]
  },
  {
   "cell_type": "markdown",
   "id": "de6eb35a",
   "metadata": {},
   "source": [
    "#### Features mais importantes segundo algoritmo da Árvore de Decisão"
   ]
  },
  {
   "cell_type": "code",
   "execution_count": null,
   "id": "fL4oFmBbJfo0",
   "metadata": {
    "colab": {
     "base_uri": "https://localhost:8080/"
    },
    "id": "fL4oFmBbJfo0",
    "outputId": "8787e1a5-522a-4d2c-f248-13cecfc666da"
   },
   "outputs": [
    {
     "name": "stdout",
     "output_type": "stream",
     "text": [
      "('fuel_type', 0.5557140828882152)\n",
      "('seasons', 0.24876216832469472)\n",
      "('fire_origin', 0.034683987118505434)\n",
      "('fire_start_month', 0.03402451742313796)\n",
      "('det_agent_type', 0.019852379732278914)\n",
      "('fire_location_latitude', 0.01847545797337875)\n",
      "('extinction_delta', 0.016655048683130502)\n",
      "('control_time', 0.015740845927350897)\n",
      "('weather_conditions_over_fire', 0.01325284764237778)\n",
      "('fire_start_day', 0.00967792968337146)\n",
      "('extinction_efficiency', 0.007353310395323477)\n",
      "('initial_action_by', 0.0072116361920390335)\n",
      "('fire_start_year', 0.00494145770991138)\n",
      "('day_period', 0.003449198173859898)\n",
      "('extinction_time', 0.002948430998361691)\n",
      "('fire_location_longitude', 0.002710592001891612)\n",
      "('fire_position_on_slope', 0.0022148218858424307)\n",
      "('forest_protection_area', 0.001107167718245088)\n",
      "('assessment_hectares', 0.0006019664859843819)\n",
      "('uc_hectares', 0.0004645330889897286)\n",
      "('fire_type', 0.00015761995310946858)\n",
      "('current_size', 0.0)\n",
      "('size_class', 0.0)\n",
      "('bh_hectares', 0.0)\n",
      "('ex_hectares', 0.0)\n"
     ]
    }
   ],
   "source": [
    "# Features mais importantes\n",
    "for feat in sorted(zip(df_features_names, decisionTree.feature_importances_), reverse=True, key=lambda x:x[1]):\n",
    "  print(feat)"
   ]
  },
  {
   "cell_type": "code",
   "execution_count": null,
   "id": "IaDw3mcjga1Y",
   "metadata": {
    "colab": {
     "base_uri": "https://localhost:8080/",
     "height": 833
    },
    "id": "IaDw3mcjga1Y",
    "outputId": "a03236b1-5318-4a5c-e20e-bb759992f5e3"
   },
   "outputs": [
    {
     "data": {
      "text/html": [
       "\n",
       "  <div id=\"df-13f8889c-ee09-4655-9d85-590005ea4359\">\n",
       "    <div class=\"colab-df-container\">\n",
       "      <div>\n",
       "<style scoped>\n",
       "    .dataframe tbody tr th:only-of-type {\n",
       "        vertical-align: middle;\n",
       "    }\n",
       "\n",
       "    .dataframe tbody tr th {\n",
       "        vertical-align: top;\n",
       "    }\n",
       "\n",
       "    .dataframe thead th {\n",
       "        text-align: right;\n",
       "    }\n",
       "</style>\n",
       "<table border=\"1\" class=\"dataframe\">\n",
       "  <thead>\n",
       "    <tr style=\"text-align: right;\">\n",
       "      <th></th>\n",
       "      <th>features</th>\n",
       "      <th>feature_importances_decision_tree</th>\n",
       "    </tr>\n",
       "  </thead>\n",
       "  <tbody>\n",
       "    <tr>\n",
       "      <th>0</th>\n",
       "      <td>fuel_type</td>\n",
       "      <td>0.555714</td>\n",
       "    </tr>\n",
       "    <tr>\n",
       "      <th>1</th>\n",
       "      <td>seasons</td>\n",
       "      <td>0.248762</td>\n",
       "    </tr>\n",
       "    <tr>\n",
       "      <th>2</th>\n",
       "      <td>fire_origin</td>\n",
       "      <td>0.034684</td>\n",
       "    </tr>\n",
       "    <tr>\n",
       "      <th>3</th>\n",
       "      <td>fire_start_month</td>\n",
       "      <td>0.034025</td>\n",
       "    </tr>\n",
       "    <tr>\n",
       "      <th>4</th>\n",
       "      <td>det_agent_type</td>\n",
       "      <td>0.019852</td>\n",
       "    </tr>\n",
       "    <tr>\n",
       "      <th>5</th>\n",
       "      <td>fire_location_latitude</td>\n",
       "      <td>0.018475</td>\n",
       "    </tr>\n",
       "    <tr>\n",
       "      <th>6</th>\n",
       "      <td>extinction_delta</td>\n",
       "      <td>0.016655</td>\n",
       "    </tr>\n",
       "    <tr>\n",
       "      <th>7</th>\n",
       "      <td>control_time</td>\n",
       "      <td>0.015741</td>\n",
       "    </tr>\n",
       "    <tr>\n",
       "      <th>8</th>\n",
       "      <td>weather_conditions_over_fire</td>\n",
       "      <td>0.013253</td>\n",
       "    </tr>\n",
       "    <tr>\n",
       "      <th>9</th>\n",
       "      <td>fire_start_day</td>\n",
       "      <td>0.009678</td>\n",
       "    </tr>\n",
       "    <tr>\n",
       "      <th>10</th>\n",
       "      <td>extinction_efficiency</td>\n",
       "      <td>0.007353</td>\n",
       "    </tr>\n",
       "    <tr>\n",
       "      <th>11</th>\n",
       "      <td>initial_action_by</td>\n",
       "      <td>0.007212</td>\n",
       "    </tr>\n",
       "    <tr>\n",
       "      <th>12</th>\n",
       "      <td>fire_start_year</td>\n",
       "      <td>0.004941</td>\n",
       "    </tr>\n",
       "    <tr>\n",
       "      <th>13</th>\n",
       "      <td>day_period</td>\n",
       "      <td>0.003449</td>\n",
       "    </tr>\n",
       "    <tr>\n",
       "      <th>14</th>\n",
       "      <td>extinction_time</td>\n",
       "      <td>0.002948</td>\n",
       "    </tr>\n",
       "    <tr>\n",
       "      <th>15</th>\n",
       "      <td>fire_location_longitude</td>\n",
       "      <td>0.002711</td>\n",
       "    </tr>\n",
       "    <tr>\n",
       "      <th>16</th>\n",
       "      <td>fire_position_on_slope</td>\n",
       "      <td>0.002215</td>\n",
       "    </tr>\n",
       "    <tr>\n",
       "      <th>17</th>\n",
       "      <td>forest_protection_area</td>\n",
       "      <td>0.001107</td>\n",
       "    </tr>\n",
       "    <tr>\n",
       "      <th>18</th>\n",
       "      <td>assessment_hectares</td>\n",
       "      <td>0.000602</td>\n",
       "    </tr>\n",
       "    <tr>\n",
       "      <th>19</th>\n",
       "      <td>uc_hectares</td>\n",
       "      <td>0.000465</td>\n",
       "    </tr>\n",
       "    <tr>\n",
       "      <th>20</th>\n",
       "      <td>fire_type</td>\n",
       "      <td>0.000158</td>\n",
       "    </tr>\n",
       "    <tr>\n",
       "      <th>21</th>\n",
       "      <td>ex_hectares</td>\n",
       "      <td>0.000000</td>\n",
       "    </tr>\n",
       "    <tr>\n",
       "      <th>22</th>\n",
       "      <td>current_size</td>\n",
       "      <td>0.000000</td>\n",
       "    </tr>\n",
       "    <tr>\n",
       "      <th>23</th>\n",
       "      <td>size_class</td>\n",
       "      <td>0.000000</td>\n",
       "    </tr>\n",
       "    <tr>\n",
       "      <th>24</th>\n",
       "      <td>bh_hectares</td>\n",
       "      <td>0.000000</td>\n",
       "    </tr>\n",
       "  </tbody>\n",
       "</table>\n",
       "</div>\n",
       "      <button class=\"colab-df-convert\" onclick=\"convertToInteractive('df-13f8889c-ee09-4655-9d85-590005ea4359')\"\n",
       "              title=\"Convert this dataframe to an interactive table.\"\n",
       "              style=\"display:none;\">\n",
       "        \n",
       "  <svg xmlns=\"http://www.w3.org/2000/svg\" height=\"24px\"viewBox=\"0 0 24 24\"\n",
       "       width=\"24px\">\n",
       "    <path d=\"M0 0h24v24H0V0z\" fill=\"none\"/>\n",
       "    <path d=\"M18.56 5.44l.94 2.06.94-2.06 2.06-.94-2.06-.94-.94-2.06-.94 2.06-2.06.94zm-11 1L8.5 8.5l.94-2.06 2.06-.94-2.06-.94L8.5 2.5l-.94 2.06-2.06.94zm10 10l.94 2.06.94-2.06 2.06-.94-2.06-.94-.94-2.06-.94 2.06-2.06.94z\"/><path d=\"M17.41 7.96l-1.37-1.37c-.4-.4-.92-.59-1.43-.59-.52 0-1.04.2-1.43.59L10.3 9.45l-7.72 7.72c-.78.78-.78 2.05 0 2.83L4 21.41c.39.39.9.59 1.41.59.51 0 1.02-.2 1.41-.59l7.78-7.78 2.81-2.81c.8-.78.8-2.07 0-2.86zM5.41 20L4 18.59l7.72-7.72 1.47 1.35L5.41 20z\"/>\n",
       "  </svg>\n",
       "      </button>\n",
       "      \n",
       "  <style>\n",
       "    .colab-df-container {\n",
       "      display:flex;\n",
       "      flex-wrap:wrap;\n",
       "      gap: 12px;\n",
       "    }\n",
       "\n",
       "    .colab-df-convert {\n",
       "      background-color: #E8F0FE;\n",
       "      border: none;\n",
       "      border-radius: 50%;\n",
       "      cursor: pointer;\n",
       "      display: none;\n",
       "      fill: #1967D2;\n",
       "      height: 32px;\n",
       "      padding: 0 0 0 0;\n",
       "      width: 32px;\n",
       "    }\n",
       "\n",
       "    .colab-df-convert:hover {\n",
       "      background-color: #E2EBFA;\n",
       "      box-shadow: 0px 1px 2px rgba(60, 64, 67, 0.3), 0px 1px 3px 1px rgba(60, 64, 67, 0.15);\n",
       "      fill: #174EA6;\n",
       "    }\n",
       "\n",
       "    [theme=dark] .colab-df-convert {\n",
       "      background-color: #3B4455;\n",
       "      fill: #D2E3FC;\n",
       "    }\n",
       "\n",
       "    [theme=dark] .colab-df-convert:hover {\n",
       "      background-color: #434B5C;\n",
       "      box-shadow: 0px 1px 3px 1px rgba(0, 0, 0, 0.15);\n",
       "      filter: drop-shadow(0px 1px 2px rgba(0, 0, 0, 0.3));\n",
       "      fill: #FFFFFF;\n",
       "    }\n",
       "  </style>\n",
       "\n",
       "      <script>\n",
       "        const buttonEl =\n",
       "          document.querySelector('#df-13f8889c-ee09-4655-9d85-590005ea4359 button.colab-df-convert');\n",
       "        buttonEl.style.display =\n",
       "          google.colab.kernel.accessAllowed ? 'block' : 'none';\n",
       "\n",
       "        async function convertToInteractive(key) {\n",
       "          const element = document.querySelector('#df-13f8889c-ee09-4655-9d85-590005ea4359');\n",
       "          const dataTable =\n",
       "            await google.colab.kernel.invokeFunction('convertToInteractive',\n",
       "                                                     [key], {});\n",
       "          if (!dataTable) return;\n",
       "\n",
       "          const docLinkHtml = 'Like what you see? Visit the ' +\n",
       "            '<a target=\"_blank\" href=https://colab.research.google.com/notebooks/data_table.ipynb>data table notebook</a>'\n",
       "            + ' to learn more about interactive tables.';\n",
       "          element.innerHTML = '';\n",
       "          dataTable['output_type'] = 'display_data';\n",
       "          await google.colab.output.renderOutput(dataTable, element);\n",
       "          const docLink = document.createElement('div');\n",
       "          docLink.innerHTML = docLinkHtml;\n",
       "          element.appendChild(docLink);\n",
       "        }\n",
       "      </script>\n",
       "    </div>\n",
       "  </div>\n",
       "  "
      ],
      "text/plain": [
       "                        features  feature_importances_decision_tree\n",
       "0                      fuel_type                           0.555714\n",
       "1                        seasons                           0.248762\n",
       "2                    fire_origin                           0.034684\n",
       "3               fire_start_month                           0.034025\n",
       "4                 det_agent_type                           0.019852\n",
       "5         fire_location_latitude                           0.018475\n",
       "6               extinction_delta                           0.016655\n",
       "7                   control_time                           0.015741\n",
       "8   weather_conditions_over_fire                           0.013253\n",
       "9                 fire_start_day                           0.009678\n",
       "10         extinction_efficiency                           0.007353\n",
       "11             initial_action_by                           0.007212\n",
       "12               fire_start_year                           0.004941\n",
       "13                    day_period                           0.003449\n",
       "14               extinction_time                           0.002948\n",
       "15       fire_location_longitude                           0.002711\n",
       "16        fire_position_on_slope                           0.002215\n",
       "17        forest_protection_area                           0.001107\n",
       "18           assessment_hectares                           0.000602\n",
       "19                   uc_hectares                           0.000465\n",
       "20                     fire_type                           0.000158\n",
       "21                   ex_hectares                           0.000000\n",
       "22                  current_size                           0.000000\n",
       "23                    size_class                           0.000000\n",
       "24                   bh_hectares                           0.000000"
      ]
     },
     "execution_count": 93,
     "metadata": {},
     "output_type": "execute_result"
    }
   ],
   "source": [
    "dict_feat_importance_decision_tree = {'features':df_features_names, 'feature_importances_decision_tree':decisionTree.feature_importances_}\n",
    "\n",
    "df_feat_importance_decision_tree = pd.DataFrame(dict_feat_importance_decision_tree)\n",
    "df_feat_importance_decision_tree.sort_values(by=['feature_importances_decision_tree'], ascending=False, inplace=True)\n",
    "df_feat_importance_decision_tree.reset_index(inplace=True, drop=True)\n",
    "df_feat_importance_decision_tree"
   ]
  },
  {
   "cell_type": "code",
   "execution_count": null,
   "id": "jIA2BStzgaeH",
   "metadata": {
    "id": "jIA2BStzgaeH"
   },
   "outputs": [],
   "source": [
    "# df_feat_importance_decision_tree.to_csv('df_feat_importances_decision_tree.csv')"
   ]
  },
  {
   "cell_type": "markdown",
   "id": "a3bkNKUPupTW",
   "metadata": {
    "id": "a3bkNKUPupTW"
   },
   "source": [
    "### Random Forest"
   ]
  },
  {
   "cell_type": "code",
   "execution_count": null,
   "id": "63760287",
   "metadata": {
    "ExecuteTime": {
     "end_time": "2022-04-23T01:18:19.304126Z",
     "start_time": "2022-04-23T01:18:17.388990Z"
    },
    "id": "63760287"
   },
   "outputs": [],
   "source": [
    "# Instanciando o modelo\n",
    "rfc = RandomForestClassifier(random_state=seed)\n",
    "\n",
    "# definição dos parâmetros para a árvore de decisão\n",
    "param_distributions = { \n",
    "                        'n_estimators': [10,11,12,15,17,18,19,20,22,24,26,28,30],\n",
    "                        'criterion': ['gini', 'entropy'],\n",
    "                        'max_depth': [10,12,14,15,16,17,18,19,20,21,22],\n",
    "                        'min_samples_split': [7,8,9,10,12,13,14,15,16,17,18],\n",
    "                        'min_samples_leaf': [6,7,8,9,10,12,15,18],\n",
    "                        'max_features':['auto', 'sqrt', 'log2']\n",
    "                      }\n",
    "\n",
    "# define random search for decision tree\n",
    "rnd_search_rfc = RandomizedSearchCV(  estimator=rfc, \n",
    "                                      param_distributions = param_distributions, \n",
    "                                      n_iter=25, scoring='accuracy', \n",
    "                                      n_jobs=-1, cv=cv, random_state=seed\n",
    "                                    )\n",
    "# execute search\n",
    "result_rfc = rnd_search_rfc.fit(X_train, y_train)"
   ]
  },
  {
   "cell_type": "code",
   "execution_count": null,
   "id": "a6544088",
   "metadata": {
    "ExecuteTime": {
     "end_time": "2022-04-23T01:18:19.904961Z",
     "start_time": "2022-04-23T01:18:19.305928Z"
    },
    "colab": {
     "base_uri": "https://localhost:8080/"
    },
    "id": "a6544088",
    "outputId": "14c62dcf-d538-4720-c837-cb4dffdf1b78"
   },
   "outputs": [
    {
     "name": "stdout",
     "output_type": "stream",
     "text": [
      "=========Random Search Results for RandomForest==========\n",
      "Best Score: 0.9360062862596324\n",
      "Best Hyperparameters: {'n_estimators': 26, 'min_samples_split': 10, 'min_samples_leaf': 7, 'max_features': 'sqrt', 'max_depth': 19, 'criterion': 'entropy'}\n",
      "\n",
      "Desempenho médio do RandomForest:\n",
      "RandomForest: 0.936006 (0.002512)\n",
      "\n",
      "Acuracia do Random Forest: Treinamento 0.9595340851083577  Teste 0.9416759465478842\n",
      "\n",
      "Classification report:\n",
      "               precision    recall  f1-score   support\n",
      "\n",
      "       human       0.95      0.94      0.95      3918\n",
      "     natural       0.93      0.94      0.94      3266\n",
      "\n",
      "    accuracy                           0.94      7184\n",
      "   macro avg       0.94      0.94      0.94      7184\n",
      "weighted avg       0.94      0.94      0.94      7184\n",
      "\n",
      "Confusion matrix:\n",
      " [[3699  219]\n",
      " [ 200 3066]]\n"
     ]
    }
   ],
   "source": [
    "# summarize result for random forest\n",
    "print('=========Random Search Results for RandomForest==========')\n",
    "print('Best Score: %s' % result_rfc.best_score_)\n",
    "print('Best Hyperparameters: %s' % result_rfc.best_params_)\n",
    "\n",
    "# Instanciando e avaliando o modelo\n",
    "RFC = RandomForestClassifier(**result_rfc.best_params_, random_state=seed)\n",
    "\n",
    "model_rfc = RFC.fit(X_train, y_train)\n",
    "y_predicted_rfc = RFC.predict(X_test)\n",
    "\n",
    "print('\\nDesempenho médio do RandomForest:')\n",
    "\n",
    "cv_results = model_selection.cross_val_score(RFC, X_train, y_train, cv=cv, scoring='accuracy')\n",
    "\n",
    "name = 'RandomForest'\n",
    "msg = \"%s: %f (%f)\" % (name, cv_results.mean(), cv_results.std())\n",
    "print(msg)\n",
    "\n",
    "print(\"\\nAcuracia do Random Forest: Treinamento\",  RFC.score(X_train, y_train),\" Teste\", RFC.score(X_test, y_test))\n",
    "print(\"\\nClassification report:\\n\", classification_report(le_tree.inverse_transform(y_test), le_tree.inverse_transform(y_predicted_rfc)))\n",
    "print(\"Confusion matrix:\\n\", confusion_matrix(y_test, y_predicted_rfc))"
   ]
  },
  {
   "cell_type": "markdown",
   "id": "3038276d",
   "metadata": {},
   "source": [
    "#### Representação Gráfica da Matrix de Confusão do Random Forest"
   ]
  },
  {
   "cell_type": "code",
   "execution_count": null,
   "id": "3718b8ab",
   "metadata": {
    "ExecuteTime": {
     "end_time": "2022-04-23T01:18:20.063917Z",
     "start_time": "2022-04-23T01:18:19.906934Z"
    },
    "colab": {
     "base_uri": "https://localhost:8080/",
     "height": 279
    },
    "id": "3718b8ab",
    "outputId": "a12c3438-f4bc-4ff9-97ae-fbe812009926"
   },
   "outputs": [
    {
     "data": {
      "image/png": "[encoded data removed]",
      "text/plain": [
       "<Figure size 432x288 with 2 Axes>"
      ]
     },
     "metadata": {
      "needs_background": "light"
     },
     "output_type": "display_data"
    }
   ],
   "source": [
    "rnd_frt_confusion_matrix = pd.crosstab(le_tree.inverse_transform(y_test), le_tree.inverse_transform(y_predicted_rfc), rownames=['Valor Atual'], colnames=['Valor Predito'])\n",
    "\n",
    "sn.heatmap(rnd_frt_confusion_matrix, annot=True, fmt=\"d\", cmap='inferno', linewidths=.5)\n",
    "plt.show()"
   ]
  },
  {
   "cell_type": "markdown",
   "id": "148dc315",
   "metadata": {},
   "source": [
    "#### Funções de avaliação para o Random Forest"
   ]
  },
  {
   "cell_type": "code",
   "execution_count": null,
   "id": "rVKKffVgd3wJ",
   "metadata": {
    "colab": {
     "base_uri": "https://localhost:8080/"
    },
    "id": "rVKKffVgd3wJ",
    "outputId": "5d9e14d1-222e-4afb-adad-8a303393181e"
   },
   "outputs": [
    {
     "name": "stdout",
     "output_type": "stream",
     "text": [
      "Accuracy:     0.925 +/- 0.025\n",
      "F1_micro:     0.925 +/- 0.025\n",
      "Roc_auc:      0.978 +/- 0.008\n",
      "\n"
     ]
    }
   ],
   "source": [
    "evaluate(RFC, X_tree, y_tree, cv=cv)"
   ]
  },
  {
   "cell_type": "code",
   "execution_count": null,
   "id": "JzZHjzCHvxFa",
   "metadata": {
    "colab": {
     "base_uri": "https://localhost:8080/",
     "height": 332
    },
    "id": "JzZHjzCHvxFa",
    "outputId": "725614b8-eabb-4237-b3b5-79557161e37a"
   },
   "outputs": [
    {
     "name": "stdout",
     "output_type": "stream",
     "text": [
      "Accuracy: 0.9416759465478842\n",
      "AUC: 0.9825755138952319\n"
     ]
    },
    {
     "data": {
      "image/png": "[encoded data removed]",
      "text/plain": [
       "<Figure size 432x288 with 1 Axes>"
      ]
     },
     "metadata": {
      "needs_background": "light"
     },
     "output_type": "display_data"
    }
   ],
   "source": [
    "roc_curve_function(X_test, y_test, y_predicted_rfc, model_rfc)"
   ]
  },
  {
   "cell_type": "markdown",
   "id": "e942a366",
   "metadata": {},
   "source": [
    "#### Features mais importantes segundo algoritmo Random Forest"
   ]
  },
  {
   "cell_type": "code",
   "execution_count": null,
   "id": "b7bff7f0",
   "metadata": {
    "ExecuteTime": {
     "end_time": "2022-04-23T01:18:20.079901Z",
     "start_time": "2022-04-23T01:18:20.065910Z"
    },
    "colab": {
     "base_uri": "https://localhost:8080/"
    },
    "id": "b7bff7f0",
    "outputId": "c2e70aad-a196-44ee-fc28-000fd497113c"
   },
   "outputs": [
    {
     "name": "stdout",
     "output_type": "stream",
     "text": [
      "('fuel_type', 0.27074371384205864)\n",
      "('seasons', 0.16590935831054032)\n",
      "('fire_origin', 0.14038258874451165)\n",
      "('fire_start_month', 0.0769671742874027)\n",
      "('fire_location_latitude', 0.05339784795816045)\n",
      "('initial_action_by', 0.045184720700076474)\n",
      "('det_agent_type', 0.035796931201564464)\n",
      "('weather_conditions_over_fire', 0.03539982696769712)\n",
      "('control_time', 0.027267815399884515)\n",
      "('extinction_delta', 0.021491104461561016)\n",
      "('fire_location_longitude', 0.016299708764551175)\n",
      "('extinction_efficiency', 0.016020850177991024)\n",
      "('fire_start_day', 0.015866052937867827)\n",
      "('fire_start_year', 0.014201663394408943)\n",
      "('extinction_time', 0.01342709187722432)\n",
      "('forest_protection_area', 0.011024800952788022)\n",
      "('day_period', 0.0068300568966496306)\n",
      "('ex_hectares', 0.00665900829535797)\n",
      "('uc_hectares', 0.006270106133215212)\n",
      "('current_size', 0.00518927265313853)\n",
      "('bh_hectares', 0.005121954006757641)\n",
      "('assessment_hectares', 0.004346636608257374)\n",
      "('fire_type', 0.0030803363627532744)\n",
      "('fire_position_on_slope', 0.0024177386489744744)\n",
      "('size_class', 0.0007036404166071905)\n"
     ]
    }
   ],
   "source": [
    "# Features mais importantes\n",
    "for feat in sorted(zip(df_features_names, RFC.feature_importances_), reverse=True, key=lambda x:x[1]):\n",
    "  print(feat)"
   ]
  },
  {
   "cell_type": "code",
   "execution_count": null,
   "id": "0dzKpHRiam9I",
   "metadata": {
    "colab": {
     "base_uri": "https://localhost:8080/",
     "height": 833
    },
    "id": "0dzKpHRiam9I",
    "outputId": "83ba694c-4ee5-470a-868c-14dbddfbb910"
   },
   "outputs": [
    {
     "data": {
      "text/html": [
       "\n",
       "  <div id=\"df-588a8d28-037d-4f6a-80e3-853bb002274c\">\n",
       "    <div class=\"colab-df-container\">\n",
       "      <div>\n",
       "<style scoped>\n",
       "    .dataframe tbody tr th:only-of-type {\n",
       "        vertical-align: middle;\n",
       "    }\n",
       "\n",
       "    .dataframe tbody tr th {\n",
       "        vertical-align: top;\n",
       "    }\n",
       "\n",
       "    .dataframe thead th {\n",
       "        text-align: right;\n",
       "    }\n",
       "</style>\n",
       "<table border=\"1\" class=\"dataframe\">\n",
       "  <thead>\n",
       "    <tr style=\"text-align: right;\">\n",
       "      <th></th>\n",
       "      <th>features</th>\n",
       "      <th>feature_importances_RFC</th>\n",
       "    </tr>\n",
       "  </thead>\n",
       "  <tbody>\n",
       "    <tr>\n",
       "      <th>0</th>\n",
       "      <td>fuel_type</td>\n",
       "      <td>0.270744</td>\n",
       "    </tr>\n",
       "    <tr>\n",
       "      <th>1</th>\n",
       "      <td>seasons</td>\n",
       "      <td>0.165909</td>\n",
       "    </tr>\n",
       "    <tr>\n",
       "      <th>2</th>\n",
       "      <td>fire_origin</td>\n",
       "      <td>0.140383</td>\n",
       "    </tr>\n",
       "    <tr>\n",
       "      <th>3</th>\n",
       "      <td>fire_start_month</td>\n",
       "      <td>0.076967</td>\n",
       "    </tr>\n",
       "    <tr>\n",
       "      <th>4</th>\n",
       "      <td>fire_location_latitude</td>\n",
       "      <td>0.053398</td>\n",
       "    </tr>\n",
       "    <tr>\n",
       "      <th>5</th>\n",
       "      <td>initial_action_by</td>\n",
       "      <td>0.045185</td>\n",
       "    </tr>\n",
       "    <tr>\n",
       "      <th>6</th>\n",
       "      <td>det_agent_type</td>\n",
       "      <td>0.035797</td>\n",
       "    </tr>\n",
       "    <tr>\n",
       "      <th>7</th>\n",
       "      <td>weather_conditions_over_fire</td>\n",
       "      <td>0.035400</td>\n",
       "    </tr>\n",
       "    <tr>\n",
       "      <th>8</th>\n",
       "      <td>control_time</td>\n",
       "      <td>0.027268</td>\n",
       "    </tr>\n",
       "    <tr>\n",
       "      <th>9</th>\n",
       "      <td>extinction_delta</td>\n",
       "      <td>0.021491</td>\n",
       "    </tr>\n",
       "    <tr>\n",
       "      <th>10</th>\n",
       "      <td>fire_location_longitude</td>\n",
       "      <td>0.016300</td>\n",
       "    </tr>\n",
       "    <tr>\n",
       "      <th>11</th>\n",
       "      <td>extinction_efficiency</td>\n",
       "      <td>0.016021</td>\n",
       "    </tr>\n",
       "    <tr>\n",
       "      <th>12</th>\n",
       "      <td>fire_start_day</td>\n",
       "      <td>0.015866</td>\n",
       "    </tr>\n",
       "    <tr>\n",
       "      <th>13</th>\n",
       "      <td>fire_start_year</td>\n",
       "      <td>0.014202</td>\n",
       "    </tr>\n",
       "    <tr>\n",
       "      <th>14</th>\n",
       "      <td>extinction_time</td>\n",
       "      <td>0.013427</td>\n",
       "    </tr>\n",
       "    <tr>\n",
       "      <th>15</th>\n",
       "      <td>forest_protection_area</td>\n",
       "      <td>0.011025</td>\n",
       "    </tr>\n",
       "    <tr>\n",
       "      <th>16</th>\n",
       "      <td>day_period</td>\n",
       "      <td>0.006830</td>\n",
       "    </tr>\n",
       "    <tr>\n",
       "      <th>17</th>\n",
       "      <td>ex_hectares</td>\n",
       "      <td>0.006659</td>\n",
       "    </tr>\n",
       "    <tr>\n",
       "      <th>18</th>\n",
       "      <td>uc_hectares</td>\n",
       "      <td>0.006270</td>\n",
       "    </tr>\n",
       "    <tr>\n",
       "      <th>19</th>\n",
       "      <td>current_size</td>\n",
       "      <td>0.005189</td>\n",
       "    </tr>\n",
       "    <tr>\n",
       "      <th>20</th>\n",
       "      <td>bh_hectares</td>\n",
       "      <td>0.005122</td>\n",
       "    </tr>\n",
       "    <tr>\n",
       "      <th>21</th>\n",
       "      <td>assessment_hectares</td>\n",
       "      <td>0.004347</td>\n",
       "    </tr>\n",
       "    <tr>\n",
       "      <th>22</th>\n",
       "      <td>fire_type</td>\n",
       "      <td>0.003080</td>\n",
       "    </tr>\n",
       "    <tr>\n",
       "      <th>23</th>\n",
       "      <td>fire_position_on_slope</td>\n",
       "      <td>0.002418</td>\n",
       "    </tr>\n",
       "    <tr>\n",
       "      <th>24</th>\n",
       "      <td>size_class</td>\n",
       "      <td>0.000704</td>\n",
       "    </tr>\n",
       "  </tbody>\n",
       "</table>\n",
       "</div>\n",
       "      <button class=\"colab-df-convert\" onclick=\"convertToInteractive('df-588a8d28-037d-4f6a-80e3-853bb002274c')\"\n",
       "              title=\"Convert this dataframe to an interactive table.\"\n",
       "              style=\"display:none;\">\n",
       "        \n",
       "  <svg xmlns=\"http://www.w3.org/2000/svg\" height=\"24px\"viewBox=\"0 0 24 24\"\n",
       "       width=\"24px\">\n",
       "    <path d=\"M0 0h24v24H0V0z\" fill=\"none\"/>\n",
       "    <path d=\"M18.56 5.44l.94 2.06.94-2.06 2.06-.94-2.06-.94-.94-2.06-.94 2.06-2.06.94zm-11 1L8.5 8.5l.94-2.06 2.06-.94-2.06-.94L8.5 2.5l-.94 2.06-2.06.94zm10 10l.94 2.06.94-2.06 2.06-.94-2.06-.94-.94-2.06-.94 2.06-2.06.94z\"/><path d=\"M17.41 7.96l-1.37-1.37c-.4-.4-.92-.59-1.43-.59-.52 0-1.04.2-1.43.59L10.3 9.45l-7.72 7.72c-.78.78-.78 2.05 0 2.83L4 21.41c.39.39.9.59 1.41.59.51 0 1.02-.2 1.41-.59l7.78-7.78 2.81-2.81c.8-.78.8-2.07 0-2.86zM5.41 20L4 18.59l7.72-7.72 1.47 1.35L5.41 20z\"/>\n",
       "  </svg>\n",
       "      </button>\n",
       "      \n",
       "  <style>\n",
       "    .colab-df-container {\n",
       "      display:flex;\n",
       "      flex-wrap:wrap;\n",
       "      gap: 12px;\n",
       "    }\n",
       "\n",
       "    .colab-df-convert {\n",
       "      background-color: #E8F0FE;\n",
       "      border: none;\n",
       "      border-radius: 50%;\n",
       "      cursor: pointer;\n",
       "      display: none;\n",
       "      fill: #1967D2;\n",
       "      height: 32px;\n",
       "      padding: 0 0 0 0;\n",
       "      width: 32px;\n",
       "    }\n",
       "\n",
       "    .colab-df-convert:hover {\n",
       "      background-color: #E2EBFA;\n",
       "      box-shadow: 0px 1px 2px rgba(60, 64, 67, 0.3), 0px 1px 3px 1px rgba(60, 64, 67, 0.15);\n",
       "      fill: #174EA6;\n",
       "    }\n",
       "\n",
       "    [theme=dark] .colab-df-convert {\n",
       "      background-color: #3B4455;\n",
       "      fill: #D2E3FC;\n",
       "    }\n",
       "\n",
       "    [theme=dark] .colab-df-convert:hover {\n",
       "      background-color: #434B5C;\n",
       "      box-shadow: 0px 1px 3px 1px rgba(0, 0, 0, 0.15);\n",
       "      filter: drop-shadow(0px 1px 2px rgba(0, 0, 0, 0.3));\n",
       "      fill: #FFFFFF;\n",
       "    }\n",
       "  </style>\n",
       "\n",
       "      <script>\n",
       "        const buttonEl =\n",
       "          document.querySelector('#df-588a8d28-037d-4f6a-80e3-853bb002274c button.colab-df-convert');\n",
       "        buttonEl.style.display =\n",
       "          google.colab.kernel.accessAllowed ? 'block' : 'none';\n",
       "\n",
       "        async function convertToInteractive(key) {\n",
       "          const element = document.querySelector('#df-588a8d28-037d-4f6a-80e3-853bb002274c');\n",
       "          const dataTable =\n",
       "            await google.colab.kernel.invokeFunction('convertToInteractive',\n",
       "                                                     [key], {});\n",
       "          if (!dataTable) return;\n",
       "\n",
       "          const docLinkHtml = 'Like what you see? Visit the ' +\n",
       "            '<a target=\"_blank\" href=https://colab.research.google.com/notebooks/data_table.ipynb>data table notebook</a>'\n",
       "            + ' to learn more about interactive tables.';\n",
       "          element.innerHTML = '';\n",
       "          dataTable['output_type'] = 'display_data';\n",
       "          await google.colab.output.renderOutput(dataTable, element);\n",
       "          const docLink = document.createElement('div');\n",
       "          docLink.innerHTML = docLinkHtml;\n",
       "          element.appendChild(docLink);\n",
       "        }\n",
       "      </script>\n",
       "    </div>\n",
       "  </div>\n",
       "  "
      ],
      "text/plain": [
       "                        features  feature_importances_RFC\n",
       "0                      fuel_type                 0.270744\n",
       "1                        seasons                 0.165909\n",
       "2                    fire_origin                 0.140383\n",
       "3               fire_start_month                 0.076967\n",
       "4         fire_location_latitude                 0.053398\n",
       "5              initial_action_by                 0.045185\n",
       "6                 det_agent_type                 0.035797\n",
       "7   weather_conditions_over_fire                 0.035400\n",
       "8                   control_time                 0.027268\n",
       "9               extinction_delta                 0.021491\n",
       "10       fire_location_longitude                 0.016300\n",
       "11         extinction_efficiency                 0.016021\n",
       "12                fire_start_day                 0.015866\n",
       "13               fire_start_year                 0.014202\n",
       "14               extinction_time                 0.013427\n",
       "15        forest_protection_area                 0.011025\n",
       "16                    day_period                 0.006830\n",
       "17                   ex_hectares                 0.006659\n",
       "18                   uc_hectares                 0.006270\n",
       "19                  current_size                 0.005189\n",
       "20                   bh_hectares                 0.005122\n",
       "21           assessment_hectares                 0.004347\n",
       "22                     fire_type                 0.003080\n",
       "23        fire_position_on_slope                 0.002418\n",
       "24                    size_class                 0.000704"
      ]
     },
     "execution_count": 100,
     "metadata": {},
     "output_type": "execute_result"
    }
   ],
   "source": [
    "dict_feat_importance_RFC = {'features':df_features_names, 'feature_importances_RFC':RFC.feature_importances_}\n",
    "\n",
    "df_feat_importance_RFC = pd.DataFrame(dict_feat_importance_RFC)\n",
    "df_feat_importance_RFC.sort_values(by=['feature_importances_RFC'], ascending=False, inplace=True)\n",
    "df_feat_importance_RFC.reset_index(inplace=True, drop=True)\n",
    "df_feat_importance_RFC"
   ]
  },
  {
   "cell_type": "code",
   "execution_count": null,
   "id": "jDy5XgraZcxx",
   "metadata": {
    "id": "jDy5XgraZcxx"
   },
   "outputs": [],
   "source": [
    "# df_feat_importance_RFC.to_csv('df_feat_importances_RFC.csv')"
   ]
  },
  {
   "cell_type": "markdown",
   "id": "7RNbnxZ4VbfN",
   "metadata": {
    "id": "7RNbnxZ4VbfN"
   },
   "source": [
    "### XGBoost"
   ]
  },
  {
   "cell_type": "code",
   "execution_count": null,
   "id": "D5UmdFgnnzDG",
   "metadata": {
    "id": "D5UmdFgnnzDG"
   },
   "outputs": [],
   "source": [
    "#!pip install xgboost==1.2.0"
   ]
  },
  {
   "cell_type": "code",
   "execution_count": null,
   "id": "wAIguLKuVd-u",
   "metadata": {
    "id": "wAIguLKuVd-u"
   },
   "outputs": [],
   "source": [
    "import xgboost\n",
    "from xgboost import XGBClassifier"
   ]
  },
  {
   "cell_type": "code",
   "execution_count": null,
   "id": "G9kB6NvmmZf1",
   "metadata": {
    "colab": {
     "base_uri": "https://localhost:8080/",
     "height": 36
    },
    "id": "G9kB6NvmmZf1",
    "outputId": "7214919e-e9ef-47c4-f3de-c0adcf54cfb9"
   },
   "outputs": [
    {
     "data": {
      "application/vnd.google.colaboratory.intrinsic+json": {
       "type": "string"
      },
      "text/plain": [
       "'0.90'"
      ]
     },
     "execution_count": 104,
     "metadata": {},
     "output_type": "execute_result"
    }
   ],
   "source": [
    "xgboost.__version__"
   ]
  },
  {
   "cell_type": "code",
   "execution_count": null,
   "id": "fRqgSmjJ1xnQ",
   "metadata": {
    "id": "fRqgSmjJ1xnQ"
   },
   "outputs": [],
   "source": [
    "# Divisao da base de dados em treinamento, validacao e teste\n",
    "X_train_xgb, X_test_xgb, y_train_xgb, y_test_xgb = train_test_split(X_tree, y_tree, test_size=0.25, stratify=y_tree, random_state=seed)"
   ]
  },
  {
   "cell_type": "code",
   "execution_count": null,
   "id": "DCUm3WpyVfB4",
   "metadata": {
    "id": "DCUm3WpyVfB4"
   },
   "outputs": [],
   "source": [
    "xgb = XGBClassifier(\n",
    "                    booster='gbtree',\n",
    "                    objective='binary:logistic', max_depth=15,\n",
    "                    learning_rate=0.1, n_estimators=100,\n",
    "                    random_state=seed, n_jobs=-1, tree_method='gpu_hist', gpu_id=0\n",
    ")"
   ]
  },
  {
   "cell_type": "markdown",
   "id": "NdDod3E06R1p",
   "metadata": {
    "id": "NdDod3E06R1p"
   },
   "source": [
    "* Obs1.: n_estimators=100: Popular among ensemble methods, `n_estimators` is the number of boosted trees in the model. Increasing this number while decreasing learning_rate can lead to more robust results."
   ]
  },
  {
   "cell_type": "markdown",
   "id": "gZTlWAR6b06M",
   "metadata": {
    "id": "gZTlWAR6b06M"
   },
   "source": [
    "#### Avaliação do Modelo antes da busca de hiperparâmetros - XGBoost"
   ]
  },
  {
   "cell_type": "code",
   "execution_count": null,
   "id": "eyOADTFS7Tku",
   "metadata": {
    "colab": {
     "base_uri": "https://localhost:8080/"
    },
    "id": "eyOADTFS7Tku",
    "outputId": "c89401c6-6652-4b99-867b-262780c72be2"
   },
   "outputs": [
    {
     "name": "stdout",
     "output_type": "stream",
     "text": [
      "Accuracy:     0.897 +/- 0.059\n",
      "F1_micro:     0.897 +/- 0.059\n",
      "Roc_auc:      0.964 +/- 0.030\n",
      "\n"
     ]
    }
   ],
   "source": [
    "# Avaliação do modelo antes da busca de parâmetros\n",
    "evaluate(xgb, X_tree, y_tree, cv=cv)"
   ]
  },
  {
   "cell_type": "code",
   "execution_count": null,
   "id": "7rdH6QLKXb9r",
   "metadata": {
    "colab": {
     "base_uri": "https://localhost:8080/"
    },
    "id": "7rdH6QLKXb9r",
    "outputId": "bbd5081d-17a5-421b-d029-6972afc9b7b1"
   },
   "outputs": [
    {
     "name": "stdout",
     "output_type": "stream",
     "text": [
      "\n",
      "Classification report:\n",
      "               precision    recall  f1-score   support\n",
      "\n",
      "       human       0.96      0.95      0.95      3918\n",
      "     natural       0.94      0.95      0.94      3266\n",
      "\n",
      "    accuracy                           0.95      7184\n",
      "   macro avg       0.95      0.95      0.95      7184\n",
      "weighted avg       0.95      0.95      0.95      7184\n",
      "\n",
      "Confusion matrix:\n",
      " [[3706  212]\n",
      " [ 171 3095]]\n"
     ]
    }
   ],
   "source": [
    "model = xgb.fit(X_train_xgb, y_train_xgb)\n",
    "y_predicted = xgb.predict(X_test_xgb)\n",
    "\n",
    "print(\"\\nClassification report:\\n\", classification_report(le_tree.inverse_transform(y_test_xgb), le_tree.inverse_transform(y_predicted)))\n",
    "print(\"Confusion matrix:\\n\", confusion_matrix(y_test_xgb, y_predicted))"
   ]
  },
  {
   "cell_type": "markdown",
   "id": "twearpoQcHTN",
   "metadata": {
    "id": "twearpoQcHTN"
   },
   "source": [
    "#### Busca dos melhores hiperparâmetros - XGBoost"
   ]
  },
  {
   "cell_type": "code",
   "execution_count": null,
   "id": "isjcrTXk16MJ",
   "metadata": {
    "id": "isjcrTXk16MJ"
   },
   "outputs": [],
   "source": [
    "PARAM_DISTRIBUTIONS = [\n",
    "    {\n",
    "      'n_estimators': [75, 85, 100, 125, 150, 175, 200, 225],\n",
    "      'learning_rate':[0.01, 0.1, 0.2, 0.3],\n",
    "      'max_depth':[5, 6, 7, 8, 9, 10, 12, 14],\n",
    "      'booster':['gbtree', 'gblinear'],\n",
    "      'objective':['binary:logistic','binary:logitraw'],\n",
    "      'gamma':[0, 0.1, 0.5, 1.0, 1.5],\n",
    "      'min_child_weight':[1, 2, 3, 4, 5],\n",
    "      'subsample':[0.5, 0.7, 0.8, 0.9, 1],\n",
    "      'colsample_bytree':[0.5, 0.7, 0.8, 0.9, 1],\n",
    "      'colsample_bynode':[0.5, 0.7, 0.8, 0.9, 1],\n",
    "      'colsample_bylevel':[0.5, 0.7, 0.8, 0.9, 1]\n",
    "    }\n",
    "  ]"
   ]
  },
  {
   "cell_type": "code",
   "execution_count": null,
   "id": "QpbOMpY5181Y",
   "metadata": {
    "colab": {
     "base_uri": "https://localhost:8080/"
    },
    "id": "QpbOMpY5181Y",
    "outputId": "72337279-f64e-4840-e8f8-ece1bad3c389"
   },
   "outputs": [
    {
     "data": {
      "text/plain": [
       "RandomizedSearchCV(cv=StratifiedKFold(n_splits=10, random_state=None, shuffle=False),\n",
       "                   estimator=XGBClassifier(gpu_id=0, max_depth=15, n_jobs=-1,\n",
       "                                           random_state=1275,\n",
       "                                           tree_method='gpu_hist'),\n",
       "                   n_iter=25, n_jobs=-1,\n",
       "                   param_distributions=[{'booster': ['gbtree', 'gblinear'],\n",
       "                                         'colsample_bylevel': [0.5, 0.7, 0.8,\n",
       "                                                               0.9, 1],\n",
       "                                         'colsample_bynode': [0.5, 0.7, 0.8,\n",
       "                                                              0.9, 1],\n",
       "                                         'colsample_bytree': [0.5, 0.7, 0.8,\n",
       "                                                              0.9, 1],\n",
       "                                         'gamma': [0, 0.1, 0.5, 1.0, 1.5],\n",
       "                                         'learning_rate': [0.01, 0.1, 0.2, 0.3],\n",
       "                                         'max_depth': [5, 6, 7, 8, 9, 10, 12,\n",
       "                                                       14],\n",
       "                                         'min_child_weight': [1, 2, 3, 4, 5],\n",
       "                                         'n_estimators': [75, 85, 100, 125, 150,\n",
       "                                                          175, 200, 225],\n",
       "                                         'objective': ['binary:logistic',\n",
       "                                                       'binary:logitraw'],\n",
       "                                         'subsample': [0.5, 0.7, 0.8, 0.9, 1]}],\n",
       "                   random_state=1275, scoring='accuracy')"
      ]
     },
     "execution_count": 141,
     "metadata": {},
     "output_type": "execute_result"
    }
   ],
   "source": [
    "rnd_search = RandomizedSearchCV(estimator=xgb, \n",
    "                                param_distributions = PARAM_DISTRIBUTIONS, \n",
    "                                n_iter=25, scoring= 'accuracy',\n",
    "                                n_jobs=-1, cv=cv, random_state=seed\n",
    "                              )\n",
    "rnd_search.fit(X_train_xgb, y_train_xgb)"
   ]
  },
  {
   "cell_type": "markdown",
   "id": "2fZhyJnpcUd-",
   "metadata": {
    "id": "2fZhyJnpcUd-"
   },
   "source": [
    "#### Avaliação do Modelo com os melhores hiperparâmetros - XGBoost"
   ]
  },
  {
   "cell_type": "code",
   "execution_count": null,
   "id": "VgIx46dJsZVK",
   "metadata": {
    "colab": {
     "base_uri": "https://localhost:8080/"
    },
    "id": "VgIx46dJsZVK",
    "outputId": "77bab2e1-9e7c-4492-962d-75b212a3b9b2"
   },
   "outputs": [
    {
     "data": {
      "text/plain": [
       "{'booster': 'gbtree',\n",
       " 'colsample_bylevel': 0.7,\n",
       " 'colsample_bynode': 0.7,\n",
       " 'colsample_bytree': 0.7,\n",
       " 'gamma': 1.5,\n",
       " 'learning_rate': 0.1,\n",
       " 'max_depth': 8,\n",
       " 'min_child_weight': 3,\n",
       " 'n_estimators': 150,\n",
       " 'objective': 'binary:logistic',\n",
       " 'subsample': 0.8}"
      ]
     },
     "execution_count": 142,
     "metadata": {},
     "output_type": "execute_result"
    }
   ],
   "source": [
    "rnd_search.best_params_"
   ]
  },
  {
   "cell_type": "code",
   "execution_count": null,
   "id": "uc9SVSOh3PC9",
   "metadata": {
    "colab": {
     "base_uri": "https://localhost:8080/"
    },
    "id": "uc9SVSOh3PC9",
    "outputId": "a43f7b2c-682a-4a04-acd7-500416c0932f"
   },
   "outputs": [
    {
     "name": "stdout",
     "output_type": "stream",
     "text": [
      "<bound method XGBModel.get_params of XGBClassifier(colsample_bylevel=0.7, colsample_bynode=0.7, colsample_bytree=0.7,\n",
      "              gamma=1.5, max_depth=8, min_child_weight=3, n_estimators=150,\n",
      "              random_state=1275, subsample=0.8)>\n",
      "\n",
      "\n",
      "Accuracy:     0.865 +/- 0.092\n",
      "F1_micro:     0.865 +/- 0.092\n",
      "Roc_auc:      0.948 +/- 0.053\n",
      "\n"
     ]
    }
   ],
   "source": [
    "hyper_xgb = XGBClassifier(**rnd_search.best_params_, random_state=seed)\n",
    "print(hyper_xgb.get_params)\n",
    "print('\\n')\n",
    "\n",
    "evaluate(hyper_xgb, X_tree, y_tree, cv=cv)"
   ]
  },
  {
   "cell_type": "code",
   "execution_count": null,
   "id": "jIqvg44SVhtS",
   "metadata": {
    "colab": {
     "base_uri": "https://localhost:8080/"
    },
    "id": "jIqvg44SVhtS",
    "outputId": "ac1fe8c8-6ccc-42fa-dabb-a3f2fd1359f4"
   },
   "outputs": [
    {
     "name": "stdout",
     "output_type": "stream",
     "text": [
      "\n",
      "Classification report:\n",
      "               precision    recall  f1-score   support\n",
      "\n",
      "       human       0.96      0.95      0.95      3918\n",
      "     natural       0.94      0.95      0.95      3266\n",
      "\n",
      "    accuracy                           0.95      7184\n",
      "   macro avg       0.95      0.95      0.95      7184\n",
      "weighted avg       0.95      0.95      0.95      7184\n",
      "\n",
      "Confusion matrix:\n",
      " [[3727  191]\n",
      " [ 169 3097]]\n"
     ]
    }
   ],
   "source": [
    "model_hyper = hyper_xgb.fit(X_train_xgb, y_train_xgb)\n",
    "y_predicted_h = hyper_xgb.predict(X_test_xgb)\n",
    "\n",
    "print(\"\\nClassification report:\\n\", classification_report(le_tree.inverse_transform(y_test_xgb), le_tree.inverse_transform(y_predicted_h)))\n",
    "print(\"Confusion matrix:\\n\", confusion_matrix(y_test_xgb, y_predicted_h))"
   ]
  },
  {
   "cell_type": "code",
   "execution_count": null,
   "id": "61meL-vUwqyN",
   "metadata": {
    "colab": {
     "base_uri": "https://localhost:8080/",
     "height": 332
    },
    "id": "61meL-vUwqyN",
    "outputId": "627bcc4b-f8a0-4d0d-b554-de2c7323fce0"
   },
   "outputs": [
    {
     "name": "stdout",
     "output_type": "stream",
     "text": [
      "Accuracy: 0.9498886414253898\n",
      "AUC: 0.9885018100703116\n"
     ]
    },
    {
     "data": {
      "image/png": "[encoded data removed]",
      "text/plain": [
       "<Figure size 432x288 with 1 Axes>"
      ]
     },
     "metadata": {
      "needs_background": "light"
     },
     "output_type": "display_data"
    }
   ],
   "source": [
    "roc_curve_function(X_test_xgb, y_test_xgb, y_predicted_h, model_hyper)"
   ]
  },
  {
   "cell_type": "markdown",
   "id": "SdfEzWljNZzb",
   "metadata": {
    "id": "SdfEzWljNZzb"
   },
   "source": [
    "## Redes Neurais - MLP"
   ]
  },
  {
   "cell_type": "code",
   "execution_count": null,
   "id": "HtFxEcg-a5_r",
   "metadata": {
    "colab": {
     "base_uri": "https://localhost:8080/"
    },
    "id": "HtFxEcg-a5_r",
    "outputId": "91bb0281-5cde-4511-a48a-f9bfbc9091c4"
   },
   "outputs": [
    {
     "name": "stdout",
     "output_type": "stream",
     "text": [
      "Looking in indexes: https://pypi.org/simple, https://us-python.pkg.dev/colab-wheels/public/simple/\n",
      "Collecting tensorflow-addons\n",
      "  Downloading tensorflow_addons-0.17.1-cp37-cp37m-manylinux_2_17_x86_64.manylinux2014_x86_64.whl (1.1 MB)\n",
      "\u001b[K     |████████████████████████████████| 1.1 MB 31.6 MB/s \n",
      "\u001b[?25hRequirement already satisfied: packaging in /usr/local/lib/python3.7/dist-packages (from tensorflow-addons) (21.3)\n",
      "Requirement already satisfied: typeguard>=2.7 in /usr/local/lib/python3.7/dist-packages (from tensorflow-addons) (2.7.1)\n",
      "Requirement already satisfied: pyparsing!=3.0.5,>=2.0.2 in /usr/local/lib/python3.7/dist-packages (from packaging->tensorflow-addons) (3.0.9)\n",
      "Installing collected packages: tensorflow-addons\n",
      "Successfully installed tensorflow-addons-0.17.1\n"
     ]
    }
   ],
   "source": [
    "#!pip install tensorflow-addons"
   ]
  },
  {
   "cell_type": "code",
   "execution_count": null,
   "id": "XUiiymuEdkQJ",
   "metadata": {
    "ExecuteTime": {
     "end_time": "2022-04-19T00:01:16.279708Z",
     "start_time": "2022-04-19T00:01:10.577867Z"
    },
    "id": "XUiiymuEdkQJ"
   },
   "outputs": [],
   "source": [
    "import tensorflow as tf\n",
    "from tensorflow import keras\n",
    "import tensorflow_addons as tfa"
   ]
  },
  {
   "cell_type": "code",
   "execution_count": null,
   "id": "R7LgWrcgUqYP",
   "metadata": {
    "ExecuteTime": {
     "end_time": "2022-04-19T00:01:17.450340Z",
     "start_time": "2022-04-19T00:01:16.281702Z"
    },
    "colab": {
     "base_uri": "https://localhost:8080/"
    },
    "id": "R7LgWrcgUqYP",
    "outputId": "014b366a-d03b-4c62-9520-15c8b19fe75c"
   },
   "outputs": [
    {
     "name": "stdout",
     "output_type": "stream",
     "text": [
      "Tensorflow Version:  2.8.2\n",
      "GPUs Available:  1\n",
      "Tensorflow Adons Version:  0.17.1\n"
     ]
    }
   ],
   "source": [
    "print(\"Tensorflow Version: \", tf.__version__)\n",
    "print(\"GPUs Available: \", len(tf.config.list_physical_devices('GPU')))\n",
    "print(\"Tensorflow Adons Version: \", tfa.__version__)"
   ]
  },
  {
   "cell_type": "code",
   "execution_count": null,
   "id": "LGGdvgexbXXZ",
   "metadata": {
    "id": "LGGdvgexbXXZ"
   },
   "outputs": [],
   "source": [
    "# Aplicando o processamento de dados\n",
    "le_mlp = LabelEncoder()\n",
    "\n",
    "y_processed = le_mlp.fit_transform(y)"
   ]
  },
  {
   "cell_type": "code",
   "execution_count": null,
   "id": "bpLccivO7Rgl",
   "metadata": {
    "colab": {
     "base_uri": "https://localhost:8080/"
    },
    "id": "bpLccivO7Rgl",
    "outputId": "ae58b83f-5c6d-440d-8141-f00ec621c72f"
   },
   "outputs": [
    {
     "data": {
      "text/plain": [
       "(28733, 98)"
      ]
     },
     "execution_count": 91,
     "metadata": {},
     "output_type": "execute_result"
    }
   ],
   "source": [
    "X_gdm = pd.get_dummies(X, columns=cat_cols, drop_first=True)\n",
    "X_gdm.shape"
   ]
  },
  {
   "cell_type": "code",
   "execution_count": null,
   "id": "lAFW9EsN9NqX",
   "metadata": {
    "colab": {
     "base_uri": "https://localhost:8080/",
     "height": 317
    },
    "id": "lAFW9EsN9NqX",
    "outputId": "c5ae313e-1f1b-4803-a8ed-7b74549569ca"
   },
   "outputs": [
    {
     "data": {
      "text/html": [
       "\n",
       "  <div id=\"df-f9b5c5af-001d-432a-b694-87d764b5b26a\">\n",
       "    <div class=\"colab-df-container\">\n",
       "      <div>\n",
       "<style scoped>\n",
       "    .dataframe tbody tr th:only-of-type {\n",
       "        vertical-align: middle;\n",
       "    }\n",
       "\n",
       "    .dataframe tbody tr th {\n",
       "        vertical-align: top;\n",
       "    }\n",
       "\n",
       "    .dataframe thead th {\n",
       "        text-align: right;\n",
       "    }\n",
       "</style>\n",
       "<table border=\"1\" class=\"dataframe\">\n",
       "  <thead>\n",
       "    <tr style=\"text-align: right;\">\n",
       "      <th></th>\n",
       "      <th>assessment_hectares</th>\n",
       "      <th>current_size</th>\n",
       "      <th>fire_location_latitude</th>\n",
       "      <th>fire_location_longitude</th>\n",
       "      <th>bh_hectares</th>\n",
       "      <th>uc_hectares</th>\n",
       "      <th>ex_hectares</th>\n",
       "      <th>fire_start_day</th>\n",
       "      <th>fire_start_month</th>\n",
       "      <th>fire_start_year</th>\n",
       "      <th>...</th>\n",
       "      <th>seasons_winter</th>\n",
       "      <th>forest_protection_area_Edson</th>\n",
       "      <th>forest_protection_area_Fort McMurray</th>\n",
       "      <th>forest_protection_area_Grande Prairie</th>\n",
       "      <th>forest_protection_area_High Level</th>\n",
       "      <th>forest_protection_area_Lac La Biche</th>\n",
       "      <th>forest_protection_area_Peace River</th>\n",
       "      <th>forest_protection_area_Rocky</th>\n",
       "      <th>forest_protection_area_Slave Lake</th>\n",
       "      <th>forest_protection_area_Whitecourt</th>\n",
       "    </tr>\n",
       "  </thead>\n",
       "  <tbody>\n",
       "    <tr>\n",
       "      <th>0</th>\n",
       "      <td>1.00</td>\n",
       "      <td>1.0</td>\n",
       "      <td>56.6914</td>\n",
       "      <td>-111.3831</td>\n",
       "      <td>1.0</td>\n",
       "      <td>1.0</td>\n",
       "      <td>1.0</td>\n",
       "      <td>4</td>\n",
       "      <td>5</td>\n",
       "      <td>1996</td>\n",
       "      <td>...</td>\n",
       "      <td>0</td>\n",
       "      <td>0</td>\n",
       "      <td>0</td>\n",
       "      <td>0</td>\n",
       "      <td>0</td>\n",
       "      <td>0</td>\n",
       "      <td>0</td>\n",
       "      <td>0</td>\n",
       "      <td>0</td>\n",
       "      <td>0</td>\n",
       "    </tr>\n",
       "    <tr>\n",
       "      <th>1</th>\n",
       "      <td>0.40</td>\n",
       "      <td>0.4</td>\n",
       "      <td>57.2789</td>\n",
       "      <td>-111.5762</td>\n",
       "      <td>0.4</td>\n",
       "      <td>0.4</td>\n",
       "      <td>0.4</td>\n",
       "      <td>19</td>\n",
       "      <td>5</td>\n",
       "      <td>1996</td>\n",
       "      <td>...</td>\n",
       "      <td>0</td>\n",
       "      <td>0</td>\n",
       "      <td>0</td>\n",
       "      <td>0</td>\n",
       "      <td>0</td>\n",
       "      <td>0</td>\n",
       "      <td>0</td>\n",
       "      <td>0</td>\n",
       "      <td>0</td>\n",
       "      <td>0</td>\n",
       "    </tr>\n",
       "    <tr>\n",
       "      <th>2</th>\n",
       "      <td>1.00</td>\n",
       "      <td>4.0</td>\n",
       "      <td>58.2523</td>\n",
       "      <td>-110.5540</td>\n",
       "      <td>4.0</td>\n",
       "      <td>4.0</td>\n",
       "      <td>4.0</td>\n",
       "      <td>24</td>\n",
       "      <td>5</td>\n",
       "      <td>1996</td>\n",
       "      <td>...</td>\n",
       "      <td>0</td>\n",
       "      <td>0</td>\n",
       "      <td>0</td>\n",
       "      <td>0</td>\n",
       "      <td>0</td>\n",
       "      <td>0</td>\n",
       "      <td>0</td>\n",
       "      <td>0</td>\n",
       "      <td>0</td>\n",
       "      <td>0</td>\n",
       "    </tr>\n",
       "    <tr>\n",
       "      <th>3</th>\n",
       "      <td>0.02</td>\n",
       "      <td>1.2</td>\n",
       "      <td>57.7477</td>\n",
       "      <td>-112.6786</td>\n",
       "      <td>1.2</td>\n",
       "      <td>1.2</td>\n",
       "      <td>1.2</td>\n",
       "      <td>29</td>\n",
       "      <td>5</td>\n",
       "      <td>1996</td>\n",
       "      <td>...</td>\n",
       "      <td>0</td>\n",
       "      <td>0</td>\n",
       "      <td>0</td>\n",
       "      <td>0</td>\n",
       "      <td>0</td>\n",
       "      <td>0</td>\n",
       "      <td>0</td>\n",
       "      <td>0</td>\n",
       "      <td>0</td>\n",
       "      <td>0</td>\n",
       "    </tr>\n",
       "    <tr>\n",
       "      <th>4</th>\n",
       "      <td>0.04</td>\n",
       "      <td>1.6</td>\n",
       "      <td>57.5501</td>\n",
       "      <td>-111.2103</td>\n",
       "      <td>0.8</td>\n",
       "      <td>0.8</td>\n",
       "      <td>1.6</td>\n",
       "      <td>30</td>\n",
       "      <td>5</td>\n",
       "      <td>1996</td>\n",
       "      <td>...</td>\n",
       "      <td>0</td>\n",
       "      <td>0</td>\n",
       "      <td>0</td>\n",
       "      <td>0</td>\n",
       "      <td>0</td>\n",
       "      <td>0</td>\n",
       "      <td>0</td>\n",
       "      <td>0</td>\n",
       "      <td>0</td>\n",
       "      <td>0</td>\n",
       "    </tr>\n",
       "  </tbody>\n",
       "</table>\n",
       "<p>5 rows × 98 columns</p>\n",
       "</div>\n",
       "      <button class=\"colab-df-convert\" onclick=\"convertToInteractive('df-f9b5c5af-001d-432a-b694-87d764b5b26a')\"\n",
       "              title=\"Convert this dataframe to an interactive table.\"\n",
       "              style=\"display:none;\">\n",
       "        \n",
       "  <svg xmlns=\"http://www.w3.org/2000/svg\" height=\"24px\"viewBox=\"0 0 24 24\"\n",
       "       width=\"24px\">\n",
       "    <path d=\"M0 0h24v24H0V0z\" fill=\"none\"/>\n",
       "    <path d=\"M18.56 5.44l.94 2.06.94-2.06 2.06-.94-2.06-.94-.94-2.06-.94 2.06-2.06.94zm-11 1L8.5 8.5l.94-2.06 2.06-.94-2.06-.94L8.5 2.5l-.94 2.06-2.06.94zm10 10l.94 2.06.94-2.06 2.06-.94-2.06-.94-.94-2.06-.94 2.06-2.06.94z\"/><path d=\"M17.41 7.96l-1.37-1.37c-.4-.4-.92-.59-1.43-.59-.52 0-1.04.2-1.43.59L10.3 9.45l-7.72 7.72c-.78.78-.78 2.05 0 2.83L4 21.41c.39.39.9.59 1.41.59.51 0 1.02-.2 1.41-.59l7.78-7.78 2.81-2.81c.8-.78.8-2.07 0-2.86zM5.41 20L4 18.59l7.72-7.72 1.47 1.35L5.41 20z\"/>\n",
       "  </svg>\n",
       "      </button>\n",
       "      \n",
       "  <style>\n",
       "    .colab-df-container {\n",
       "      display:flex;\n",
       "      flex-wrap:wrap;\n",
       "      gap: 12px;\n",
       "    }\n",
       "\n",
       "    .colab-df-convert {\n",
       "      background-color: #E8F0FE;\n",
       "      border: none;\n",
       "      border-radius: 50%;\n",
       "      cursor: pointer;\n",
       "      display: none;\n",
       "      fill: #1967D2;\n",
       "      height: 32px;\n",
       "      padding: 0 0 0 0;\n",
       "      width: 32px;\n",
       "    }\n",
       "\n",
       "    .colab-df-convert:hover {\n",
       "      background-color: #E2EBFA;\n",
       "      box-shadow: 0px 1px 2px rgba(60, 64, 67, 0.3), 0px 1px 3px 1px rgba(60, 64, 67, 0.15);\n",
       "      fill: #174EA6;\n",
       "    }\n",
       "\n",
       "    [theme=dark] .colab-df-convert {\n",
       "      background-color: #3B4455;\n",
       "      fill: #D2E3FC;\n",
       "    }\n",
       "\n",
       "    [theme=dark] .colab-df-convert:hover {\n",
       "      background-color: #434B5C;\n",
       "      box-shadow: 0px 1px 3px 1px rgba(0, 0, 0, 0.15);\n",
       "      filter: drop-shadow(0px 1px 2px rgba(0, 0, 0, 0.3));\n",
       "      fill: #FFFFFF;\n",
       "    }\n",
       "  </style>\n",
       "\n",
       "      <script>\n",
       "        const buttonEl =\n",
       "          document.querySelector('#df-f9b5c5af-001d-432a-b694-87d764b5b26a button.colab-df-convert');\n",
       "        buttonEl.style.display =\n",
       "          google.colab.kernel.accessAllowed ? 'block' : 'none';\n",
       "\n",
       "        async function convertToInteractive(key) {\n",
       "          const element = document.querySelector('#df-f9b5c5af-001d-432a-b694-87d764b5b26a');\n",
       "          const dataTable =\n",
       "            await google.colab.kernel.invokeFunction('convertToInteractive',\n",
       "                                                     [key], {});\n",
       "          if (!dataTable) return;\n",
       "\n",
       "          const docLinkHtml = 'Like what you see? Visit the ' +\n",
       "            '<a target=\"_blank\" href=https://colab.research.google.com/notebooks/data_table.ipynb>data table notebook</a>'\n",
       "            + ' to learn more about interactive tables.';\n",
       "          element.innerHTML = '';\n",
       "          dataTable['output_type'] = 'display_data';\n",
       "          await google.colab.output.renderOutput(dataTable, element);\n",
       "          const docLink = document.createElement('div');\n",
       "          docLink.innerHTML = docLinkHtml;\n",
       "          element.appendChild(docLink);\n",
       "        }\n",
       "      </script>\n",
       "    </div>\n",
       "  </div>\n",
       "  "
      ],
      "text/plain": [
       "   assessment_hectares  current_size  fire_location_latitude  \\\n",
       "0                 1.00           1.0                 56.6914   \n",
       "1                 0.40           0.4                 57.2789   \n",
       "2                 1.00           4.0                 58.2523   \n",
       "3                 0.02           1.2                 57.7477   \n",
       "4                 0.04           1.6                 57.5501   \n",
       "\n",
       "   fire_location_longitude  bh_hectares  uc_hectares  ex_hectares  \\\n",
       "0                -111.3831          1.0          1.0          1.0   \n",
       "1                -111.5762          0.4          0.4          0.4   \n",
       "2                -110.5540          4.0          4.0          4.0   \n",
       "3                -112.6786          1.2          1.2          1.2   \n",
       "4                -111.2103          0.8          0.8          1.6   \n",
       "\n",
       "   fire_start_day  fire_start_month  fire_start_year  ...  seasons_winter  \\\n",
       "0               4                 5             1996  ...               0   \n",
       "1              19                 5             1996  ...               0   \n",
       "2              24                 5             1996  ...               0   \n",
       "3              29                 5             1996  ...               0   \n",
       "4              30                 5             1996  ...               0   \n",
       "\n",
       "   forest_protection_area_Edson  forest_protection_area_Fort McMurray  \\\n",
       "0                             0                                     0   \n",
       "1                             0                                     0   \n",
       "2                             0                                     0   \n",
       "3                             0                                     0   \n",
       "4                             0                                     0   \n",
       "\n",
       "   forest_protection_area_Grande Prairie  forest_protection_area_High Level  \\\n",
       "0                                      0                                  0   \n",
       "1                                      0                                  0   \n",
       "2                                      0                                  0   \n",
       "3                                      0                                  0   \n",
       "4                                      0                                  0   \n",
       "\n",
       "   forest_protection_area_Lac La Biche  forest_protection_area_Peace River  \\\n",
       "0                                    0                                   0   \n",
       "1                                    0                                   0   \n",
       "2                                    0                                   0   \n",
       "3                                    0                                   0   \n",
       "4                                    0                                   0   \n",
       "\n",
       "   forest_protection_area_Rocky  forest_protection_area_Slave Lake  \\\n",
       "0                             0                                  0   \n",
       "1                             0                                  0   \n",
       "2                             0                                  0   \n",
       "3                             0                                  0   \n",
       "4                             0                                  0   \n",
       "\n",
       "   forest_protection_area_Whitecourt  \n",
       "0                                  0  \n",
       "1                                  0  \n",
       "2                                  0  \n",
       "3                                  0  \n",
       "4                                  0  \n",
       "\n",
       "[5 rows x 98 columns]"
      ]
     },
     "execution_count": 92,
     "metadata": {},
     "output_type": "execute_result"
    }
   ],
   "source": [
    "X_gdm.head()"
   ]
  },
  {
   "cell_type": "code",
   "execution_count": null,
   "id": "i3uT8N5_bwlQ",
   "metadata": {
    "colab": {
     "base_uri": "https://localhost:8080/"
    },
    "id": "i3uT8N5_bwlQ",
    "outputId": "2fd3b190-a39e-455e-e3e1-2b0d50dfc18e"
   },
   "outputs": [
    {
     "name": "stdout",
     "output_type": "stream",
     "text": [
      "Shape do Conjunto de Treino:  (14366, 98)\n",
      "Shape das labels de Treino:  (14366,)\n",
      "Shape do Conjunto de Validação:  (7183, 98)\n",
      "Shape das labels de Validação:  (7183,)\n",
      "Shape do Conjunto de Teste:  (7184, 98)\n",
      "Shape das labels de Teste:  (7184,)\n"
     ]
    }
   ],
   "source": [
    "X_train_mlp, X_test_mlp, y_train_mlp, y_test_mlp = train_test_split(X_gdm, y_processed, test_size=0.25, stratify=y_processed, random_state=seed)\n",
    "X_train_mlp, X_valid_mlp, y_train_mlp, y_valid_mlp = train_test_split(X_train_mlp, y_train_mlp, test_size = 0.3333, stratify=y_train_mlp, random_state=seed)\n",
    "\n",
    "print('Shape do Conjunto de Treino: ', X_train_mlp.shape)\n",
    "print('Shape das labels de Treino: ', y_train_mlp.shape)\n",
    "print('Shape do Conjunto de Validação: ', X_valid_mlp.shape)\n",
    "print('Shape das labels de Validação: ', y_valid_mlp.shape)\n",
    "print('Shape do Conjunto de Teste: ', X_test_mlp.shape)\n",
    "print('Shape das labels de Teste: ', y_test_mlp.shape)"
   ]
  },
  {
   "cell_type": "code",
   "execution_count": null,
   "id": "y0bbaMt8w3rZ",
   "metadata": {
    "colab": {
     "base_uri": "https://localhost:8080/"
    },
    "id": "y0bbaMt8w3rZ",
    "outputId": "0804198e-3d0a-49d1-ca54-9fb7870b94b7"
   },
   "outputs": [
    {
     "name": "stdout",
     "output_type": "stream",
     "text": [
      "y train: [7835 6531]\n",
      "y valid: [3917 3266]\n",
      "y test: [3918 3266]\n"
     ]
    }
   ],
   "source": [
    "print(\"y train:\", np.bincount(y_train_mlp))\n",
    "print(\"y valid:\", np.bincount(y_valid_mlp))\n",
    "print(\"y test:\", np.bincount(y_test_mlp))"
   ]
  },
  {
   "cell_type": "code",
   "execution_count": null,
   "id": "FaDkMr9oUqYQ",
   "metadata": {
    "ExecuteTime": {
     "end_time": "2022-04-19T00:01:17.465384Z",
     "start_time": "2022-04-19T00:01:17.451332Z"
    },
    "colab": {
     "base_uri": "https://localhost:8080/"
    },
    "id": "FaDkMr9oUqYQ",
    "outputId": "978e9428-c440-4e9e-b689-84ad363e8c98"
   },
   "outputs": [
    {
     "data": {
      "text/plain": [
       "MinMaxScaler(feature_range=(-1, 1))"
      ]
     },
     "execution_count": 98,
     "metadata": {},
     "output_type": "execute_result"
    }
   ],
   "source": [
    "Scaler = MinMaxScaler(feature_range=(-1,1))\n",
    "Scaler.fit(X_train_mlp[num_cols])"
   ]
  },
  {
   "cell_type": "code",
   "execution_count": null,
   "id": "MAoLWKnnAsdd",
   "metadata": {
    "id": "MAoLWKnnAsdd"
   },
   "outputs": [],
   "source": [
    "X_train_mlp.loc[:,num_cols] = Scaler.transform(X_train_mlp[num_cols])\n",
    "X_valid_mlp.loc[:,num_cols] = Scaler.transform(X_valid_mlp[num_cols])\n",
    "X_test_mlp.loc[:,num_cols] = Scaler.transform(X_test_mlp[num_cols])"
   ]
  },
  {
   "cell_type": "markdown",
   "id": "2aJZBwlqUqYQ",
   "metadata": {
    "id": "2aJZBwlqUqYQ"
   },
   "source": [
    "* Definindo o modelo (MLP)"
   ]
  },
  {
   "cell_type": "code",
   "execution_count": null,
   "id": "lGCAMt-nNkJZ",
   "metadata": {
    "ExecuteTime": {
     "end_time": "2022-04-19T00:01:19.368101Z",
     "start_time": "2022-04-19T00:01:17.481332Z"
    },
    "colab": {
     "base_uri": "https://localhost:8080/"
    },
    "id": "lGCAMt-nNkJZ",
    "outputId": "6770a152-8baa-4206-edc1-28c618128501"
   },
   "outputs": [
    {
     "name": "stdout",
     "output_type": "stream",
     "text": [
      "Model: \"sequential\"\n",
      "_________________________________________________________________\n",
      " Layer (type)                Output Shape              Param #   \n",
      "=================================================================\n",
      " dense (Dense)               (None, 100)               9900      \n",
      "                                                                 \n",
      " dropout (Dropout)           (None, 100)               0         \n",
      "                                                                 \n",
      " dense_1 (Dense)             (None, 50)                5050      \n",
      "                                                                 \n",
      " dropout_1 (Dropout)         (None, 50)                0         \n",
      "                                                                 \n",
      " dense_2 (Dense)             (None, 10)                510       \n",
      "                                                                 \n",
      " dropout_2 (Dropout)         (None, 10)                0         \n",
      "                                                                 \n",
      " dense_3 (Dense)             (None, 1)                 11        \n",
      "                                                                 \n",
      "=================================================================\n",
      "Total params: 15,471\n",
      "Trainable params: 15,471\n",
      "Non-trainable params: 0\n",
      "_________________________________________________________________\n"
     ]
    }
   ],
   "source": [
    "INPUT_SHAPE = (X_train_mlp.shape[1],)\n",
    "DROPOUT = 0.3\n",
    "\n",
    "model_mlp = keras.models.Sequential([\n",
    "                                      keras.layers.Dense(100, activation='relu', input_shape=INPUT_SHAPE),\n",
    "                                      keras.layers.Dropout(DROPOUT),\n",
    "                                      keras.layers.Dense(50, activation='relu'),\n",
    "                                      keras.layers.Dropout(DROPOUT),\n",
    "                                      keras.layers.Dense(10, activation='relu'),\n",
    "                                      keras.layers.Dropout(DROPOUT),\n",
    "                                      keras.layers.Dense(1, activation = \"sigmoid\")\n",
    "])\n",
    "\n",
    "model_mlp.summary()"
   ]
  },
  {
   "cell_type": "markdown",
   "id": "O6_hPEvfUqYR",
   "metadata": {
    "id": "O6_hPEvfUqYR"
   },
   "source": [
    "* Definindo função de perda, otimizador e métricas;\n",
    "* Compilando o modelo."
   ]
  },
  {
   "cell_type": "code",
   "execution_count": null,
   "id": "vLCXwWzaUqYR",
   "metadata": {
    "ExecuteTime": {
     "end_time": "2022-04-19T00:01:19.398108Z",
     "start_time": "2022-04-19T00:01:19.369101Z"
    },
    "id": "vLCXwWzaUqYR"
   },
   "outputs": [],
   "source": [
    "from tensorflow_addons.metrics.f_scores import F1Score\n",
    "\n",
    "f1_score = F1Score(num_classes=2, average=\"micro\", threshold=0.5)\n",
    "\n",
    "model_mlp.compile(loss='binary_crossentropy', optimizer=\"Adam\", metrics= ['accuracy', keras.metrics.AUC(name='auc'), f1_score])"
   ]
  },
  {
   "cell_type": "markdown",
   "id": "smwGepduUqYR",
   "metadata": {
    "id": "smwGepduUqYR"
   },
   "source": [
    "* Definindo tamanho dos lotes (*batch size*) e o número de épocas."
   ]
  },
  {
   "cell_type": "code",
   "execution_count": null,
   "id": "jfsNRmidgsq9",
   "metadata": {
    "ExecuteTime": {
     "end_time": "2022-04-19T00:01:19.414164Z",
     "start_time": "2022-04-19T00:01:19.399100Z"
    },
    "id": "jfsNRmidgsq9"
   },
   "outputs": [],
   "source": [
    "BATCH_SIZE = 50    # Tamanho do batch de treinamento\n",
    "N_EPOCHS = 100"
   ]
  },
  {
   "cell_type": "markdown",
   "id": "W2-w5h3KUqYR",
   "metadata": {
    "id": "W2-w5h3KUqYR"
   },
   "source": [
    "* Treinando o Modelo."
   ]
  },
  {
   "cell_type": "code",
   "execution_count": null,
   "id": "uKH9lfFKgxTW",
   "metadata": {
    "ExecuteTime": {
     "end_time": "2022-04-19T00:02:13.517138Z",
     "start_time": "2022-04-19T00:01:19.416130Z"
    },
    "colab": {
     "base_uri": "https://localhost:8080/"
    },
    "id": "uKH9lfFKgxTW",
    "outputId": "cd6862d8-0e05-4201-e6dd-a01e0f57dcb8"
   },
   "outputs": [
    {
     "name": "stdout",
     "output_type": "stream",
     "text": [
      "Epoch 1/100\n",
      "288/288 [==============================] - 8s 12ms/step - loss: 0.3281 - accuracy: 0.8666 - auc: 0.9374 - f1_score: 0.8550 - val_loss: 0.1951 - val_accuracy: 0.9257 - val_auc: 0.9761 - val_f1_score: 0.9185\n",
      "Epoch 2/100\n",
      "288/288 [==============================] - 3s 9ms/step - loss: 0.2245 - accuracy: 0.9210 - auc: 0.9681 - f1_score: 0.9133 - val_loss: 0.1873 - val_accuracy: 0.9284 - val_auc: 0.9782 - val_f1_score: 0.9207\n",
      "Epoch 3/100\n",
      "288/288 [==============================] - 3s 12ms/step - loss: 0.2124 - accuracy: 0.9245 - auc: 0.9718 - f1_score: 0.9171 - val_loss: 0.1815 - val_accuracy: 0.9293 - val_auc: 0.9790 - val_f1_score: 0.9221\n",
      "Epoch 4/100\n",
      "288/288 [==============================] - 4s 13ms/step - loss: 0.2071 - accuracy: 0.9286 - auc: 0.9731 - f1_score: 0.9218 - val_loss: 0.1911 - val_accuracy: 0.9272 - val_auc: 0.9792 - val_f1_score: 0.9174\n",
      "Epoch 5/100\n",
      "288/288 [==============================] - 3s 11ms/step - loss: 0.1981 - accuracy: 0.9303 - auc: 0.9754 - f1_score: 0.9235 - val_loss: 0.1771 - val_accuracy: 0.9326 - val_auc: 0.9800 - val_f1_score: 0.9262\n",
      "Epoch 6/100\n",
      "288/288 [==============================] - 3s 10ms/step - loss: 0.1941 - accuracy: 0.9332 - auc: 0.9760 - f1_score: 0.9269 - val_loss: 0.1771 - val_accuracy: 0.9316 - val_auc: 0.9803 - val_f1_score: 0.9260\n",
      "Epoch 7/100\n",
      "288/288 [==============================] - 3s 9ms/step - loss: 0.1904 - accuracy: 0.9347 - auc: 0.9772 - f1_score: 0.9286 - val_loss: 0.1805 - val_accuracy: 0.9323 - val_auc: 0.9798 - val_f1_score: 0.9271\n",
      "Epoch 8/100\n",
      "288/288 [==============================] - 3s 9ms/step - loss: 0.1864 - accuracy: 0.9358 - auc: 0.9778 - f1_score: 0.9299 - val_loss: 0.1776 - val_accuracy: 0.9325 - val_auc: 0.9799 - val_f1_score: 0.9258\n",
      "Epoch 9/100\n",
      "288/288 [==============================] - 3s 9ms/step - loss: 0.1840 - accuracy: 0.9357 - auc: 0.9786 - f1_score: 0.9297 - val_loss: 0.1743 - val_accuracy: 0.9337 - val_auc: 0.9807 - val_f1_score: 0.9272\n",
      "Epoch 10/100\n",
      "288/288 [==============================] - 2s 8ms/step - loss: 0.1802 - accuracy: 0.9380 - auc: 0.9795 - f1_score: 0.9323 - val_loss: 0.1790 - val_accuracy: 0.9340 - val_auc: 0.9810 - val_f1_score: 0.9290\n",
      "Epoch 11/100\n",
      "288/288 [==============================] - 3s 9ms/step - loss: 0.1759 - accuracy: 0.9411 - auc: 0.9801 - f1_score: 0.9358 - val_loss: 0.1749 - val_accuracy: 0.9326 - val_auc: 0.9807 - val_f1_score: 0.9250\n",
      "Epoch 12/100\n",
      "288/288 [==============================] - 3s 9ms/step - loss: 0.1727 - accuracy: 0.9386 - auc: 0.9811 - f1_score: 0.9330 - val_loss: 0.1724 - val_accuracy: 0.9344 - val_auc: 0.9811 - val_f1_score: 0.9288\n",
      "Epoch 13/100\n",
      "288/288 [==============================] - 2s 5ms/step - loss: 0.1692 - accuracy: 0.9415 - auc: 0.9819 - f1_score: 0.9362 - val_loss: 0.1708 - val_accuracy: 0.9362 - val_auc: 0.9813 - val_f1_score: 0.9304\n",
      "Epoch 14/100\n",
      "288/288 [==============================] - 2s 5ms/step - loss: 0.1668 - accuracy: 0.9411 - auc: 0.9820 - f1_score: 0.9357 - val_loss: 0.1721 - val_accuracy: 0.9367 - val_auc: 0.9814 - val_f1_score: 0.9311\n",
      "Epoch 15/100\n",
      "288/288 [==============================] - 2s 5ms/step - loss: 0.1626 - accuracy: 0.9429 - auc: 0.9832 - f1_score: 0.9376 - val_loss: 0.1768 - val_accuracy: 0.9350 - val_auc: 0.9807 - val_f1_score: 0.9281\n",
      "Epoch 16/100\n",
      "288/288 [==============================] - 2s 5ms/step - loss: 0.1606 - accuracy: 0.9423 - auc: 0.9834 - f1_score: 0.9370 - val_loss: 0.1758 - val_accuracy: 0.9347 - val_auc: 0.9809 - val_f1_score: 0.9281\n",
      "Epoch 17/100\n",
      "288/288 [==============================] - 2s 6ms/step - loss: 0.1591 - accuracy: 0.9456 - auc: 0.9837 - f1_score: 0.9405 - val_loss: 0.1782 - val_accuracy: 0.9357 - val_auc: 0.9806 - val_f1_score: 0.9302\n",
      "Epoch 18/100\n",
      "288/288 [==============================] - 2s 6ms/step - loss: 0.1536 - accuracy: 0.9448 - auc: 0.9848 - f1_score: 0.9398 - val_loss: 0.1770 - val_accuracy: 0.9350 - val_auc: 0.9807 - val_f1_score: 0.9286\n",
      "Epoch 19/100\n",
      "288/288 [==============================] - 2s 6ms/step - loss: 0.1542 - accuracy: 0.9461 - auc: 0.9847 - f1_score: 0.9410 - val_loss: 0.1783 - val_accuracy: 0.9360 - val_auc: 0.9806 - val_f1_score: 0.9303\n",
      "Epoch 20/100\n",
      "288/288 [==============================] - 2s 6ms/step - loss: 0.1475 - accuracy: 0.9481 - auc: 0.9859 - f1_score: 0.9434 - val_loss: 0.1783 - val_accuracy: 0.9347 - val_auc: 0.9806 - val_f1_score: 0.9282\n",
      "\n",
      "Quantidade de épocas executadas:  20\n"
     ]
    }
   ],
   "source": [
    "callback_mlp = tf.keras.callbacks.EarlyStopping(monitor='val_loss', patience=7) \n",
    "# This callback will stop the training when there is no improvement in the loss for five consecutive epochs.\n",
    "\n",
    "history_mlp = model_mlp.fit(\n",
    "                            x=X_train_mlp, \n",
    "                            y=y_train_mlp, \n",
    "                            epochs=N_EPOCHS, \n",
    "                            batch_size=BATCH_SIZE, \n",
    "                            verbose='auto', \n",
    "                            validation_data=(X_valid_mlp,y_valid_mlp),\n",
    "                            callbacks=[callback_mlp],\n",
    "                          )\n",
    "print('\\nQuantidade de épocas executadas: ', len(history_mlp.history['loss']))"
   ]
  },
  {
   "cell_type": "markdown",
   "id": "shSJOta8UqYS",
   "metadata": {
    "id": "shSJOta8UqYS"
   },
   "source": [
    "* Plotando o histórico das métricas `accuracy` e `f1-score`."
   ]
  },
  {
   "cell_type": "code",
   "execution_count": null,
   "id": "dHnVHkTDjuFY",
   "metadata": {
    "ExecuteTime": {
     "end_time": "2022-04-19T00:02:15.191726Z",
     "start_time": "2022-04-19T00:02:13.518139Z"
    },
    "colab": {
     "base_uri": "https://localhost:8080/",
     "height": 651
    },
    "id": "dHnVHkTDjuFY",
    "outputId": "b33a6cc2-2009-4d9e-eec3-4cd2eebbaa4d"
   },
   "outputs": [
    {
     "data": {
      "image/png": "[encoded data removed]",
      "text/plain": [
       "<Figure size 576x360 with 1 Axes>"
      ]
     },
     "metadata": {
      "needs_background": "light"
     },
     "output_type": "display_data"
    },
    {
     "data": {
      "image/png": "[encoded data removed]",
      "text/plain": [
       "<Figure size 576x360 with 1 Axes>"
      ]
     },
     "metadata": {
      "needs_background": "light"
     },
     "output_type": "display_data"
    }
   ],
   "source": [
    "def plot_history(history):\n",
    "  hist = pd.DataFrame(history.history)\n",
    "  hist['epoch'] = history.epoch\n",
    "\n",
    "  plt.figure(figsize=(8,5))\n",
    "  plt.xlabel('Epoch')\n",
    "  plt.ylabel('accuracy')\n",
    "  plt.plot(hist['epoch'], hist['accuracy'],\n",
    "           label='Train accuracy')\n",
    "  plt.plot(hist['epoch'], hist['val_accuracy'],\n",
    "           label = 'Val accuracy')\n",
    "  # plt.ylim([0,5])\n",
    "  plt.legend()\n",
    "\n",
    "  plt.figure(figsize=(8,5))\n",
    "  plt.xlabel('Epoch')\n",
    "  plt.ylabel('F1 Score')\n",
    "  plt.plot(hist['epoch'], hist['f1_score'],\n",
    "           label='Train F1 Score')\n",
    "  plt.plot(hist['epoch'], hist['val_f1_score'],\n",
    "           label = 'Val F1 Score')\n",
    "  # plt.ylim([0,20])\n",
    "  plt.legend()\n",
    "  plt.show()\n",
    "\n",
    "plot_history(history_mlp)"
   ]
  },
  {
   "cell_type": "markdown",
   "id": "6sezdwziNFtC",
   "metadata": {
    "id": "6sezdwziNFtC"
   },
   "source": [
    "### Predição e Métricas de Avaliação - MLP"
   ]
  },
  {
   "cell_type": "markdown",
   "id": "TIcUO8-QUqYS",
   "metadata": {
    "id": "TIcUO8-QUqYS"
   },
   "source": [
    "* Avaliando o modelo treinado e exibindo as métricas obtidas a partir do conjunto de testes."
   ]
  },
  {
   "cell_type": "code",
   "execution_count": null,
   "id": "agCiF1QYl8ed",
   "metadata": {
    "ExecuteTime": {
     "end_time": "2022-04-19T00:02:15.456903Z",
     "start_time": "2022-04-19T00:02:15.193716Z"
    },
    "colab": {
     "base_uri": "https://localhost:8080/"
    },
    "id": "agCiF1QYl8ed",
    "outputId": "445aba4f-5396-43c7-fbe6-69f92b656954"
   },
   "outputs": [
    {
     "name": "stdout",
     "output_type": "stream",
     "text": [
      "F1 Score: 0.933\n",
      "Accuracy: 0.939\n",
      "AUC: 0.981\n"
     ]
    }
   ],
   "source": [
    "loss, acc, auc, f1 = model_mlp.evaluate(X_test_mlp, y_test_mlp, batch_size=BATCH_SIZE, verbose='auto')\n",
    "\n",
    "print(\"F1 Score: {:5.3f}\".format(f1))\n",
    "print(\"Accuracy: {:5.3f}\".format(acc))\n",
    "print(\"AUC: {:5.3f}\".format(auc))"
   ]
  },
  {
   "cell_type": "code",
   "execution_count": null,
   "id": "MNq2URaNa07X",
   "metadata": {
    "ExecuteTime": {
     "end_time": "2022-03-30T21:37:02.150291Z",
     "start_time": "2022-03-30T21:37:01.898444Z"
    },
    "colab": {
     "base_uri": "https://localhost:8080/"
    },
    "id": "MNq2URaNa07X",
    "outputId": "79cb4ac8-c593-4813-ae87-1b328b650ae2"
   },
   "outputs": [
    {
     "name": "stdout",
     "output_type": "stream",
     "text": [
      "[1 1 0 ... 1 1 1]\n"
     ]
    }
   ],
   "source": [
    "y_predicted_mlp = np.reshape((model_mlp.predict(X_test_mlp) > 0.5).astype('int8'), len(X_test_mlp))\n",
    "print(y_predicted_mlp)"
   ]
  },
  {
   "cell_type": "code",
   "execution_count": null,
   "id": "ZMGh7kMHbM5e",
   "metadata": {
    "ExecuteTime": {
     "end_time": "2022-03-30T21:37:06.421913Z",
     "start_time": "2022-03-30T21:37:06.401899Z"
    },
    "colab": {
     "base_uri": "https://localhost:8080/"
    },
    "id": "ZMGh7kMHbM5e",
    "outputId": "421149b0-fac3-4db6-dc2e-4c3d7e792280"
   },
   "outputs": [
    {
     "name": "stdout",
     "output_type": "stream",
     "text": [
      "\n",
      "Classification report:\n",
      "               precision    recall  f1-score   support\n",
      "\n",
      "       human       0.94      0.95      0.94      3918\n",
      "     natural       0.94      0.93      0.93      3266\n",
      "\n",
      "    accuracy                           0.94      7184\n",
      "   macro avg       0.94      0.94      0.94      7184\n",
      "weighted avg       0.94      0.94      0.94      7184\n",
      "\n",
      "Confusion matrix:\n",
      " [[3712  206]\n",
      " [ 231 3035]]\n"
     ]
    }
   ],
   "source": [
    "print(\"\\nClassification report:\\n\", classification_report(le_mlp.inverse_transform(y_test_mlp), le_mlp.inverse_transform(y_predicted_mlp)))\n",
    "print(\"Confusion matrix:\\n\", confusion_matrix(y_test_mlp, y_predicted_mlp))"
   ]
  },
  {
   "cell_type": "markdown",
   "id": "132b855b",
   "metadata": {},
   "source": [
    "#### Representação Gráfica da Matrix de Confusão da Rede Neural MLP"
   ]
  },
  {
   "cell_type": "code",
   "execution_count": null,
   "id": "cW-kHvmtd329",
   "metadata": {
    "ExecuteTime": {
     "end_time": "2022-03-30T21:38:12.681864Z",
     "start_time": "2022-03-30T21:38:12.546865Z"
    },
    "colab": {
     "base_uri": "https://localhost:8080/",
     "height": 279
    },
    "id": "cW-kHvmtd329",
    "outputId": "3d8d68e5-b45c-4889-a5ea-a0f05b2feb9f"
   },
   "outputs": [
    {
     "data": {
      "image/png": "[encoded data removed]",
      "text/plain": [
       "<Figure size 432x288 with 2 Axes>"
      ]
     },
     "metadata": {
      "needs_background": "light"
     },
     "output_type": "display_data"
    }
   ],
   "source": [
    "# Matriz de confusão com heatmap\n",
    "mlp_confusion_matrix = pd.crosstab(np.reshape(le_mlp.inverse_transform(y_test_mlp), len(y_test_mlp)), np.reshape(le_mlp.inverse_transform(y_predicted_mlp), len(y_predicted_mlp)), rownames=['Valor Atual'], colnames=['Valor Predito'])\n",
    "\n",
    "sn.heatmap(mlp_confusion_matrix, annot=True, fmt=\"d\", cmap='inferno', linewidths=.5)\n",
    "plt.show()"
   ]
  },
  {
   "cell_type": "markdown",
   "id": "b2138f19",
   "metadata": {},
   "source": [
    "#### Curva ROC e AUC para a Rede Neural MLP"
   ]
  },
  {
   "cell_type": "code",
   "execution_count": null,
   "id": "kWVYXxi_tRAp",
   "metadata": {
    "colab": {
     "base_uri": "https://localhost:8080/",
     "height": 332
    },
    "id": "kWVYXxi_tRAp",
    "outputId": "e05c8c55-689c-41eb-fabb-edfcb36d1eb3"
   },
   "outputs": [
    {
     "name": "stdout",
     "output_type": "stream",
     "text": [
      "Accuracy: 0.9391703786191536\n",
      "AUC: 0.9817193214104075\n"
     ]
    },
    {
     "data": {
      "image/png": "[encoded data removed]",
      "text/plain": [
       "<Figure size 432x288 with 1 Axes>"
      ]
     },
     "metadata": {
      "needs_background": "light"
     },
     "output_type": "display_data"
    }
   ],
   "source": [
    "roc_curve_function(X_test_mlp, y_test_mlp, y_predicted_mlp, model_mlp, rn=True)"
   ]
  },
  {
   "cell_type": "markdown",
   "id": "YxL14-iHX83N",
   "metadata": {
    "id": "YxL14-iHX83N"
   },
   "source": [
    "### Ajuste dos Hiperparâmetros com keras tuner - Rede Neural MLP"
   ]
  },
  {
   "cell_type": "code",
   "execution_count": null,
   "id": "X5cAo58ABL2k",
   "metadata": {
    "ExecuteTime": {
     "end_time": "2022-03-25T15:15:47.927692Z",
     "start_time": "2022-03-25T15:15:45.841649Z"
    },
    "colab": {
     "base_uri": "https://localhost:8080/"
    },
    "id": "X5cAo58ABL2k",
    "outputId": "a9df8a4f-903f-4703-e0f5-4cc4820a1e14"
   },
   "outputs": [
    {
     "name": "stdout",
     "output_type": "stream",
     "text": [
      "\u001b[?25l\r",
      "\u001b[K     |██▌                             | 10 kB 35.7 MB/s eta 0:00:01\r",
      "\u001b[K     |█████                           | 20 kB 41.2 MB/s eta 0:00:01\r",
      "\u001b[K     |███████▍                        | 30 kB 44.8 MB/s eta 0:00:01\r",
      "\u001b[K     |█████████▉                      | 40 kB 28.2 MB/s eta 0:00:01\r",
      "\u001b[K     |████████████▎                   | 51 kB 21.8 MB/s eta 0:00:01\r",
      "\u001b[K     |██████████████▊                 | 61 kB 24.6 MB/s eta 0:00:01\r",
      "\u001b[K     |█████████████████▏              | 71 kB 25.3 MB/s eta 0:00:01\r",
      "\u001b[K     |███████████████████▋            | 81 kB 26.5 MB/s eta 0:00:01\r",
      "\u001b[K     |██████████████████████          | 92 kB 28.6 MB/s eta 0:00:01\r",
      "\u001b[K     |████████████████████████▌       | 102 kB 30.2 MB/s eta 0:00:01\r",
      "\u001b[K     |███████████████████████████     | 112 kB 30.2 MB/s eta 0:00:01\r",
      "\u001b[K     |█████████████████████████████▍  | 122 kB 30.2 MB/s eta 0:00:01\r",
      "\u001b[K     |███████████████████████████████▉| 133 kB 30.2 MB/s eta 0:00:01\r",
      "\u001b[K     |████████████████████████████████| 133 kB 30.2 MB/s \n",
      "\u001b[?25h"
     ]
    }
   ],
   "source": [
    "#!pip install -q -U keras-tuner"
   ]
  },
  {
   "cell_type": "code",
   "execution_count": null,
   "id": "U1bmzz7KAzTz",
   "metadata": {
    "ExecuteTime": {
     "end_time": "2022-03-31T11:51:52.218433Z",
     "start_time": "2022-03-31T11:51:52.118953Z"
    },
    "id": "U1bmzz7KAzTz"
   },
   "outputs": [],
   "source": [
    "import keras_tuner as kt"
   ]
  },
  {
   "cell_type": "code",
   "execution_count": null,
   "id": "z42BC7s1BbdV",
   "metadata": {
    "ExecuteTime": {
     "end_time": "2022-03-31T11:51:54.989586Z",
     "start_time": "2022-03-31T11:51:54.975549Z"
    },
    "id": "z42BC7s1BbdV"
   },
   "outputs": [],
   "source": [
    "from tensorflow_addons.metrics.f_scores import F1Score\n",
    "METRICS_F1 = F1Score(num_classes=2, average=\"micro\", threshold=0.5)\n",
    "\n",
    "def model_mlp_builder(hp):\n",
    "  # Hiperparameters\n",
    "  INPUT_SHAPE = (X_train_mlp.shape[1],)\n",
    "\n",
    "  DROPOUT = 0.3\n",
    "  HP_HIDDEN_LAYER_1_UNITS = hp.Int('units_1', min_value=50, max_value=150, step=10)\n",
    "  HP_HIDDEN_LAYER_2_UNITS = hp.Int('units_2', min_value=30, max_value=80, step=10)\n",
    "  HP_HIDDEN_LAYER_3_UNITS = hp.Int('units_3', min_value=5, max_value=30, step=5)\n",
    "\n",
    "  model_mlp_tn = keras.models.Sequential([\n",
    "                                          keras.layers.Dense(units=HP_HIDDEN_LAYER_1_UNITS, activation='relu', input_shape=INPUT_SHAPE),\n",
    "                                          keras.layers.Dropout(DROPOUT),\n",
    "                                          keras.layers.Dense(units=HP_HIDDEN_LAYER_2_UNITS, activation='relu'),\n",
    "                                          keras.layers.Dropout(DROPOUT),\n",
    "                                          keras.layers.Dense(units=HP_HIDDEN_LAYER_3_UNITS, activation='relu'),\n",
    "                                          keras.layers.Dropout(DROPOUT),\n",
    "                                          keras.layers.Dense(1, activation = \"sigmoid\")\n",
    "  ])\n",
    "    \n",
    "  HP_LEARNING_RATE = hp.Choice('learning_rate', values=[1e-2, 1e-3, 1e-4])\n",
    "\n",
    "  model_mlp_tn.compile(\n",
    "      loss=\"binary_crossentropy\", \n",
    "      optimizer=keras.optimizers.Adam(learning_rate=HP_LEARNING_RATE), \n",
    "      metrics=['accuracy', keras.metrics.AUC(name='auc'), METRICS_F1]\n",
    "  )\n",
    "\n",
    "  return model_mlp_tn"
   ]
  },
  {
   "cell_type": "code",
   "execution_count": null,
   "id": "uJG7pu8_Fs0W",
   "metadata": {
    "ExecuteTime": {
     "end_time": "2022-03-31T11:52:26.199052Z",
     "start_time": "2022-03-31T11:52:26.127859Z"
    },
    "id": "uJG7pu8_Fs0W"
   },
   "outputs": [],
   "source": [
    "MAX_EPOCHS = 100\n",
    "\n",
    "tuner_mlp = kt.Hyperband(\n",
    "                          model_mlp_builder,\n",
    "                          objective= kt.Objective('val_loss', direction='min'),\n",
    "                          max_epochs=MAX_EPOCHS,\n",
    "                          factor=3,\n",
    "                          directory='mlp_tuner_dir_1',\n",
    "                          project_name='mlp_tuner_val_loss'\n",
    "                        )\n",
    "#tuner_mlp.search_space_summary()"
   ]
  },
  {
   "cell_type": "code",
   "execution_count": null,
   "id": "EE2kaEBOGvnH",
   "metadata": {
    "ExecuteTime": {
     "end_time": "2022-03-31T12:51:30.360740Z",
     "start_time": "2022-03-31T12:10:27.298949Z"
    },
    "colab": {
     "base_uri": "https://localhost:8080/"
    },
    "id": "EE2kaEBOGvnH",
    "outputId": "903ef083-a872-407a-9a71-bbc2449a90d6"
   },
   "outputs": [
    {
     "name": "stdout",
     "output_type": "stream",
     "text": [
      "Trial 254 Complete [00h 02m 39s]\n",
      "val_loss: 0.173521026968956\n",
      "\n",
      "Best val_loss So Far: 0.1702076643705368\n",
      "Total elapsed time: 01h 08m 29s\n",
      "INFO:tensorflow:Oracle triggered exit\n"
     ]
    }
   ],
   "source": [
    "stop_early = tf.keras.callbacks.EarlyStopping(monitor='val_loss', patience=6)\n",
    "\n",
    "BATCH_SIZE = 50    # Tamanho do batch de treinamento\n",
    "N_EPOCHS = 100\n",
    "\n",
    "tuner_mlp.search(\n",
    "                  x=X_train_mlp, \n",
    "                  y=y_train_mlp, \n",
    "                  epochs=N_EPOCHS, \n",
    "                  batch_size=BATCH_SIZE, \n",
    "                  #verbose='auto', \n",
    "                  validation_data=(X_valid_mlp,y_valid_mlp),\n",
    "                  callbacks=[stop_early],\n",
    "                )"
   ]
  },
  {
   "cell_type": "code",
   "execution_count": null,
   "id": "hcC6otY2O9Jb",
   "metadata": {
    "ExecuteTime": {
     "end_time": "2022-03-31T12:52:00.702683Z",
     "start_time": "2022-03-31T12:52:00.696670Z"
    },
    "colab": {
     "base_uri": "https://localhost:8080/"
    },
    "id": "hcC6otY2O9Jb",
    "outputId": "b98245da-1738-44e8-fc5d-496ae48bc294"
   },
   "outputs": [
    {
     "name": "stdout",
     "output_type": "stream",
     "text": [
      "units_1 130\n",
      "units_2 60\n",
      "units_3 20\n",
      "learning_rate 0.001\n"
     ]
    }
   ],
   "source": [
    "# Get the optimal hyperparameters\n",
    "best_hps=tuner_mlp.get_best_hyperparameters(num_trials=1)[0]\n",
    "\n",
    "for h_param in ['units_1', 'units_2', 'units_3'] + ['learning_rate']:\n",
    "  print(h_param, best_hps.get(h_param))"
   ]
  },
  {
   "cell_type": "code",
   "execution_count": null,
   "id": "SHbpaeT7H4cm",
   "metadata": {
    "ExecuteTime": {
     "end_time": "2022-04-01T19:34:40.274108Z",
     "start_time": "2022-04-01T19:31:00.072074Z"
    },
    "colab": {
     "base_uri": "https://localhost:8080/"
    },
    "id": "SHbpaeT7H4cm",
    "outputId": "5b470969-e61a-4114-d807-3553ca0ea591"
   },
   "outputs": [
    {
     "name": "stdout",
     "output_type": "stream",
     "text": [
      "Epoch 1/50\n",
      "288/288 [==============================] - 3s 8ms/step - loss: 0.2949 - accuracy: 0.8789 - auc: 0.9480 - f1_score: 0.8872 - val_loss: 0.1916 - val_accuracy: 0.9262 - val_auc: 0.9772 - val_f1_score: 0.9199\n",
      "Epoch 2/50\n",
      "288/288 [==============================] - 2s 6ms/step - loss: 0.2113 - accuracy: 0.9242 - auc: 0.9713 - f1_score: 0.9171 - val_loss: 0.1856 - val_accuracy: 0.9265 - val_auc: 0.9787 - val_f1_score: 0.9190\n",
      "Epoch 3/50\n",
      "288/288 [==============================] - 2s 7ms/step - loss: 0.2016 - accuracy: 0.9272 - auc: 0.9738 - f1_score: 0.9204 - val_loss: 0.1802 - val_accuracy: 0.9294 - val_auc: 0.9796 - val_f1_score: 0.9231\n",
      "Epoch 4/50\n",
      "288/288 [==============================] - 2s 7ms/step - loss: 0.1890 - accuracy: 0.9321 - auc: 0.9771 - f1_score: 0.9258 - val_loss: 0.1773 - val_accuracy: 0.9312 - val_auc: 0.9801 - val_f1_score: 0.9245\n",
      "Epoch 5/50\n",
      "288/288 [==============================] - 3s 9ms/step - loss: 0.1850 - accuracy: 0.9333 - auc: 0.9779 - f1_score: 0.9273 - val_loss: 0.1813 - val_accuracy: 0.9280 - val_auc: 0.9801 - val_f1_score: 0.9232\n",
      "Epoch 6/50\n",
      "288/288 [==============================] - 3s 10ms/step - loss: 0.1784 - accuracy: 0.9361 - auc: 0.9794 - f1_score: 0.9304 - val_loss: 0.1725 - val_accuracy: 0.9344 - val_auc: 0.9810 - val_f1_score: 0.9288\n",
      "Epoch 7/50\n",
      "288/288 [==============================] - 3s 12ms/step - loss: 0.1738 - accuracy: 0.9382 - auc: 0.9802 - f1_score: 0.9327 - val_loss: 0.1751 - val_accuracy: 0.9330 - val_auc: 0.9805 - val_f1_score: 0.9265\n",
      "Epoch 8/50\n",
      "288/288 [==============================] - 3s 11ms/step - loss: 0.1708 - accuracy: 0.9384 - auc: 0.9810 - f1_score: 0.9328 - val_loss: 0.1721 - val_accuracy: 0.9358 - val_auc: 0.9812 - val_f1_score: 0.9302\n",
      "Epoch 9/50\n",
      "288/288 [==============================] - 3s 12ms/step - loss: 0.1650 - accuracy: 0.9415 - auc: 0.9820 - f1_score: 0.9364 - val_loss: 0.1794 - val_accuracy: 0.9336 - val_auc: 0.9807 - val_f1_score: 0.9261\n",
      "Epoch 10/50\n",
      "288/288 [==============================] - 3s 10ms/step - loss: 0.1600 - accuracy: 0.9421 - auc: 0.9833 - f1_score: 0.9369 - val_loss: 0.1722 - val_accuracy: 0.9343 - val_auc: 0.9814 - val_f1_score: 0.9289\n",
      "Epoch 11/50\n",
      "288/288 [==============================] - 3s 10ms/step - loss: 0.1566 - accuracy: 0.9438 - auc: 0.9838 - f1_score: 0.9390 - val_loss: 0.1724 - val_accuracy: 0.9357 - val_auc: 0.9814 - val_f1_score: 0.9296\n",
      "Epoch 12/50\n",
      "288/288 [==============================] - 3s 9ms/step - loss: 0.1552 - accuracy: 0.9431 - auc: 0.9840 - f1_score: 0.9381 - val_loss: 0.1740 - val_accuracy: 0.9333 - val_auc: 0.9814 - val_f1_score: 0.9265\n",
      "Epoch 13/50\n",
      "288/288 [==============================] - 3s 10ms/step - loss: 0.1479 - accuracy: 0.9475 - auc: 0.9853 - f1_score: 0.9429 - val_loss: 0.1776 - val_accuracy: 0.9355 - val_auc: 0.9804 - val_f1_score: 0.9293\n",
      "Epoch 14/50\n",
      "288/288 [==============================] - 3s 12ms/step - loss: 0.1473 - accuracy: 0.9476 - auc: 0.9854 - f1_score: 0.9430 - val_loss: 0.1768 - val_accuracy: 0.9355 - val_auc: 0.9808 - val_f1_score: 0.9297\n",
      "Epoch 15/50\n",
      "288/288 [==============================] - 3s 9ms/step - loss: 0.1433 - accuracy: 0.9481 - auc: 0.9862 - f1_score: 0.9435 - val_loss: 0.1762 - val_accuracy: 0.9346 - val_auc: 0.9809 - val_f1_score: 0.9290\n",
      "Epoch 16/50\n",
      "288/288 [==============================] - 3s 9ms/step - loss: 0.1389 - accuracy: 0.9493 - auc: 0.9875 - f1_score: 0.9448 - val_loss: 0.1771 - val_accuracy: 0.9369 - val_auc: 0.9806 - val_f1_score: 0.9316\n",
      "Epoch 17/50\n",
      "288/288 [==============================] - 3s 11ms/step - loss: 0.1413 - accuracy: 0.9499 - auc: 0.9864 - f1_score: 0.9454 - val_loss: 0.1794 - val_accuracy: 0.9380 - val_auc: 0.9803 - val_f1_score: 0.9320\n",
      "Epoch 18/50\n",
      "288/288 [==============================] - 2s 6ms/step - loss: 0.1360 - accuracy: 0.9513 - auc: 0.9870 - f1_score: 0.9470 - val_loss: 0.1791 - val_accuracy: 0.9342 - val_auc: 0.9804 - val_f1_score: 0.9286\n",
      "Epoch 19/50\n",
      "288/288 [==============================] - 2s 5ms/step - loss: 0.1315 - accuracy: 0.9517 - auc: 0.9885 - f1_score: 0.9476 - val_loss: 0.1801 - val_accuracy: 0.9336 - val_auc: 0.9803 - val_f1_score: 0.9275\n",
      "Epoch 20/50\n",
      "288/288 [==============================] - 2s 5ms/step - loss: 0.1306 - accuracy: 0.9534 - auc: 0.9885 - f1_score: 0.9494 - val_loss: 0.1832 - val_accuracy: 0.9357 - val_auc: 0.9797 - val_f1_score: 0.9301\n",
      "Epoch 21/50\n",
      "288/288 [==============================] - 2s 6ms/step - loss: 0.1240 - accuracy: 0.9539 - auc: 0.9895 - f1_score: 0.9499 - val_loss: 0.1977 - val_accuracy: 0.9333 - val_auc: 0.9784 - val_f1_score: 0.9259\n",
      "Epoch 22/50\n",
      "288/288 [==============================] - 2s 6ms/step - loss: 0.1265 - accuracy: 0.9525 - auc: 0.9891 - f1_score: 0.9484 - val_loss: 0.1869 - val_accuracy: 0.9364 - val_auc: 0.9802 - val_f1_score: 0.9309\n",
      "Epoch 23/50\n",
      "288/288 [==============================] - 2s 6ms/step - loss: 0.1213 - accuracy: 0.9552 - auc: 0.9899 - f1_score: 0.9513 - val_loss: 0.1960 - val_accuracy: 0.9354 - val_auc: 0.9795 - val_f1_score: 0.9289\n",
      "Epoch 24/50\n",
      "288/288 [==============================] - 2s 7ms/step - loss: 0.1195 - accuracy: 0.9549 - auc: 0.9899 - f1_score: 0.9509 - val_loss: 0.1953 - val_accuracy: 0.9364 - val_auc: 0.9788 - val_f1_score: 0.9303\n",
      "Epoch 25/50\n",
      "288/288 [==============================] - 2s 5ms/step - loss: 0.1172 - accuracy: 0.9575 - auc: 0.9904 - f1_score: 0.9539 - val_loss: 0.1894 - val_accuracy: 0.9355 - val_auc: 0.9793 - val_f1_score: 0.9301\n",
      "Epoch 26/50\n",
      "288/288 [==============================] - 2s 5ms/step - loss: 0.1184 - accuracy: 0.9581 - auc: 0.9900 - f1_score: 0.9544 - val_loss: 0.1937 - val_accuracy: 0.9347 - val_auc: 0.9792 - val_f1_score: 0.9289\n",
      "Epoch 27/50\n",
      "288/288 [==============================] - 2s 6ms/step - loss: 0.1120 - accuracy: 0.9589 - auc: 0.9914 - f1_score: 0.9553 - val_loss: 0.2075 - val_accuracy: 0.9368 - val_auc: 0.9784 - val_f1_score: 0.9309\n",
      "Epoch 28/50\n",
      "288/288 [==============================] - 2s 7ms/step - loss: 0.1145 - accuracy: 0.9597 - auc: 0.9906 - f1_score: 0.9561 - val_loss: 0.1965 - val_accuracy: 0.9344 - val_auc: 0.9787 - val_f1_score: 0.9288\n",
      "Epoch 29/50\n",
      "288/288 [==============================] - 2s 6ms/step - loss: 0.1088 - accuracy: 0.9596 - auc: 0.9918 - f1_score: 0.9561 - val_loss: 0.2174 - val_accuracy: 0.9350 - val_auc: 0.9766 - val_f1_score: 0.9286\n",
      "Epoch 30/50\n",
      "288/288 [==============================] - 2s 6ms/step - loss: 0.1106 - accuracy: 0.9584 - auc: 0.9916 - f1_score: 0.9548 - val_loss: 0.2116 - val_accuracy: 0.9358 - val_auc: 0.9770 - val_f1_score: 0.9292\n",
      "Epoch 31/50\n",
      "288/288 [==============================] - 2s 6ms/step - loss: 0.1058 - accuracy: 0.9598 - auc: 0.9922 - f1_score: 0.9562 - val_loss: 0.2072 - val_accuracy: 0.9330 - val_auc: 0.9780 - val_f1_score: 0.9274\n",
      "Epoch 32/50\n",
      "288/288 [==============================] - 2s 5ms/step - loss: 0.1058 - accuracy: 0.9607 - auc: 0.9920 - f1_score: 0.9573 - val_loss: 0.2278 - val_accuracy: 0.9346 - val_auc: 0.9758 - val_f1_score: 0.9276\n",
      "Epoch 33/50\n",
      "288/288 [==============================] - 2s 6ms/step - loss: 0.1061 - accuracy: 0.9619 - auc: 0.9918 - f1_score: 0.9584 - val_loss: 0.2112 - val_accuracy: 0.9354 - val_auc: 0.9768 - val_f1_score: 0.9297\n",
      "Epoch 34/50\n",
      "288/288 [==============================] - 2s 6ms/step - loss: 0.1001 - accuracy: 0.9628 - auc: 0.9930 - f1_score: 0.9594 - val_loss: 0.2243 - val_accuracy: 0.9329 - val_auc: 0.9762 - val_f1_score: 0.9272\n",
      "Epoch 35/50\n",
      "288/288 [==============================] - 2s 6ms/step - loss: 0.0991 - accuracy: 0.9623 - auc: 0.9930 - f1_score: 0.9589 - val_loss: 0.2262 - val_accuracy: 0.9329 - val_auc: 0.9754 - val_f1_score: 0.9262\n",
      "Epoch 36/50\n",
      "288/288 [==============================] - 2s 6ms/step - loss: 0.1028 - accuracy: 0.9627 - auc: 0.9926 - f1_score: 0.9594 - val_loss: 0.2270 - val_accuracy: 0.9375 - val_auc: 0.9759 - val_f1_score: 0.9316\n",
      "Epoch 37/50\n",
      "288/288 [==============================] - 2s 6ms/step - loss: 0.0952 - accuracy: 0.9648 - auc: 0.9934 - f1_score: 0.9617 - val_loss: 0.2300 - val_accuracy: 0.9316 - val_auc: 0.9761 - val_f1_score: 0.9256\n",
      "Epoch 38/50\n",
      "288/288 [==============================] - 2s 7ms/step - loss: 0.0961 - accuracy: 0.9651 - auc: 0.9933 - f1_score: 0.9620 - val_loss: 0.2247 - val_accuracy: 0.9340 - val_auc: 0.9763 - val_f1_score: 0.9274\n",
      "Epoch 39/50\n",
      "288/288 [==============================] - 2s 6ms/step - loss: 0.0949 - accuracy: 0.9641 - auc: 0.9937 - f1_score: 0.9609 - val_loss: 0.2204 - val_accuracy: 0.9340 - val_auc: 0.9768 - val_f1_score: 0.9282\n",
      "Epoch 40/50\n",
      "288/288 [==============================] - 2s 6ms/step - loss: 0.0947 - accuracy: 0.9660 - auc: 0.9936 - f1_score: 0.9629 - val_loss: 0.2400 - val_accuracy: 0.9347 - val_auc: 0.9748 - val_f1_score: 0.9281\n",
      "Epoch 41/50\n",
      "288/288 [==============================] - 2s 6ms/step - loss: 0.0933 - accuracy: 0.9655 - auc: 0.9938 - f1_score: 0.9624 - val_loss: 0.2639 - val_accuracy: 0.9316 - val_auc: 0.9726 - val_f1_score: 0.9244\n",
      "Epoch 42/50\n",
      "288/288 [==============================] - 2s 6ms/step - loss: 0.0938 - accuracy: 0.9653 - auc: 0.9940 - f1_score: 0.9622 - val_loss: 0.2437 - val_accuracy: 0.9340 - val_auc: 0.9736 - val_f1_score: 0.9275\n",
      "Epoch 43/50\n",
      "288/288 [==============================] - 2s 5ms/step - loss: 0.0921 - accuracy: 0.9671 - auc: 0.9940 - f1_score: 0.9641 - val_loss: 0.2411 - val_accuracy: 0.9350 - val_auc: 0.9741 - val_f1_score: 0.9292\n",
      "Epoch 44/50\n",
      "288/288 [==============================] - 2s 5ms/step - loss: 0.0896 - accuracy: 0.9661 - auc: 0.9944 - f1_score: 0.9631 - val_loss: 0.2509 - val_accuracy: 0.9335 - val_auc: 0.9745 - val_f1_score: 0.9279\n",
      "Epoch 45/50\n",
      "288/288 [==============================] - 2s 6ms/step - loss: 0.0901 - accuracy: 0.9661 - auc: 0.9941 - f1_score: 0.9631 - val_loss: 0.2558 - val_accuracy: 0.9346 - val_auc: 0.9731 - val_f1_score: 0.9285\n",
      "Epoch 46/50\n",
      "288/288 [==============================] - 2s 6ms/step - loss: 0.0866 - accuracy: 0.9676 - auc: 0.9947 - f1_score: 0.9647 - val_loss: 0.2536 - val_accuracy: 0.9316 - val_auc: 0.9728 - val_f1_score: 0.9256\n",
      "Epoch 47/50\n",
      "288/288 [==============================] - 2s 6ms/step - loss: 0.0851 - accuracy: 0.9683 - auc: 0.9948 - f1_score: 0.9655 - val_loss: 0.2720 - val_accuracy: 0.9328 - val_auc: 0.9725 - val_f1_score: 0.9261\n",
      "Epoch 48/50\n",
      "288/288 [==============================] - 2s 6ms/step - loss: 0.0873 - accuracy: 0.9672 - auc: 0.9944 - f1_score: 0.9643 - val_loss: 0.2617 - val_accuracy: 0.9344 - val_auc: 0.9725 - val_f1_score: 0.9286\n",
      "Epoch 49/50\n",
      "288/288 [==============================] - 2s 5ms/step - loss: 0.0862 - accuracy: 0.9694 - auc: 0.9945 - f1_score: 0.9668 - val_loss: 0.2674 - val_accuracy: 0.9342 - val_auc: 0.9728 - val_f1_score: 0.9280\n",
      "Epoch 50/50\n",
      "288/288 [==============================] - 2s 6ms/step - loss: 0.0918 - accuracy: 0.9654 - auc: 0.9938 - f1_score: 0.9624 - val_loss: 0.2615 - val_accuracy: 0.9346 - val_auc: 0.9727 - val_f1_score: 0.9281\n",
      "Best epoch: 8\n"
     ]
    }
   ],
   "source": [
    "# Encontre o número ótimo de épocas para treinar o modelo com os hiperparâmetros obtidos na busca\n",
    "\n",
    "# Build the model with the optimal hyperparameters and train it on the data for 50 epochs\n",
    "model_mlp_tn = tuner_mlp.hypermodel.build(best_hps)\n",
    "\n",
    "history_mlp_tn = model_mlp_tn.fit(\n",
    "                                    x=X_train_mlp, \n",
    "                                    y=y_train_mlp, \n",
    "                                    epochs=50, \n",
    "                                    batch_size=BATCH_SIZE, \n",
    "                                    verbose='auto',\n",
    "                                    validation_data=(X_valid_mlp,y_valid_mlp)\n",
    "                                  )\n",
    "\n",
    "val_loss_per_epoch = history_mlp_tn.history['val_loss']\n",
    "best_epoch = val_loss_per_epoch.index(min(val_loss_per_epoch)) + 1\n",
    "print('Best epoch: %d' % (best_epoch,))"
   ]
  },
  {
   "cell_type": "code",
   "execution_count": null,
   "id": "2d7733dd",
   "metadata": {
    "ExecuteTime": {
     "end_time": "2022-04-01T19:35:01.389715Z",
     "start_time": "2022-04-01T19:35:00.963878Z"
    },
    "colab": {
     "base_uri": "https://localhost:8080/",
     "height": 350
    },
    "id": "2d7733dd",
    "outputId": "18bf5833-6258-4d91-e6bf-f10312542fce"
   },
   "outputs": [
    {
     "data": {
      "image/png": "[encoded data removed]",
      "text/plain": [
       "<Figure size 1080x360 with 2 Axes>"
      ]
     },
     "metadata": {
      "needs_background": "light"
     },
     "output_type": "display_data"
    }
   ],
   "source": [
    "plt.figure(figsize=(15, 5))\n",
    "plt.subplot(1, 2, 1)\n",
    "plt.plot(history_mlp_tn.history['val_f1_score'], color='blue', label='val_f1_score')\n",
    "plt.plot(history_mlp_tn.history['f1_score'], color='red', label='train_f1_score')\n",
    "plt.title('f1_score')\n",
    "plt.xlabel('Epochs')\n",
    "plt.ylabel('f1_score')\n",
    "#plt.ylim(None, 1)\n",
    "plt.legend()\n",
    "plt.subplot(1, 2, 2)\n",
    "plt.plot(history_mlp_tn.history['val_accuracy'], color='blue', label='val_accuracy')\n",
    "plt.plot(history_mlp_tn.history['accuracy'], color='red', label='train_accuracy')\n",
    "plt.title('Accuracy')\n",
    "plt.xlabel('Epochs')\n",
    "plt.ylabel('accuracy')\n",
    "#plt.ylim(0, None);\n",
    "plt.legend();"
   ]
  },
  {
   "cell_type": "code",
   "execution_count": null,
   "id": "vriA0x_UleTJ",
   "metadata": {
    "ExecuteTime": {
     "end_time": "2022-04-01T19:35:12.252219Z",
     "start_time": "2022-04-01T19:35:05.656246Z"
    },
    "colab": {
     "base_uri": "https://localhost:8080/"
    },
    "id": "vriA0x_UleTJ",
    "outputId": "4463dc05-4da7-4f93-d2ab-fc362d568862"
   },
   "outputs": [
    {
     "name": "stdout",
     "output_type": "stream",
     "text": [
      "Epoch 1/8\n",
      "288/288 [==============================] - 3s 8ms/step - loss: 0.3071 - accuracy: 0.8724 - auc: 0.9439 - f1_score: 0.8816 - val_loss: 0.1970 - val_accuracy: 0.9264 - val_auc: 0.9763 - val_f1_score: 0.9182\n",
      "Epoch 2/8\n",
      "288/288 [==============================] - 2s 6ms/step - loss: 0.2122 - accuracy: 0.9259 - auc: 0.9713 - f1_score: 0.9191 - val_loss: 0.1881 - val_accuracy: 0.9287 - val_auc: 0.9782 - val_f1_score: 0.9235\n",
      "Epoch 3/8\n",
      "288/288 [==============================] - 2s 5ms/step - loss: 0.2016 - accuracy: 0.9289 - auc: 0.9737 - f1_score: 0.9228 - val_loss: 0.1819 - val_accuracy: 0.9332 - val_auc: 0.9792 - val_f1_score: 0.9273\n",
      "Epoch 4/8\n",
      "288/288 [==============================] - 2s 7ms/step - loss: 0.1904 - accuracy: 0.9316 - auc: 0.9767 - f1_score: 0.9254 - val_loss: 0.1781 - val_accuracy: 0.9312 - val_auc: 0.9798 - val_f1_score: 0.9249\n",
      "Epoch 5/8\n",
      "288/288 [==============================] - 2s 8ms/step - loss: 0.1853 - accuracy: 0.9315 - auc: 0.9777 - f1_score: 0.9254 - val_loss: 0.1756 - val_accuracy: 0.9312 - val_auc: 0.9805 - val_f1_score: 0.9253\n",
      "Epoch 6/8\n",
      "288/288 [==============================] - 2s 7ms/step - loss: 0.1814 - accuracy: 0.9353 - auc: 0.9787 - f1_score: 0.9295 - val_loss: 0.1762 - val_accuracy: 0.9322 - val_auc: 0.9811 - val_f1_score: 0.9246\n",
      "Epoch 7/8\n",
      "288/288 [==============================] - 2s 5ms/step - loss: 0.1775 - accuracy: 0.9367 - auc: 0.9796 - f1_score: 0.9310 - val_loss: 0.1733 - val_accuracy: 0.9348 - val_auc: 0.9811 - val_f1_score: 0.9289\n",
      "Epoch 8/8\n",
      "288/288 [==============================] - 2s 6ms/step - loss: 0.1706 - accuracy: 0.9378 - auc: 0.9811 - f1_score: 0.9325 - val_loss: 0.1744 - val_accuracy: 0.9332 - val_auc: 0.9809 - val_f1_score: 0.9279\n"
     ]
    },
    {
     "data": {
      "text/plain": [
       "<keras.callbacks.History at 0x7fbedcfe3690>"
      ]
     },
     "execution_count": 120,
     "metadata": {},
     "output_type": "execute_result"
    }
   ],
   "source": [
    "hypermodel_mlp = tuner_mlp.hypermodel.build(best_hps)\n",
    "\n",
    "# Retrain the model\n",
    "hypermodel_mlp.fit(\n",
    "                    x=X_train_mlp, \n",
    "                    y=y_train_mlp,  \n",
    "                    epochs=best_epoch,\n",
    "                    batch_size=BATCH_SIZE, \n",
    "                    verbose='auto',\n",
    "                    validation_data=(X_valid_mlp,y_valid_mlp)\n",
    "                  )"
   ]
  },
  {
   "cell_type": "code",
   "execution_count": null,
   "id": "97U1qky-mJOn",
   "metadata": {
    "ExecuteTime": {
     "end_time": "2022-04-01T19:35:20.657161Z",
     "start_time": "2022-04-01T19:35:16.415810Z"
    },
    "colab": {
     "base_uri": "https://localhost:8080/"
    },
    "id": "97U1qky-mJOn",
    "outputId": "e8d3e2ee-b0f2-483a-e48b-8be8e0e6ae4a"
   },
   "outputs": [
    {
     "name": "stdout",
     "output_type": "stream",
     "text": [
      "F1 Score: 0.930\n",
      "Accuracy: 0.935\n",
      "AUC: 0.982\n"
     ]
    }
   ],
   "source": [
    "loss_hp, acc_hp, auc_hp, f1_hp = hypermodel_mlp.evaluate(X_test_mlp, y_test_mlp, batch_size=BATCH_SIZE, verbose='auto')\n",
    "\n",
    "print(\"F1 Score: {:5.3f}\".format(f1_hp))\n",
    "print(\"Accuracy: {:5.3f}\".format(acc_hp))\n",
    "print(\"AUC: {:5.3f}\".format(auc_hp))"
   ]
  },
  {
   "cell_type": "code",
   "execution_count": null,
   "id": "legj8lmsSTZQ",
   "metadata": {
    "ExecuteTime": {
     "end_time": "2022-04-01T19:35:26.448488Z",
     "start_time": "2022-04-01T19:35:26.057179Z"
    },
    "colab": {
     "base_uri": "https://localhost:8080/"
    },
    "id": "legj8lmsSTZQ",
    "outputId": "7ccbaf7a-e86e-4f6f-890f-41204bda5f78"
   },
   "outputs": [
    {
     "name": "stdout",
     "output_type": "stream",
     "text": [
      "\n",
      "Clasification report:\n",
      "               precision    recall  f1-score   support\n",
      "\n",
      "       human       0.95      0.93      0.94      3918\n",
      "     natural       0.92      0.94      0.93      3266\n",
      "\n",
      "    accuracy                           0.94      7184\n",
      "   macro avg       0.93      0.94      0.94      7184\n",
      "weighted avg       0.94      0.94      0.94      7184\n",
      "\n",
      "Confusion matrix:\n",
      " [[3635  283]\n",
      " [ 181 3085]]\n"
     ]
    }
   ],
   "source": [
    "y_predicted_hp_mlp = np.reshape((hypermodel_mlp.predict(X_test_mlp) > 0.5).astype('int8'), len(X_test_mlp))\n",
    "\n",
    "print(\"\\nClasification report:\\n\", classification_report(le_mlp.inverse_transform(y_test_mlp), le_mlp.inverse_transform(y_predicted_hp_mlp)))\n",
    "print(\"Confusion matrix:\\n\", confusion_matrix(y_test_mlp, y_predicted_hp_mlp))"
   ]
  },
  {
   "cell_type": "code",
   "execution_count": null,
   "id": "95c0385f",
   "metadata": {
    "ExecuteTime": {
     "end_time": "2022-04-01T19:50:11.755497Z",
     "start_time": "2022-04-01T19:50:11.628482Z"
    },
    "colab": {
     "base_uri": "https://localhost:8080/",
     "height": 279
    },
    "id": "95c0385f",
    "outputId": "77510533-2cc1-4229-b910-be54a870dbf7"
   },
   "outputs": [
    {
     "data": {
      "image/png": "[encoded data removed]",
      "text/plain": [
       "<Figure size 432x288 with 2 Axes>"
      ]
     },
     "metadata": {
      "needs_background": "light"
     },
     "output_type": "display_data"
    }
   ],
   "source": [
    "mlp_hp_confusion_matrix = pd.crosstab(np.reshape(le_mlp.inverse_transform(y_test_mlp), len(y_test_mlp)), np.reshape(le_mlp.inverse_transform(y_predicted_hp_mlp), len(y_predicted_hp_mlp)), rownames=['Valor Atual'], colnames=['Valor Predito'])\n",
    "\n",
    "sn.heatmap(mlp_hp_confusion_matrix, annot=True, fmt=\"d\", cmap='viridis', linewidths=.5)\n",
    "plt.show()"
   ]
  },
  {
   "cell_type": "code",
   "execution_count": null,
   "id": "Sq3ZWpxP5XrO",
   "metadata": {
    "colab": {
     "base_uri": "https://localhost:8080/",
     "height": 332
    },
    "id": "Sq3ZWpxP5XrO",
    "outputId": "1fdc0f8d-de7b-419d-cc88-af666165a52b"
   },
   "outputs": [
    {
     "name": "stdout",
     "output_type": "stream",
     "text": [
      "Accuracy: 0.9354120267260579\n",
      "AUC: 0.9817997750580094\n"
     ]
    },
    {
     "data": {
      "image/png": "[encoded data removed]",
      "text/plain": [
       "<Figure size 432x288 with 1 Axes>"
      ]
     },
     "metadata": {
      "needs_background": "light"
     },
     "output_type": "display_data"
    }
   ],
   "source": [
    "roc_curve_function(X_test_mlp, y_test_mlp, y_predicted_hp_mlp, hypermodel_mlp, rn=True)"
   ]
  },
  {
   "cell_type": "markdown",
   "id": "qEVzrPiMQ89p",
   "metadata": {
    "id": "qEVzrPiMQ89p"
   },
   "source": [
    "### Validação Cruzada - Rede Neural"
   ]
  },
  {
   "cell_type": "code",
   "execution_count": null,
   "id": "ZzRlO1stQ8QX",
   "metadata": {
    "id": "ZzRlO1stQ8QX"
   },
   "outputs": [],
   "source": [
    "# K-fold estratificado com k = 10\n",
    "cv = model_selection.StratifiedKFold(n_splits=10)"
   ]
  },
  {
   "cell_type": "code",
   "execution_count": null,
   "id": "jUCk0vaMRxpI",
   "metadata": {
    "colab": {
     "base_uri": "https://localhost:8080/"
    },
    "id": "jUCk0vaMRxpI",
    "outputId": "62f430b0-4566-458f-be61-87cd08a5da52"
   },
   "outputs": [
    {
     "name": "stdout",
     "output_type": "stream",
     "text": [
      "Epoch 1/100\n",
      "518/518 [==============================] - 3s 4ms/step - loss: 0.2853 - accuracy: 0.8847 - auc: 0.9514 - f1_score: 0.8749\n",
      "Epoch 2/100\n",
      "518/518 [==============================] - 2s 4ms/step - loss: 0.2160 - accuracy: 0.9272 - auc: 0.9709 - f1_score: 0.9204\n",
      "Epoch 3/100\n",
      "518/518 [==============================] - 2s 4ms/step - loss: 0.2049 - accuracy: 0.9313 - auc: 0.9739 - f1_score: 0.9247\n",
      "Epoch 4/100\n",
      "518/518 [==============================] - 2s 4ms/step - loss: 0.1970 - accuracy: 0.9338 - auc: 0.9760 - f1_score: 0.9276\n",
      "Epoch 5/100\n",
      "518/518 [==============================] - 2s 4ms/step - loss: 0.1908 - accuracy: 0.9370 - auc: 0.9772 - f1_score: 0.9312\n",
      "Epoch 6/100\n",
      "518/518 [==============================] - 2s 4ms/step - loss: 0.1841 - accuracy: 0.9374 - auc: 0.9787 - f1_score: 0.9314\n",
      "Epoch 7/100\n",
      "518/518 [==============================] - 2s 4ms/step - loss: 0.1797 - accuracy: 0.9405 - auc: 0.9796 - f1_score: 0.9348\n",
      "Epoch 8/100\n",
      "518/518 [==============================] - 2s 4ms/step - loss: 0.1756 - accuracy: 0.9411 - auc: 0.9806 - f1_score: 0.9356\n",
      "Epoch 9/100\n",
      "518/518 [==============================] - 3s 6ms/step - loss: 0.1741 - accuracy: 0.9416 - auc: 0.9809 - f1_score: 0.9361\n",
      "Epoch 10/100\n",
      "518/518 [==============================] - 2s 4ms/step - loss: 0.1708 - accuracy: 0.9419 - auc: 0.9815 - f1_score: 0.9364\n",
      "Epoch 11/100\n",
      "518/518 [==============================] - 2s 4ms/step - loss: 0.1685 - accuracy: 0.9435 - auc: 0.9819 - f1_score: 0.9382\n",
      "Epoch 12/100\n",
      "518/518 [==============================] - 2s 4ms/step - loss: 0.1623 - accuracy: 0.9443 - auc: 0.9831 - f1_score: 0.9391\n",
      "Epoch 13/100\n",
      "518/518 [==============================] - 2s 4ms/step - loss: 0.1645 - accuracy: 0.9427 - auc: 0.9826 - f1_score: 0.9373\n",
      "Epoch 14/100\n",
      "518/518 [==============================] - 2s 4ms/step - loss: 0.1585 - accuracy: 0.9455 - auc: 0.9839 - f1_score: 0.9404\n",
      "Epoch 15/100\n",
      "518/518 [==============================] - 2s 4ms/step - loss: 0.1596 - accuracy: 0.9441 - auc: 0.9838 - f1_score: 0.9388\n",
      "Epoch 16/100\n",
      "518/518 [==============================] - 2s 4ms/step - loss: 0.1553 - accuracy: 0.9462 - auc: 0.9846 - f1_score: 0.9412\n",
      "Epoch 17/100\n",
      "518/518 [==============================] - 2s 4ms/step - loss: 0.1545 - accuracy: 0.9474 - auc: 0.9846 - f1_score: 0.9423\n",
      "Epoch 18/100\n",
      "518/518 [==============================] - 2s 4ms/step - loss: 0.1524 - accuracy: 0.9481 - auc: 0.9850 - f1_score: 0.9432\n",
      "Epoch 19/100\n",
      "518/518 [==============================] - 2s 4ms/step - loss: 0.1509 - accuracy: 0.9483 - auc: 0.9853 - f1_score: 0.9434\n",
      "Epoch 20/100\n",
      "518/518 [==============================] - 2s 4ms/step - loss: 0.1485 - accuracy: 0.9480 - auc: 0.9857 - f1_score: 0.9431\n",
      "Epoch 21/100\n",
      "518/518 [==============================] - 2s 4ms/step - loss: 0.1474 - accuracy: 0.9486 - auc: 0.9860 - f1_score: 0.9438\n",
      "Epoch 22/100\n",
      "518/518 [==============================] - 2s 4ms/step - loss: 0.1469 - accuracy: 0.9493 - auc: 0.9859 - f1_score: 0.9445\n",
      "Epoch 23/100\n",
      "518/518 [==============================] - 2s 4ms/step - loss: 0.1436 - accuracy: 0.9505 - auc: 0.9864 - f1_score: 0.9458\n",
      "Epoch 24/100\n",
      "518/518 [==============================] - 2s 4ms/step - loss: 0.1430 - accuracy: 0.9502 - auc: 0.9869 - f1_score: 0.9455\n",
      "Epoch 25/100\n",
      "518/518 [==============================] - 2s 4ms/step - loss: 0.1403 - accuracy: 0.9500 - auc: 0.9873 - f1_score: 0.9454\n",
      "Epoch 26/100\n",
      "518/518 [==============================] - 2s 4ms/step - loss: 0.1427 - accuracy: 0.9500 - auc: 0.9866 - f1_score: 0.9454\n",
      "Epoch 27/100\n",
      "518/518 [==============================] - 2s 4ms/step - loss: 0.1364 - accuracy: 0.9523 - auc: 0.9880 - f1_score: 0.9477\n",
      "Epoch 28/100\n",
      "518/518 [==============================] - 2s 4ms/step - loss: 0.1393 - accuracy: 0.9522 - auc: 0.9874 - f1_score: 0.9476\n",
      "Epoch 29/100\n",
      "518/518 [==============================] - 2s 4ms/step - loss: 0.1393 - accuracy: 0.9514 - auc: 0.9873 - f1_score: 0.9468\n",
      "Epoch 30/100\n",
      "518/518 [==============================] - 3s 5ms/step - loss: 0.1353 - accuracy: 0.9523 - auc: 0.9882 - f1_score: 0.9478\n",
      "Epoch 31/100\n",
      "518/518 [==============================] - 2s 4ms/step - loss: 0.1338 - accuracy: 0.9534 - auc: 0.9884 - f1_score: 0.9491\n",
      "Epoch 32/100\n",
      "518/518 [==============================] - 2s 4ms/step - loss: 0.1317 - accuracy: 0.9533 - auc: 0.9885 - f1_score: 0.9489\n",
      "Epoch 33/100\n",
      "518/518 [==============================] - 2s 4ms/step - loss: 0.1350 - accuracy: 0.9520 - auc: 0.9882 - f1_score: 0.9473\n",
      "Epoch 34/100\n",
      "518/518 [==============================] - 2s 4ms/step - loss: 0.1315 - accuracy: 0.9525 - auc: 0.9886 - f1_score: 0.9480\n",
      "Epoch 35/100\n",
      "518/518 [==============================] - 2s 4ms/step - loss: 0.1303 - accuracy: 0.9526 - auc: 0.9888 - f1_score: 0.9480\n",
      "Epoch 36/100\n",
      "518/518 [==============================] - 2s 4ms/step - loss: 0.1307 - accuracy: 0.9548 - auc: 0.9884 - f1_score: 0.9505\n",
      "Epoch 37/100\n",
      "518/518 [==============================] - 2s 4ms/step - loss: 0.1269 - accuracy: 0.9548 - auc: 0.9896 - f1_score: 0.9505\n",
      "Epoch 38/100\n",
      "518/518 [==============================] - 2s 4ms/step - loss: 0.1251 - accuracy: 0.9559 - auc: 0.9897 - f1_score: 0.9516\n",
      "Epoch 39/100\n",
      "518/518 [==============================] - 2s 4ms/step - loss: 0.1293 - accuracy: 0.9550 - auc: 0.9891 - f1_score: 0.9508\n",
      "Epoch 40/100\n",
      "518/518 [==============================] - 2s 4ms/step - loss: 0.1289 - accuracy: 0.9546 - auc: 0.9890 - f1_score: 0.9502\n",
      "Epoch 41/100\n",
      "518/518 [==============================] - 2s 4ms/step - loss: 0.1293 - accuracy: 0.9532 - auc: 0.9891 - f1_score: 0.9488\n",
      "Epoch 42/100\n",
      "518/518 [==============================] - 2s 4ms/step - loss: 0.1234 - accuracy: 0.9560 - auc: 0.9900 - f1_score: 0.9518\n",
      "Epoch 43/100\n",
      "518/518 [==============================] - 2s 4ms/step - loss: 0.1284 - accuracy: 0.9548 - auc: 0.9891 - f1_score: 0.9506\n",
      "Epoch 44/100\n",
      "518/518 [==============================] - 2s 4ms/step - loss: 0.1269 - accuracy: 0.9538 - auc: 0.9895 - f1_score: 0.9493\n",
      "Epoch 45/100\n",
      "518/518 [==============================] - 2s 4ms/step - loss: 0.1217 - accuracy: 0.9556 - auc: 0.9901 - f1_score: 0.9514\n",
      "Epoch 46/100\n",
      "518/518 [==============================] - 2s 4ms/step - loss: 0.1197 - accuracy: 0.9577 - auc: 0.9904 - f1_score: 0.9538\n",
      "Epoch 47/100\n",
      "518/518 [==============================] - 2s 4ms/step - loss: 0.1203 - accuracy: 0.9573 - auc: 0.9904 - f1_score: 0.9532\n",
      "Epoch 48/100\n",
      "518/518 [==============================] - 2s 4ms/step - loss: 0.1207 - accuracy: 0.9574 - auc: 0.9904 - f1_score: 0.9534\n",
      "Epoch 49/100\n",
      "518/518 [==============================] - 2s 4ms/step - loss: 0.1199 - accuracy: 0.9578 - auc: 0.9905 - f1_score: 0.9537\n",
      "Epoch 50/100\n",
      "518/518 [==============================] - 2s 4ms/step - loss: 0.1181 - accuracy: 0.9574 - auc: 0.9908 - f1_score: 0.9533\n",
      "Epoch 51/100\n",
      "518/518 [==============================] - 2s 4ms/step - loss: 0.1186 - accuracy: 0.9577 - auc: 0.9908 - f1_score: 0.9537\n",
      "Epoch 52/100\n",
      "518/518 [==============================] - 2s 4ms/step - loss: 0.1162 - accuracy: 0.9585 - auc: 0.9911 - f1_score: 0.9545\n",
      "Epoch 53/100\n",
      "518/518 [==============================] - 2s 4ms/step - loss: 0.1155 - accuracy: 0.9569 - auc: 0.9912 - f1_score: 0.9528\n",
      "Epoch 54/100\n",
      "518/518 [==============================] - 3s 6ms/step - loss: 0.1147 - accuracy: 0.9580 - auc: 0.9913 - f1_score: 0.9540\n",
      "Epoch 55/100\n",
      "518/518 [==============================] - 2s 4ms/step - loss: 0.1170 - accuracy: 0.9594 - auc: 0.9909 - f1_score: 0.9556\n",
      "Epoch 56/100\n",
      "518/518 [==============================] - 2s 4ms/step - loss: 0.1178 - accuracy: 0.9572 - auc: 0.9909 - f1_score: 0.9531\n",
      "Epoch 57/100\n",
      "518/518 [==============================] - 2s 4ms/step - loss: 0.1151 - accuracy: 0.9586 - auc: 0.9914 - f1_score: 0.9547\n",
      "Epoch 58/100\n",
      "518/518 [==============================] - 2s 4ms/step - loss: 0.1145 - accuracy: 0.9588 - auc: 0.9911 - f1_score: 0.9548\n",
      "Epoch 59/100\n",
      "518/518 [==============================] - 2s 4ms/step - loss: 0.1126 - accuracy: 0.9595 - auc: 0.9916 - f1_score: 0.9557\n",
      "Epoch 60/100\n",
      "518/518 [==============================] - 2s 4ms/step - loss: 0.1148 - accuracy: 0.9588 - auc: 0.9914 - f1_score: 0.9548\n",
      "Epoch 61/100\n",
      "518/518 [==============================] - 2s 4ms/step - loss: 0.1138 - accuracy: 0.9572 - auc: 0.9917 - f1_score: 0.9530\n",
      "Epoch 62/100\n",
      "518/518 [==============================] - 2s 4ms/step - loss: 0.1115 - accuracy: 0.9597 - auc: 0.9918 - f1_score: 0.9559\n",
      "Epoch 63/100\n",
      "518/518 [==============================] - 2s 4ms/step - loss: 0.1121 - accuracy: 0.9610 - auc: 0.9916 - f1_score: 0.9573\n",
      "Epoch 64/100\n",
      "518/518 [==============================] - 2s 4ms/step - loss: 0.1125 - accuracy: 0.9605 - auc: 0.9915 - f1_score: 0.9567\n",
      "Epoch 65/100\n",
      "518/518 [==============================] - 2s 4ms/step - loss: 0.1098 - accuracy: 0.9617 - auc: 0.9919 - f1_score: 0.9581\n",
      "Epoch 66/100\n",
      "518/518 [==============================] - 2s 4ms/step - loss: 0.1115 - accuracy: 0.9596 - auc: 0.9916 - f1_score: 0.9557\n",
      "Epoch 67/100\n",
      "518/518 [==============================] - 2s 4ms/step - loss: 0.1107 - accuracy: 0.9602 - auc: 0.9918 - f1_score: 0.9565\n",
      "Epoch 68/100\n",
      "518/518 [==============================] - 3s 5ms/step - loss: 0.1112 - accuracy: 0.9602 - auc: 0.9916 - f1_score: 0.9564\n",
      "Epoch 69/100\n",
      "518/518 [==============================] - 2s 5ms/step - loss: 0.1108 - accuracy: 0.9604 - auc: 0.9918 - f1_score: 0.9567\n",
      "Epoch 70/100\n",
      "518/518 [==============================] - 2s 4ms/step - loss: 0.1088 - accuracy: 0.9594 - auc: 0.9922 - f1_score: 0.9556\n",
      "Epoch 71/100\n",
      "518/518 [==============================] - 2s 4ms/step - loss: 0.1126 - accuracy: 0.9594 - auc: 0.9913 - f1_score: 0.9556\n",
      "Epoch 72/100\n",
      "518/518 [==============================] - 2s 4ms/step - loss: 0.1074 - accuracy: 0.9606 - auc: 0.9922 - f1_score: 0.9569\n",
      "Epoch 73/100\n",
      "518/518 [==============================] - 2s 4ms/step - loss: 0.1078 - accuracy: 0.9607 - auc: 0.9923 - f1_score: 0.9570\n",
      "Epoch 74/100\n",
      "518/518 [==============================] - 2s 4ms/step - loss: 0.1092 - accuracy: 0.9601 - auc: 0.9920 - f1_score: 0.9563\n",
      "Epoch 75/100\n",
      "518/518 [==============================] - 2s 4ms/step - loss: 0.1087 - accuracy: 0.9607 - auc: 0.9922 - f1_score: 0.9570\n",
      "Epoch 76/100\n",
      "518/518 [==============================] - 2s 4ms/step - loss: 0.1079 - accuracy: 0.9619 - auc: 0.9921 - f1_score: 0.9583\n",
      "Epoch 77/100\n",
      "518/518 [==============================] - 2s 4ms/step - loss: 0.1067 - accuracy: 0.9625 - auc: 0.9922 - f1_score: 0.9589\n",
      "Epoch 78/100\n",
      "518/518 [==============================] - 2s 4ms/step - loss: 0.1033 - accuracy: 0.9628 - auc: 0.9929 - f1_score: 0.9593\n",
      "Epoch 79/100\n",
      "518/518 [==============================] - 2s 4ms/step - loss: 0.1073 - accuracy: 0.9621 - auc: 0.9922 - f1_score: 0.9585\n",
      "Epoch 80/100\n",
      "518/518 [==============================] - 2s 4ms/step - loss: 0.1080 - accuracy: 0.9614 - auc: 0.9920 - f1_score: 0.9578\n",
      "Epoch 81/100\n",
      "518/518 [==============================] - 2s 4ms/step - loss: 0.1088 - accuracy: 0.9610 - auc: 0.9921 - f1_score: 0.9573\n",
      "Epoch 82/100\n",
      "518/518 [==============================] - 2s 4ms/step - loss: 0.1073 - accuracy: 0.9618 - auc: 0.9924 - f1_score: 0.9582\n",
      "Epoch 83/100\n",
      "518/518 [==============================] - 2s 4ms/step - loss: 0.1049 - accuracy: 0.9630 - auc: 0.9925 - f1_score: 0.9596\n",
      "Score for fold 1: loss of 0.2875346839427948; accuracy of 0.931106448173523; auc of 0.9695867896080017; f1_score of 0.9244275093078613\n",
      "Epoch 1/100\n",
      "518/518 [==============================] - 3s 4ms/step - loss: 0.2970 - accuracy: 0.8789 - auc: 0.9477 - f1_score: 0.8664\n",
      "Epoch 2/100\n",
      "518/518 [==============================] - 2s 4ms/step - loss: 0.2135 - accuracy: 0.9252 - auc: 0.9714 - f1_score: 0.9182\n",
      "Epoch 3/100\n",
      "518/518 [==============================] - 3s 5ms/step - loss: 0.2017 - accuracy: 0.9297 - auc: 0.9746 - f1_score: 0.9231\n",
      "Epoch 4/100\n",
      "518/518 [==============================] - 3s 6ms/step - loss: 0.1938 - accuracy: 0.9338 - auc: 0.9761 - f1_score: 0.9276\n",
      "Epoch 5/100\n",
      "518/518 [==============================] - 2s 4ms/step - loss: 0.1893 - accuracy: 0.9339 - auc: 0.9774 - f1_score: 0.9277\n",
      "Epoch 6/100\n",
      "518/518 [==============================] - 2s 4ms/step - loss: 0.1804 - accuracy: 0.9369 - auc: 0.9796 - f1_score: 0.9311\n",
      "Epoch 7/100\n",
      "518/518 [==============================] - 2s 4ms/step - loss: 0.1784 - accuracy: 0.9396 - auc: 0.9795 - f1_score: 0.9340\n",
      "Epoch 8/100\n",
      "518/518 [==============================] - 2s 4ms/step - loss: 0.1739 - accuracy: 0.9398 - auc: 0.9806 - f1_score: 0.9342\n",
      "Epoch 9/100\n",
      "518/518 [==============================] - 2s 4ms/step - loss: 0.1702 - accuracy: 0.9403 - auc: 0.9815 - f1_score: 0.9349\n",
      "Epoch 10/100\n",
      "518/518 [==============================] - 2s 4ms/step - loss: 0.1690 - accuracy: 0.9401 - auc: 0.9817 - f1_score: 0.9346\n",
      "Epoch 11/100\n",
      "518/518 [==============================] - 2s 4ms/step - loss: 0.1646 - accuracy: 0.9428 - auc: 0.9828 - f1_score: 0.9375\n",
      "Epoch 12/100\n",
      "518/518 [==============================] - 2s 4ms/step - loss: 0.1608 - accuracy: 0.9428 - auc: 0.9832 - f1_score: 0.9375\n",
      "Epoch 13/100\n",
      "518/518 [==============================] - 2s 4ms/step - loss: 0.1594 - accuracy: 0.9439 - auc: 0.9835 - f1_score: 0.9388\n",
      "Epoch 14/100\n",
      "518/518 [==============================] - 2s 4ms/step - loss: 0.1596 - accuracy: 0.9439 - auc: 0.9834 - f1_score: 0.9388\n",
      "Epoch 15/100\n",
      "518/518 [==============================] - 2s 4ms/step - loss: 0.1555 - accuracy: 0.9449 - auc: 0.9842 - f1_score: 0.9399\n",
      "Epoch 16/100\n",
      "518/518 [==============================] - 2s 4ms/step - loss: 0.1546 - accuracy: 0.9460 - auc: 0.9844 - f1_score: 0.9411\n",
      "Epoch 17/100\n",
      "518/518 [==============================] - 2s 4ms/step - loss: 0.1526 - accuracy: 0.9468 - auc: 0.9847 - f1_score: 0.9419\n",
      "Epoch 18/100\n",
      "518/518 [==============================] - 2s 4ms/step - loss: 0.1517 - accuracy: 0.9469 - auc: 0.9849 - f1_score: 0.9420\n",
      "Epoch 19/100\n",
      "518/518 [==============================] - 2s 4ms/step - loss: 0.1495 - accuracy: 0.9469 - auc: 0.9855 - f1_score: 0.9422\n",
      "Epoch 20/100\n",
      "518/518 [==============================] - 2s 4ms/step - loss: 0.1464 - accuracy: 0.9488 - auc: 0.9860 - f1_score: 0.9440\n",
      "Epoch 21/100\n",
      "518/518 [==============================] - 2s 4ms/step - loss: 0.1444 - accuracy: 0.9478 - auc: 0.9864 - f1_score: 0.9429\n",
      "Epoch 22/100\n",
      "518/518 [==============================] - 2s 4ms/step - loss: 0.1433 - accuracy: 0.9499 - auc: 0.9866 - f1_score: 0.9454\n",
      "Epoch 23/100\n",
      "518/518 [==============================] - 2s 4ms/step - loss: 0.1439 - accuracy: 0.9477 - auc: 0.9864 - f1_score: 0.9430\n",
      "Epoch 24/100\n",
      "518/518 [==============================] - 2s 4ms/step - loss: 0.1432 - accuracy: 0.9489 - auc: 0.9867 - f1_score: 0.9440\n",
      "Epoch 25/100\n",
      "518/518 [==============================] - 2s 4ms/step - loss: 0.1400 - accuracy: 0.9495 - auc: 0.9870 - f1_score: 0.9449\n",
      "Epoch 26/100\n",
      "518/518 [==============================] - 2s 4ms/step - loss: 0.1358 - accuracy: 0.9507 - auc: 0.9879 - f1_score: 0.9462\n",
      "Epoch 27/100\n",
      "518/518 [==============================] - 2s 4ms/step - loss: 0.1353 - accuracy: 0.9512 - auc: 0.9878 - f1_score: 0.9467\n",
      "Epoch 28/100\n",
      "518/518 [==============================] - 2s 4ms/step - loss: 0.1369 - accuracy: 0.9500 - auc: 0.9878 - f1_score: 0.9455\n",
      "Epoch 29/100\n",
      "518/518 [==============================] - 2s 4ms/step - loss: 0.1342 - accuracy: 0.9514 - auc: 0.9881 - f1_score: 0.9469\n",
      "Epoch 30/100\n",
      "518/518 [==============================] - 2s 4ms/step - loss: 0.1344 - accuracy: 0.9508 - auc: 0.9883 - f1_score: 0.9463\n",
      "Epoch 31/100\n",
      "518/518 [==============================] - 2s 4ms/step - loss: 0.1318 - accuracy: 0.9529 - auc: 0.9885 - f1_score: 0.9485\n",
      "Epoch 32/100\n",
      "518/518 [==============================] - 2s 4ms/step - loss: 0.1315 - accuracy: 0.9520 - auc: 0.9885 - f1_score: 0.9477\n",
      "Epoch 33/100\n",
      "518/518 [==============================] - 2s 4ms/step - loss: 0.1281 - accuracy: 0.9531 - auc: 0.9890 - f1_score: 0.9488\n",
      "Epoch 34/100\n",
      "518/518 [==============================] - 2s 4ms/step - loss: 0.1281 - accuracy: 0.9546 - auc: 0.9893 - f1_score: 0.9504\n",
      "Epoch 35/100\n",
      "518/518 [==============================] - 2s 4ms/step - loss: 0.1273 - accuracy: 0.9532 - auc: 0.9891 - f1_score: 0.9491\n",
      "Epoch 36/100\n",
      "518/518 [==============================] - 2s 4ms/step - loss: 0.1269 - accuracy: 0.9529 - auc: 0.9894 - f1_score: 0.9486\n",
      "Epoch 37/100\n",
      "518/518 [==============================] - 2s 4ms/step - loss: 0.1283 - accuracy: 0.9546 - auc: 0.9892 - f1_score: 0.9505\n",
      "Epoch 38/100\n",
      "518/518 [==============================] - 2s 4ms/step - loss: 0.1278 - accuracy: 0.9542 - auc: 0.9891 - f1_score: 0.9501\n",
      "Epoch 39/100\n",
      "518/518 [==============================] - 2s 4ms/step - loss: 0.1248 - accuracy: 0.9542 - auc: 0.9896 - f1_score: 0.9501\n",
      "Epoch 40/100\n",
      "518/518 [==============================] - 2s 4ms/step - loss: 0.1239 - accuracy: 0.9542 - auc: 0.9899 - f1_score: 0.9501\n",
      "Epoch 41/100\n",
      "518/518 [==============================] - 2s 4ms/step - loss: 0.1250 - accuracy: 0.9548 - auc: 0.9896 - f1_score: 0.9506\n",
      "Epoch 42/100\n",
      "518/518 [==============================] - 2s 4ms/step - loss: 0.1236 - accuracy: 0.9560 - auc: 0.9898 - f1_score: 0.9520\n",
      "Epoch 43/100\n",
      "518/518 [==============================] - 2s 4ms/step - loss: 0.1191 - accuracy: 0.9560 - auc: 0.9904 - f1_score: 0.9521\n",
      "Epoch 44/100\n",
      "518/518 [==============================] - 2s 4ms/step - loss: 0.1222 - accuracy: 0.9560 - auc: 0.9898 - f1_score: 0.9522\n",
      "Epoch 45/100\n",
      "518/518 [==============================] - 2s 4ms/step - loss: 0.1233 - accuracy: 0.9552 - auc: 0.9899 - f1_score: 0.9512\n",
      "Epoch 46/100\n",
      "518/518 [==============================] - 2s 4ms/step - loss: 0.1201 - accuracy: 0.9553 - auc: 0.9904 - f1_score: 0.9513\n",
      "Epoch 47/100\n",
      "518/518 [==============================] - 2s 4ms/step - loss: 0.1187 - accuracy: 0.9555 - auc: 0.9905 - f1_score: 0.9516\n",
      "Epoch 48/100\n",
      "518/518 [==============================] - 3s 6ms/step - loss: 0.1187 - accuracy: 0.9563 - auc: 0.9906 - f1_score: 0.9524\n",
      "Epoch 49/100\n",
      "518/518 [==============================] - 2s 4ms/step - loss: 0.1163 - accuracy: 0.9583 - auc: 0.9908 - f1_score: 0.9545\n",
      "Epoch 50/100\n",
      "518/518 [==============================] - 2s 4ms/step - loss: 0.1163 - accuracy: 0.9578 - auc: 0.9908 - f1_score: 0.9540\n",
      "Epoch 51/100\n",
      "518/518 [==============================] - 2s 4ms/step - loss: 0.1150 - accuracy: 0.9557 - auc: 0.9909 - f1_score: 0.9517\n",
      "Epoch 52/100\n",
      "518/518 [==============================] - 2s 4ms/step - loss: 0.1179 - accuracy: 0.9561 - auc: 0.9907 - f1_score: 0.9522\n",
      "Epoch 53/100\n",
      "518/518 [==============================] - 2s 4ms/step - loss: 0.1148 - accuracy: 0.9563 - auc: 0.9910 - f1_score: 0.9524\n",
      "Epoch 54/100\n",
      "518/518 [==============================] - 2s 4ms/step - loss: 0.1168 - accuracy: 0.9566 - auc: 0.9907 - f1_score: 0.9527\n",
      "Epoch 55/100\n",
      "518/518 [==============================] - 2s 4ms/step - loss: 0.1102 - accuracy: 0.9590 - auc: 0.9917 - f1_score: 0.9554\n",
      "Epoch 56/100\n",
      "518/518 [==============================] - 2s 4ms/step - loss: 0.1137 - accuracy: 0.9582 - auc: 0.9913 - f1_score: 0.9545\n",
      "Epoch 57/100\n",
      "518/518 [==============================] - 2s 4ms/step - loss: 0.1128 - accuracy: 0.9597 - auc: 0.9915 - f1_score: 0.9562\n",
      "Epoch 58/100\n",
      "518/518 [==============================] - 2s 4ms/step - loss: 0.1137 - accuracy: 0.9572 - auc: 0.9912 - f1_score: 0.9535\n",
      "Epoch 59/100\n",
      "518/518 [==============================] - 2s 4ms/step - loss: 0.1112 - accuracy: 0.9587 - auc: 0.9916 - f1_score: 0.9551\n",
      "Epoch 60/100\n",
      "518/518 [==============================] - 2s 4ms/step - loss: 0.1119 - accuracy: 0.9590 - auc: 0.9916 - f1_score: 0.9553\n",
      "Score for fold 2: loss of 0.21791355311870575; accuracy of 0.9429366588592529; auc of 0.9749271273612976; f1_score of 0.9374523162841797\n",
      "Epoch 1/100\n",
      "518/518 [==============================] - 3s 4ms/step - loss: 0.2832 - accuracy: 0.8888 - auc: 0.9524 - f1_score: 0.8775\n",
      "Epoch 2/100\n",
      "518/518 [==============================] - 2s 4ms/step - loss: 0.2095 - accuracy: 0.9257 - auc: 0.9721 - f1_score: 0.9187\n",
      "Epoch 3/100\n",
      "518/518 [==============================] - 2s 4ms/step - loss: 0.1994 - accuracy: 0.9299 - auc: 0.9746 - f1_score: 0.9234\n",
      "Epoch 4/100\n",
      "518/518 [==============================] - 2s 4ms/step - loss: 0.1910 - accuracy: 0.9326 - auc: 0.9771 - f1_score: 0.9264\n",
      "Epoch 5/100\n",
      "518/518 [==============================] - 2s 4ms/step - loss: 0.1869 - accuracy: 0.9333 - auc: 0.9781 - f1_score: 0.9273\n",
      "Epoch 6/100\n",
      "518/518 [==============================] - 2s 4ms/step - loss: 0.1837 - accuracy: 0.9359 - auc: 0.9787 - f1_score: 0.9301\n",
      "Epoch 7/100\n",
      "518/518 [==============================] - 2s 4ms/step - loss: 0.1762 - accuracy: 0.9383 - auc: 0.9800 - f1_score: 0.9327\n",
      "Epoch 8/100\n",
      "518/518 [==============================] - 2s 4ms/step - loss: 0.1731 - accuracy: 0.9380 - auc: 0.9809 - f1_score: 0.9324\n",
      "Epoch 9/100\n",
      "518/518 [==============================] - 2s 4ms/step - loss: 0.1708 - accuracy: 0.9393 - auc: 0.9815 - f1_score: 0.9337\n",
      "Epoch 10/100\n",
      "518/518 [==============================] - 2s 4ms/step - loss: 0.1676 - accuracy: 0.9405 - auc: 0.9821 - f1_score: 0.9351\n",
      "Epoch 11/100\n",
      "518/518 [==============================] - 2s 4ms/step - loss: 0.1662 - accuracy: 0.9410 - auc: 0.9824 - f1_score: 0.9357\n",
      "Epoch 12/100\n",
      "518/518 [==============================] - 2s 4ms/step - loss: 0.1614 - accuracy: 0.9429 - auc: 0.9831 - f1_score: 0.9376\n",
      "Epoch 13/100\n",
      "518/518 [==============================] - 2s 4ms/step - loss: 0.1587 - accuracy: 0.9433 - auc: 0.9838 - f1_score: 0.9381\n",
      "Epoch 14/100\n",
      "518/518 [==============================] - 2s 4ms/step - loss: 0.1573 - accuracy: 0.9456 - auc: 0.9838 - f1_score: 0.9407\n",
      "Epoch 15/100\n",
      "518/518 [==============================] - 2s 4ms/step - loss: 0.1537 - accuracy: 0.9451 - auc: 0.9847 - f1_score: 0.9401\n",
      "Epoch 16/100\n",
      "518/518 [==============================] - 2s 4ms/step - loss: 0.1558 - accuracy: 0.9456 - auc: 0.9840 - f1_score: 0.9407\n",
      "Epoch 17/100\n",
      "518/518 [==============================] - 2s 4ms/step - loss: 0.1515 - accuracy: 0.9461 - auc: 0.9848 - f1_score: 0.9414\n",
      "Epoch 18/100\n",
      "518/518 [==============================] - 2s 4ms/step - loss: 0.1499 - accuracy: 0.9464 - auc: 0.9855 - f1_score: 0.9416\n",
      "Epoch 19/100\n",
      "518/518 [==============================] - 2s 4ms/step - loss: 0.1492 - accuracy: 0.9476 - auc: 0.9855 - f1_score: 0.9429\n",
      "Epoch 20/100\n",
      "518/518 [==============================] - 2s 4ms/step - loss: 0.1459 - accuracy: 0.9469 - auc: 0.9860 - f1_score: 0.9421\n",
      "Epoch 21/100\n",
      "518/518 [==============================] - 2s 4ms/step - loss: 0.1470 - accuracy: 0.9479 - auc: 0.9859 - f1_score: 0.9433\n",
      "Epoch 22/100\n",
      "518/518 [==============================] - 2s 4ms/step - loss: 0.1450 - accuracy: 0.9484 - auc: 0.9862 - f1_score: 0.9437\n",
      "Epoch 23/100\n",
      "518/518 [==============================] - 2s 4ms/step - loss: 0.1421 - accuracy: 0.9485 - auc: 0.9866 - f1_score: 0.9439\n",
      "Epoch 24/100\n",
      "518/518 [==============================] - 2s 4ms/step - loss: 0.1399 - accuracy: 0.9493 - auc: 0.9873 - f1_score: 0.9447\n",
      "Epoch 25/100\n",
      "518/518 [==============================] - 2s 4ms/step - loss: 0.1396 - accuracy: 0.9493 - auc: 0.9872 - f1_score: 0.9446\n",
      "Epoch 26/100\n",
      "518/518 [==============================] - 2s 4ms/step - loss: 0.1360 - accuracy: 0.9501 - auc: 0.9877 - f1_score: 0.9457\n",
      "Epoch 27/100\n",
      "518/518 [==============================] - 2s 4ms/step - loss: 0.1379 - accuracy: 0.9508 - auc: 0.9873 - f1_score: 0.9465\n",
      "Epoch 28/100\n",
      "518/518 [==============================] - 2s 4ms/step - loss: 0.1362 - accuracy: 0.9508 - auc: 0.9879 - f1_score: 0.9464\n",
      "Epoch 29/100\n",
      "518/518 [==============================] - 2s 4ms/step - loss: 0.1350 - accuracy: 0.9512 - auc: 0.9880 - f1_score: 0.9469\n",
      "Epoch 30/100\n",
      "518/518 [==============================] - 2s 4ms/step - loss: 0.1341 - accuracy: 0.9518 - auc: 0.9880 - f1_score: 0.9475\n",
      "Epoch 31/100\n",
      "518/518 [==============================] - 3s 6ms/step - loss: 0.1284 - accuracy: 0.9526 - auc: 0.9889 - f1_score: 0.9484\n",
      "Epoch 32/100\n",
      "518/518 [==============================] - 3s 5ms/step - loss: 0.1327 - accuracy: 0.9525 - auc: 0.9882 - f1_score: 0.9483\n",
      "Epoch 33/100\n",
      "518/518 [==============================] - 2s 4ms/step - loss: 0.1328 - accuracy: 0.9517 - auc: 0.9882 - f1_score: 0.9475\n",
      "Epoch 34/100\n",
      "518/518 [==============================] - 2s 4ms/step - loss: 0.1281 - accuracy: 0.9533 - auc: 0.9891 - f1_score: 0.9492\n",
      "Epoch 35/100\n",
      "518/518 [==============================] - 2s 4ms/step - loss: 0.1252 - accuracy: 0.9557 - auc: 0.9894 - f1_score: 0.9518\n",
      "Epoch 36/100\n",
      "518/518 [==============================] - 2s 4ms/step - loss: 0.1256 - accuracy: 0.9539 - auc: 0.9894 - f1_score: 0.9498\n",
      "Epoch 37/100\n",
      "518/518 [==============================] - 2s 4ms/step - loss: 0.1279 - accuracy: 0.9529 - auc: 0.9890 - f1_score: 0.9488\n",
      "Epoch 38/100\n",
      "518/518 [==============================] - 2s 4ms/step - loss: 0.1218 - accuracy: 0.9551 - auc: 0.9898 - f1_score: 0.9512\n",
      "Epoch 39/100\n",
      "518/518 [==============================] - 2s 4ms/step - loss: 0.1217 - accuracy: 0.9546 - auc: 0.9900 - f1_score: 0.9507\n",
      "Epoch 40/100\n",
      "518/518 [==============================] - 2s 4ms/step - loss: 0.1233 - accuracy: 0.9549 - auc: 0.9898 - f1_score: 0.9509\n",
      "Epoch 41/100\n",
      "518/518 [==============================] - 2s 4ms/step - loss: 0.1212 - accuracy: 0.9549 - auc: 0.9902 - f1_score: 0.9510\n",
      "Epoch 42/100\n",
      "518/518 [==============================] - 2s 4ms/step - loss: 0.1223 - accuracy: 0.9544 - auc: 0.9900 - f1_score: 0.9503\n",
      "Epoch 43/100\n",
      "518/518 [==============================] - 2s 4ms/step - loss: 0.1203 - accuracy: 0.9550 - auc: 0.9904 - f1_score: 0.9511\n",
      "Epoch 44/100\n",
      "518/518 [==============================] - 2s 4ms/step - loss: 0.1184 - accuracy: 0.9567 - auc: 0.9904 - f1_score: 0.9529\n",
      "Epoch 45/100\n",
      "518/518 [==============================] - 2s 4ms/step - loss: 0.1162 - accuracy: 0.9564 - auc: 0.9907 - f1_score: 0.9526\n",
      "Epoch 46/100\n",
      "518/518 [==============================] - 2s 4ms/step - loss: 0.1171 - accuracy: 0.9549 - auc: 0.9908 - f1_score: 0.9510\n",
      "Epoch 47/100\n",
      "518/518 [==============================] - 2s 4ms/step - loss: 0.1204 - accuracy: 0.9558 - auc: 0.9902 - f1_score: 0.9520\n",
      "Epoch 48/100\n",
      "518/518 [==============================] - 2s 4ms/step - loss: 0.1180 - accuracy: 0.9560 - auc: 0.9904 - f1_score: 0.9522\n",
      "Epoch 49/100\n",
      "518/518 [==============================] - 2s 4ms/step - loss: 0.1173 - accuracy: 0.9564 - auc: 0.9907 - f1_score: 0.9527\n",
      "Epoch 50/100\n",
      "518/518 [==============================] - 2s 4ms/step - loss: 0.1159 - accuracy: 0.9575 - auc: 0.9909 - f1_score: 0.9539\n",
      "Epoch 51/100\n",
      "518/518 [==============================] - 2s 4ms/step - loss: 0.1156 - accuracy: 0.9570 - auc: 0.9909 - f1_score: 0.9533\n",
      "Epoch 52/100\n",
      "518/518 [==============================] - 2s 4ms/step - loss: 0.1152 - accuracy: 0.9573 - auc: 0.9910 - f1_score: 0.9536\n",
      "Epoch 53/100\n",
      "518/518 [==============================] - 2s 4ms/step - loss: 0.1126 - accuracy: 0.9581 - auc: 0.9916 - f1_score: 0.9545\n",
      "Epoch 54/100\n",
      "518/518 [==============================] - 2s 4ms/step - loss: 0.1143 - accuracy: 0.9579 - auc: 0.9910 - f1_score: 0.9543\n",
      "Epoch 55/100\n",
      "518/518 [==============================] - 2s 4ms/step - loss: 0.1143 - accuracy: 0.9580 - auc: 0.9913 - f1_score: 0.9544\n",
      "Epoch 56/100\n",
      "518/518 [==============================] - 2s 4ms/step - loss: 0.1118 - accuracy: 0.9583 - auc: 0.9915 - f1_score: 0.9546\n",
      "Epoch 57/100\n",
      "518/518 [==============================] - 2s 4ms/step - loss: 0.1155 - accuracy: 0.9568 - auc: 0.9910 - f1_score: 0.9531\n",
      "Epoch 58/100\n",
      "518/518 [==============================] - 2s 4ms/step - loss: 0.1121 - accuracy: 0.9594 - auc: 0.9913 - f1_score: 0.9559\n",
      "Epoch 59/100\n",
      "518/518 [==============================] - 2s 4ms/step - loss: 0.1112 - accuracy: 0.9584 - auc: 0.9917 - f1_score: 0.9548\n",
      "Epoch 60/100\n",
      "518/518 [==============================] - 2s 4ms/step - loss: 0.1084 - accuracy: 0.9594 - auc: 0.9921 - f1_score: 0.9558\n",
      "Epoch 61/100\n",
      "518/518 [==============================] - 2s 4ms/step - loss: 0.1110 - accuracy: 0.9594 - auc: 0.9915 - f1_score: 0.9560\n",
      "Epoch 62/100\n",
      "518/518 [==============================] - 2s 4ms/step - loss: 0.1102 - accuracy: 0.9595 - auc: 0.9918 - f1_score: 0.9559\n",
      "Epoch 63/100\n",
      "518/518 [==============================] - 2s 4ms/step - loss: 0.1098 - accuracy: 0.9587 - auc: 0.9918 - f1_score: 0.9551\n",
      "Epoch 64/100\n",
      "518/518 [==============================] - 2s 4ms/step - loss: 0.1097 - accuracy: 0.9590 - auc: 0.9917 - f1_score: 0.9554\n",
      "Epoch 65/100\n",
      "518/518 [==============================] - 2s 4ms/step - loss: 0.1080 - accuracy: 0.9582 - auc: 0.9920 - f1_score: 0.9546\n",
      "Epoch 66/100\n",
      "518/518 [==============================] - 2s 4ms/step - loss: 0.1080 - accuracy: 0.9606 - auc: 0.9920 - f1_score: 0.9572\n",
      "Epoch 67/100\n",
      "518/518 [==============================] - 2s 4ms/step - loss: 0.1101 - accuracy: 0.9582 - auc: 0.9919 - f1_score: 0.9546\n",
      "Epoch 68/100\n",
      "518/518 [==============================] - 2s 4ms/step - loss: 0.1054 - accuracy: 0.9610 - auc: 0.9923 - f1_score: 0.9576\n",
      "Epoch 69/100\n",
      "518/518 [==============================] - 2s 4ms/step - loss: 0.1058 - accuracy: 0.9594 - auc: 0.9924 - f1_score: 0.9560\n",
      "Epoch 70/100\n",
      "518/518 [==============================] - 2s 4ms/step - loss: 0.1068 - accuracy: 0.9589 - auc: 0.9921 - f1_score: 0.9553\n",
      "Epoch 71/100\n",
      "518/518 [==============================] - 2s 4ms/step - loss: 0.1050 - accuracy: 0.9603 - auc: 0.9924 - f1_score: 0.9569\n",
      "Epoch 72/100\n",
      "518/518 [==============================] - 2s 4ms/step - loss: 0.1062 - accuracy: 0.9602 - auc: 0.9922 - f1_score: 0.9568\n",
      "Epoch 73/100\n",
      "518/518 [==============================] - 2s 4ms/step - loss: 0.1031 - accuracy: 0.9606 - auc: 0.9926 - f1_score: 0.9572\n",
      "Epoch 74/100\n",
      "518/518 [==============================] - 2s 4ms/step - loss: 0.1080 - accuracy: 0.9592 - auc: 0.9922 - f1_score: 0.9558\n",
      "Epoch 75/100\n",
      "518/518 [==============================] - 3s 6ms/step - loss: 0.1045 - accuracy: 0.9610 - auc: 0.9923 - f1_score: 0.9576\n",
      "Epoch 76/100\n",
      "518/518 [==============================] - 2s 4ms/step - loss: 0.1062 - accuracy: 0.9614 - auc: 0.9923 - f1_score: 0.9581\n",
      "Epoch 77/100\n",
      "518/518 [==============================] - 2s 4ms/step - loss: 0.1048 - accuracy: 0.9612 - auc: 0.9926 - f1_score: 0.9578\n",
      "Epoch 78/100\n",
      "518/518 [==============================] - 2s 4ms/step - loss: 0.1053 - accuracy: 0.9596 - auc: 0.9925 - f1_score: 0.9561\n",
      "Score for fold 3: loss of 0.2901983857154846; accuracy of 0.9377174377441406; auc of 0.9722349643707275; f1_score of 0.9315487146377563\n",
      "Epoch 1/100\n",
      "518/518 [==============================] - 3s 4ms/step - loss: 0.2853 - accuracy: 0.8861 - auc: 0.9513 - f1_score: 0.8742\n",
      "Epoch 2/100\n",
      "518/518 [==============================] - 2s 4ms/step - loss: 0.2149 - accuracy: 0.9244 - auc: 0.9710 - f1_score: 0.9175\n",
      "Epoch 3/100\n",
      "518/518 [==============================] - 2s 4ms/step - loss: 0.2027 - accuracy: 0.9270 - auc: 0.9746 - f1_score: 0.9204\n",
      "Epoch 4/100\n",
      "518/518 [==============================] - 2s 4ms/step - loss: 0.1971 - accuracy: 0.9294 - auc: 0.9758 - f1_score: 0.9231\n",
      "Epoch 5/100\n",
      "518/518 [==============================] - 2s 4ms/step - loss: 0.1864 - accuracy: 0.9349 - auc: 0.9780 - f1_score: 0.9290\n",
      "Epoch 6/100\n",
      "518/518 [==============================] - 2s 4ms/step - loss: 0.1838 - accuracy: 0.9364 - auc: 0.9786 - f1_score: 0.9306\n",
      "Epoch 7/100\n",
      "518/518 [==============================] - 2s 4ms/step - loss: 0.1773 - accuracy: 0.9376 - auc: 0.9801 - f1_score: 0.9320\n",
      "Epoch 8/100\n",
      "518/518 [==============================] - 2s 4ms/step - loss: 0.1755 - accuracy: 0.9390 - auc: 0.9804 - f1_score: 0.9333\n",
      "Epoch 9/100\n",
      "518/518 [==============================] - 2s 4ms/step - loss: 0.1707 - accuracy: 0.9393 - auc: 0.9812 - f1_score: 0.9339\n",
      "Epoch 10/100\n",
      "518/518 [==============================] - 2s 4ms/step - loss: 0.1676 - accuracy: 0.9411 - auc: 0.9821 - f1_score: 0.9357\n",
      "Epoch 11/100\n",
      "518/518 [==============================] - 2s 4ms/step - loss: 0.1701 - accuracy: 0.9422 - auc: 0.9814 - f1_score: 0.9368\n",
      "Epoch 12/100\n",
      "518/518 [==============================] - 2s 4ms/step - loss: 0.1624 - accuracy: 0.9422 - auc: 0.9829 - f1_score: 0.9368\n",
      "Epoch 13/100\n",
      "518/518 [==============================] - 2s 4ms/step - loss: 0.1611 - accuracy: 0.9427 - auc: 0.9834 - f1_score: 0.9374\n",
      "Epoch 14/100\n",
      "518/518 [==============================] - 2s 4ms/step - loss: 0.1565 - accuracy: 0.9444 - auc: 0.9844 - f1_score: 0.9393\n",
      "Epoch 15/100\n",
      "518/518 [==============================] - 2s 4ms/step - loss: 0.1577 - accuracy: 0.9448 - auc: 0.9838 - f1_score: 0.9397\n",
      "Epoch 16/100\n",
      "518/518 [==============================] - 2s 4ms/step - loss: 0.1556 - accuracy: 0.9449 - auc: 0.9843 - f1_score: 0.9400\n",
      "Epoch 17/100\n",
      "518/518 [==============================] - 2s 4ms/step - loss: 0.1488 - accuracy: 0.9457 - auc: 0.9856 - f1_score: 0.9407\n",
      "Epoch 18/100\n",
      "518/518 [==============================] - 2s 4ms/step - loss: 0.1484 - accuracy: 0.9451 - auc: 0.9857 - f1_score: 0.9401\n",
      "Epoch 19/100\n",
      "518/518 [==============================] - 2s 4ms/step - loss: 0.1494 - accuracy: 0.9484 - auc: 0.9857 - f1_score: 0.9436\n",
      "Epoch 20/100\n",
      "518/518 [==============================] - 2s 4ms/step - loss: 0.1448 - accuracy: 0.9474 - auc: 0.9864 - f1_score: 0.9425\n",
      "Epoch 21/100\n",
      "518/518 [==============================] - 2s 4ms/step - loss: 0.1460 - accuracy: 0.9462 - auc: 0.9863 - f1_score: 0.9412\n",
      "Epoch 22/100\n",
      "518/518 [==============================] - 2s 4ms/step - loss: 0.1425 - accuracy: 0.9485 - auc: 0.9866 - f1_score: 0.9437\n",
      "Epoch 23/100\n",
      "518/518 [==============================] - 2s 4ms/step - loss: 0.1434 - accuracy: 0.9475 - auc: 0.9868 - f1_score: 0.9426\n",
      "Epoch 24/100\n",
      "518/518 [==============================] - 2s 4ms/step - loss: 0.1389 - accuracy: 0.9507 - auc: 0.9873 - f1_score: 0.9462\n",
      "Epoch 25/100\n",
      "518/518 [==============================] - 2s 4ms/step - loss: 0.1389 - accuracy: 0.9502 - auc: 0.9870 - f1_score: 0.9457\n",
      "Epoch 26/100\n",
      "518/518 [==============================] - 2s 4ms/step - loss: 0.1375 - accuracy: 0.9494 - auc: 0.9876 - f1_score: 0.9447\n",
      "Epoch 27/100\n",
      "518/518 [==============================] - 2s 4ms/step - loss: 0.1375 - accuracy: 0.9514 - auc: 0.9877 - f1_score: 0.9470\n",
      "Epoch 28/100\n",
      "518/518 [==============================] - 2s 4ms/step - loss: 0.1313 - accuracy: 0.9519 - auc: 0.9885 - f1_score: 0.9474\n",
      "Epoch 29/100\n",
      "518/518 [==============================] - 2s 4ms/step - loss: 0.1351 - accuracy: 0.9503 - auc: 0.9882 - f1_score: 0.9457\n",
      "Epoch 30/100\n",
      "518/518 [==============================] - 2s 4ms/step - loss: 0.1315 - accuracy: 0.9532 - auc: 0.9885 - f1_score: 0.9489\n",
      "Epoch 31/100\n",
      "518/518 [==============================] - 2s 4ms/step - loss: 0.1316 - accuracy: 0.9524 - auc: 0.9885 - f1_score: 0.9481\n",
      "Epoch 32/100\n",
      "518/518 [==============================] - 2s 4ms/step - loss: 0.1307 - accuracy: 0.9525 - auc: 0.9885 - f1_score: 0.9482\n",
      "Epoch 33/100\n",
      "518/518 [==============================] - 2s 4ms/step - loss: 0.1295 - accuracy: 0.9517 - auc: 0.9888 - f1_score: 0.9472\n",
      "Epoch 34/100\n",
      "518/518 [==============================] - 2s 4ms/step - loss: 0.1283 - accuracy: 0.9527 - auc: 0.9892 - f1_score: 0.9484\n",
      "Epoch 35/100\n",
      "518/518 [==============================] - 2s 4ms/step - loss: 0.1278 - accuracy: 0.9520 - auc: 0.9892 - f1_score: 0.9477\n",
      "Epoch 36/100\n",
      "518/518 [==============================] - 2s 4ms/step - loss: 0.1254 - accuracy: 0.9527 - auc: 0.9896 - f1_score: 0.9484\n",
      "Epoch 37/100\n",
      "518/518 [==============================] - 2s 4ms/step - loss: 0.1250 - accuracy: 0.9524 - auc: 0.9898 - f1_score: 0.9481\n",
      "Epoch 38/100\n",
      "518/518 [==============================] - 2s 4ms/step - loss: 0.1255 - accuracy: 0.9539 - auc: 0.9895 - f1_score: 0.9497\n",
      "Epoch 39/100\n",
      "518/518 [==============================] - 3s 6ms/step - loss: 0.1258 - accuracy: 0.9531 - auc: 0.9898 - f1_score: 0.9489\n",
      "Epoch 40/100\n",
      "518/518 [==============================] - 3s 5ms/step - loss: 0.1219 - accuracy: 0.9535 - auc: 0.9901 - f1_score: 0.9493\n",
      "Epoch 41/100\n",
      "518/518 [==============================] - 2s 4ms/step - loss: 0.1237 - accuracy: 0.9540 - auc: 0.9898 - f1_score: 0.9500\n",
      "Epoch 42/100\n",
      "518/518 [==============================] - 2s 4ms/step - loss: 0.1208 - accuracy: 0.9557 - auc: 0.9903 - f1_score: 0.9517\n",
      "Epoch 43/100\n",
      "518/518 [==============================] - 2s 4ms/step - loss: 0.1199 - accuracy: 0.9558 - auc: 0.9905 - f1_score: 0.9518\n",
      "Epoch 44/100\n",
      "518/518 [==============================] - 2s 4ms/step - loss: 0.1195 - accuracy: 0.9553 - auc: 0.9905 - f1_score: 0.9512\n",
      "Epoch 45/100\n",
      "518/518 [==============================] - 2s 4ms/step - loss: 0.1177 - accuracy: 0.9564 - auc: 0.9906 - f1_score: 0.9525\n",
      "Epoch 46/100\n",
      "518/518 [==============================] - 2s 4ms/step - loss: 0.1174 - accuracy: 0.9559 - auc: 0.9907 - f1_score: 0.9519\n",
      "Epoch 47/100\n",
      "518/518 [==============================] - 2s 4ms/step - loss: 0.1168 - accuracy: 0.9555 - auc: 0.9910 - f1_score: 0.9515\n",
      "Epoch 48/100\n",
      "518/518 [==============================] - 2s 4ms/step - loss: 0.1185 - accuracy: 0.9558 - auc: 0.9905 - f1_score: 0.9518\n",
      "Epoch 49/100\n",
      "518/518 [==============================] - 2s 4ms/step - loss: 0.1149 - accuracy: 0.9568 - auc: 0.9913 - f1_score: 0.9529\n",
      "Epoch 50/100\n",
      "518/518 [==============================] - 2s 4ms/step - loss: 0.1189 - accuracy: 0.9562 - auc: 0.9906 - f1_score: 0.9523\n",
      "Epoch 51/100\n",
      "518/518 [==============================] - 2s 4ms/step - loss: 0.1166 - accuracy: 0.9567 - auc: 0.9908 - f1_score: 0.9528\n",
      "Epoch 52/100\n",
      "518/518 [==============================] - 2s 4ms/step - loss: 0.1133 - accuracy: 0.9573 - auc: 0.9915 - f1_score: 0.9535\n",
      "Epoch 53/100\n",
      "518/518 [==============================] - 2s 4ms/step - loss: 0.1164 - accuracy: 0.9562 - auc: 0.9910 - f1_score: 0.9522\n",
      "Epoch 54/100\n",
      "518/518 [==============================] - 2s 4ms/step - loss: 0.1108 - accuracy: 0.9575 - auc: 0.9919 - f1_score: 0.9537\n",
      "Epoch 55/100\n",
      "518/518 [==============================] - 2s 4ms/step - loss: 0.1146 - accuracy: 0.9568 - auc: 0.9912 - f1_score: 0.9529\n",
      "Epoch 56/100\n",
      "518/518 [==============================] - 2s 4ms/step - loss: 0.1117 - accuracy: 0.9573 - auc: 0.9915 - f1_score: 0.9535\n",
      "Epoch 57/100\n",
      "518/518 [==============================] - 2s 4ms/step - loss: 0.1094 - accuracy: 0.9591 - auc: 0.9920 - f1_score: 0.9554\n",
      "Epoch 58/100\n",
      "518/518 [==============================] - 2s 4ms/step - loss: 0.1121 - accuracy: 0.9574 - auc: 0.9914 - f1_score: 0.9535\n",
      "Epoch 59/100\n",
      "518/518 [==============================] - 2s 4ms/step - loss: 0.1120 - accuracy: 0.9589 - auc: 0.9916 - f1_score: 0.9552\n",
      "Epoch 60/100\n",
      "518/518 [==============================] - 2s 4ms/step - loss: 0.1102 - accuracy: 0.9576 - auc: 0.9918 - f1_score: 0.9537\n",
      "Epoch 61/100\n",
      "518/518 [==============================] - 2s 4ms/step - loss: 0.1133 - accuracy: 0.9572 - auc: 0.9915 - f1_score: 0.9534\n",
      "Epoch 62/100\n",
      "518/518 [==============================] - 2s 4ms/step - loss: 0.1100 - accuracy: 0.9581 - auc: 0.9919 - f1_score: 0.9544\n",
      "Score for fold 4: loss of 0.23740088939666748; accuracy of 0.930734395980835; auc of 0.9768529534339905; f1_score of 0.924363374710083\n",
      "Epoch 1/100\n",
      "518/518 [==============================] - 3s 4ms/step - loss: 0.3002 - accuracy: 0.8720 - auc: 0.9466 - f1_score: 0.8577\n",
      "Epoch 2/100\n",
      "518/518 [==============================] - 2s 4ms/step - loss: 0.2119 - accuracy: 0.9239 - auc: 0.9720 - f1_score: 0.9172\n",
      "Epoch 3/100\n",
      "518/518 [==============================] - 2s 4ms/step - loss: 0.2005 - accuracy: 0.9284 - auc: 0.9747 - f1_score: 0.9218\n",
      "Epoch 4/100\n",
      "518/518 [==============================] - 2s 4ms/step - loss: 0.1934 - accuracy: 0.9316 - auc: 0.9765 - f1_score: 0.9255\n",
      "Epoch 5/100\n",
      "518/518 [==============================] - 2s 4ms/step - loss: 0.1862 - accuracy: 0.9353 - auc: 0.9778 - f1_score: 0.9295\n",
      "Epoch 6/100\n",
      "518/518 [==============================] - 2s 4ms/step - loss: 0.1816 - accuracy: 0.9357 - auc: 0.9792 - f1_score: 0.9299\n",
      "Epoch 7/100\n",
      "518/518 [==============================] - 2s 4ms/step - loss: 0.1790 - accuracy: 0.9376 - auc: 0.9797 - f1_score: 0.9319\n",
      "Epoch 8/100\n",
      "518/518 [==============================] - 2s 4ms/step - loss: 0.1741 - accuracy: 0.9390 - auc: 0.9804 - f1_score: 0.9336\n",
      "Epoch 9/100\n",
      "518/518 [==============================] - 2s 4ms/step - loss: 0.1714 - accuracy: 0.9394 - auc: 0.9810 - f1_score: 0.9339\n",
      "Epoch 10/100\n",
      "518/518 [==============================] - 2s 4ms/step - loss: 0.1706 - accuracy: 0.9406 - auc: 0.9812 - f1_score: 0.9352\n",
      "Epoch 11/100\n",
      "518/518 [==============================] - 2s 4ms/step - loss: 0.1682 - accuracy: 0.9407 - auc: 0.9817 - f1_score: 0.9354\n",
      "Epoch 12/100\n",
      "518/518 [==============================] - 2s 4ms/step - loss: 0.1618 - accuracy: 0.9419 - auc: 0.9830 - f1_score: 0.9366\n",
      "Epoch 13/100\n",
      "518/518 [==============================] - 2s 4ms/step - loss: 0.1599 - accuracy: 0.9423 - auc: 0.9833 - f1_score: 0.9372\n",
      "Epoch 14/100\n",
      "518/518 [==============================] - 2s 4ms/step - loss: 0.1573 - accuracy: 0.9437 - auc: 0.9839 - f1_score: 0.9388\n",
      "Epoch 15/100\n",
      "518/518 [==============================] - 2s 4ms/step - loss: 0.1575 - accuracy: 0.9443 - auc: 0.9837 - f1_score: 0.9394\n",
      "Epoch 16/100\n",
      "518/518 [==============================] - 2s 4ms/step - loss: 0.1534 - accuracy: 0.9457 - auc: 0.9847 - f1_score: 0.9409\n",
      "Epoch 17/100\n",
      "518/518 [==============================] - 2s 4ms/step - loss: 0.1496 - accuracy: 0.9469 - auc: 0.9854 - f1_score: 0.9420\n",
      "Epoch 18/100\n",
      "518/518 [==============================] - 3s 5ms/step - loss: 0.1504 - accuracy: 0.9460 - auc: 0.9851 - f1_score: 0.9413\n",
      "Epoch 19/100\n",
      "518/518 [==============================] - 3s 6ms/step - loss: 0.1473 - accuracy: 0.9472 - auc: 0.9856 - f1_score: 0.9424\n",
      "Epoch 20/100\n",
      "518/518 [==============================] - 2s 4ms/step - loss: 0.1488 - accuracy: 0.9471 - auc: 0.9854 - f1_score: 0.9424\n",
      "Epoch 21/100\n",
      "518/518 [==============================] - 2s 4ms/step - loss: 0.1444 - accuracy: 0.9488 - auc: 0.9862 - f1_score: 0.9443\n",
      "Epoch 22/100\n",
      "518/518 [==============================] - 2s 4ms/step - loss: 0.1431 - accuracy: 0.9495 - auc: 0.9864 - f1_score: 0.9450\n",
      "Epoch 23/100\n",
      "518/518 [==============================] - 2s 4ms/step - loss: 0.1424 - accuracy: 0.9496 - auc: 0.9868 - f1_score: 0.9453\n",
      "Epoch 24/100\n",
      "518/518 [==============================] - 2s 4ms/step - loss: 0.1407 - accuracy: 0.9499 - auc: 0.9868 - f1_score: 0.9455\n",
      "Epoch 25/100\n",
      "518/518 [==============================] - 2s 4ms/step - loss: 0.1372 - accuracy: 0.9503 - auc: 0.9875 - f1_score: 0.9459\n",
      "Epoch 26/100\n",
      "518/518 [==============================] - 2s 4ms/step - loss: 0.1375 - accuracy: 0.9512 - auc: 0.9872 - f1_score: 0.9468\n",
      "Epoch 27/100\n",
      "518/518 [==============================] - 2s 4ms/step - loss: 0.1344 - accuracy: 0.9519 - auc: 0.9881 - f1_score: 0.9477\n",
      "Epoch 28/100\n",
      "518/518 [==============================] - 2s 4ms/step - loss: 0.1341 - accuracy: 0.9514 - auc: 0.9881 - f1_score: 0.9470\n",
      "Epoch 29/100\n",
      "518/518 [==============================] - 2s 4ms/step - loss: 0.1328 - accuracy: 0.9523 - auc: 0.9881 - f1_score: 0.9482\n",
      "Epoch 30/100\n",
      "518/518 [==============================] - 2s 4ms/step - loss: 0.1312 - accuracy: 0.9532 - auc: 0.9885 - f1_score: 0.9490\n",
      "Epoch 31/100\n",
      "518/518 [==============================] - 2s 4ms/step - loss: 0.1307 - accuracy: 0.9527 - auc: 0.9885 - f1_score: 0.9485\n",
      "Epoch 32/100\n",
      "518/518 [==============================] - 2s 4ms/step - loss: 0.1294 - accuracy: 0.9532 - auc: 0.9886 - f1_score: 0.9491\n",
      "Epoch 33/100\n",
      "518/518 [==============================] - 2s 4ms/step - loss: 0.1305 - accuracy: 0.9525 - auc: 0.9885 - f1_score: 0.9483\n",
      "Epoch 34/100\n",
      "518/518 [==============================] - 2s 4ms/step - loss: 0.1288 - accuracy: 0.9544 - auc: 0.9888 - f1_score: 0.9504\n",
      "Epoch 35/100\n",
      "518/518 [==============================] - 2s 4ms/step - loss: 0.1262 - accuracy: 0.9553 - auc: 0.9891 - f1_score: 0.9515\n",
      "Epoch 36/100\n",
      "518/518 [==============================] - 2s 4ms/step - loss: 0.1279 - accuracy: 0.9538 - auc: 0.9890 - f1_score: 0.9498\n",
      "Epoch 37/100\n",
      "518/518 [==============================] - 2s 4ms/step - loss: 0.1280 - accuracy: 0.9543 - auc: 0.9890 - f1_score: 0.9503\n",
      "Epoch 38/100\n",
      "518/518 [==============================] - 2s 4ms/step - loss: 0.1239 - accuracy: 0.9549 - auc: 0.9896 - f1_score: 0.9510\n",
      "Epoch 39/100\n",
      "518/518 [==============================] - 2s 4ms/step - loss: 0.1222 - accuracy: 0.9565 - auc: 0.9898 - f1_score: 0.9526\n",
      "Epoch 40/100\n",
      "518/518 [==============================] - 2s 4ms/step - loss: 0.1221 - accuracy: 0.9555 - auc: 0.9898 - f1_score: 0.9516\n",
      "Epoch 41/100\n",
      "518/518 [==============================] - 2s 4ms/step - loss: 0.1186 - accuracy: 0.9570 - auc: 0.9905 - f1_score: 0.9533\n",
      "Epoch 42/100\n",
      "518/518 [==============================] - 2s 4ms/step - loss: 0.1212 - accuracy: 0.9559 - auc: 0.9900 - f1_score: 0.9520\n",
      "Epoch 43/100\n",
      "518/518 [==============================] - 2s 4ms/step - loss: 0.1200 - accuracy: 0.9554 - auc: 0.9900 - f1_score: 0.9515\n",
      "Epoch 44/100\n",
      "518/518 [==============================] - 2s 4ms/step - loss: 0.1190 - accuracy: 0.9558 - auc: 0.9904 - f1_score: 0.9520\n",
      "Epoch 45/100\n",
      "518/518 [==============================] - 2s 4ms/step - loss: 0.1168 - accuracy: 0.9581 - auc: 0.9905 - f1_score: 0.9544\n",
      "Epoch 46/100\n",
      "518/518 [==============================] - 2s 4ms/step - loss: 0.1153 - accuracy: 0.9563 - auc: 0.9911 - f1_score: 0.9525\n",
      "Epoch 47/100\n",
      "518/518 [==============================] - 2s 4ms/step - loss: 0.1160 - accuracy: 0.9582 - auc: 0.9906 - f1_score: 0.9546\n",
      "Epoch 48/100\n",
      "518/518 [==============================] - 2s 4ms/step - loss: 0.1160 - accuracy: 0.9573 - auc: 0.9909 - f1_score: 0.9536\n",
      "Epoch 49/100\n",
      "518/518 [==============================] - 2s 4ms/step - loss: 0.1139 - accuracy: 0.9586 - auc: 0.9912 - f1_score: 0.9550\n",
      "Epoch 50/100\n",
      "518/518 [==============================] - 2s 4ms/step - loss: 0.1142 - accuracy: 0.9581 - auc: 0.9913 - f1_score: 0.9544\n",
      "Epoch 51/100\n",
      "518/518 [==============================] - 2s 4ms/step - loss: 0.1156 - accuracy: 0.9578 - auc: 0.9908 - f1_score: 0.9541\n",
      "Epoch 52/100\n",
      "518/518 [==============================] - 2s 4ms/step - loss: 0.1128 - accuracy: 0.9583 - auc: 0.9914 - f1_score: 0.9547\n",
      "Epoch 53/100\n",
      "518/518 [==============================] - 2s 4ms/step - loss: 0.1152 - accuracy: 0.9574 - auc: 0.9908 - f1_score: 0.9537\n",
      "Epoch 54/100\n",
      "518/518 [==============================] - 2s 4ms/step - loss: 0.1118 - accuracy: 0.9587 - auc: 0.9917 - f1_score: 0.9552\n",
      "Epoch 55/100\n",
      "518/518 [==============================] - 2s 4ms/step - loss: 0.1125 - accuracy: 0.9593 - auc: 0.9915 - f1_score: 0.9557\n",
      "Epoch 56/100\n",
      "518/518 [==============================] - 2s 4ms/step - loss: 0.1116 - accuracy: 0.9590 - auc: 0.9915 - f1_score: 0.9554\n",
      "Epoch 57/100\n",
      "518/518 [==============================] - 2s 4ms/step - loss: 0.1107 - accuracy: 0.9605 - auc: 0.9916 - f1_score: 0.9570\n",
      "Epoch 58/100\n",
      "518/518 [==============================] - 2s 4ms/step - loss: 0.1081 - accuracy: 0.9587 - auc: 0.9920 - f1_score: 0.9550\n",
      "Epoch 59/100\n",
      "518/518 [==============================] - 2s 5ms/step - loss: 0.1102 - accuracy: 0.9603 - auc: 0.9917 - f1_score: 0.9569\n",
      "Epoch 60/100\n",
      "518/518 [==============================] - 3s 6ms/step - loss: 0.1081 - accuracy: 0.9601 - auc: 0.9920 - f1_score: 0.9567\n",
      "Epoch 61/100\n",
      "518/518 [==============================] - 2s 4ms/step - loss: 0.1083 - accuracy: 0.9592 - auc: 0.9921 - f1_score: 0.9557\n",
      "Epoch 62/100\n",
      "518/518 [==============================] - 2s 4ms/step - loss: 0.1092 - accuracy: 0.9597 - auc: 0.9917 - f1_score: 0.9563\n",
      "Epoch 63/100\n",
      "518/518 [==============================] - 2s 4ms/step - loss: 0.1102 - accuracy: 0.9603 - auc: 0.9915 - f1_score: 0.9569\n",
      "Score for fold 5: loss of 0.22352060675621033; accuracy of 0.9380438327789307; auc of 0.9756754040718079; f1_score of 0.93272864818573\n",
      "Epoch 1/100\n",
      "518/518 [==============================] - 3s 4ms/step - loss: 0.2936 - accuracy: 0.8808 - auc: 0.9489 - f1_score: 0.8683\n",
      "Epoch 2/100\n",
      "518/518 [==============================] - 2s 4ms/step - loss: 0.2126 - accuracy: 0.9284 - auc: 0.9717 - f1_score: 0.9214\n",
      "Epoch 3/100\n",
      "518/518 [==============================] - 2s 4ms/step - loss: 0.1999 - accuracy: 0.9311 - auc: 0.9748 - f1_score: 0.9245\n",
      "Epoch 4/100\n",
      "518/518 [==============================] - 2s 4ms/step - loss: 0.1933 - accuracy: 0.9342 - auc: 0.9763 - f1_score: 0.9282\n",
      "Epoch 5/100\n",
      "518/518 [==============================] - 2s 4ms/step - loss: 0.1890 - accuracy: 0.9369 - auc: 0.9772 - f1_score: 0.9311\n",
      "Epoch 6/100\n",
      "518/518 [==============================] - 2s 4ms/step - loss: 0.1807 - accuracy: 0.9386 - auc: 0.9792 - f1_score: 0.9329\n",
      "Epoch 7/100\n",
      "518/518 [==============================] - 2s 4ms/step - loss: 0.1798 - accuracy: 0.9385 - auc: 0.9795 - f1_score: 0.9329\n",
      "Epoch 8/100\n",
      "518/518 [==============================] - 2s 4ms/step - loss: 0.1745 - accuracy: 0.9412 - auc: 0.9806 - f1_score: 0.9358\n",
      "Epoch 9/100\n",
      "518/518 [==============================] - 2s 4ms/step - loss: 0.1710 - accuracy: 0.9410 - auc: 0.9813 - f1_score: 0.9356\n",
      "Epoch 10/100\n",
      "518/518 [==============================] - 2s 4ms/step - loss: 0.1687 - accuracy: 0.9417 - auc: 0.9819 - f1_score: 0.9363\n",
      "Epoch 11/100\n",
      "518/518 [==============================] - 2s 4ms/step - loss: 0.1651 - accuracy: 0.9427 - auc: 0.9826 - f1_score: 0.9374\n",
      "Epoch 12/100\n",
      "518/518 [==============================] - 3s 6ms/step - loss: 0.1618 - accuracy: 0.9453 - auc: 0.9833 - f1_score: 0.9403\n",
      "Epoch 13/100\n",
      "518/518 [==============================] - 3s 5ms/step - loss: 0.1614 - accuracy: 0.9445 - auc: 0.9830 - f1_score: 0.9394\n",
      "Epoch 14/100\n",
      "518/518 [==============================] - 2s 4ms/step - loss: 0.1585 - accuracy: 0.9452 - auc: 0.9839 - f1_score: 0.9402\n",
      "Epoch 15/100\n",
      "518/518 [==============================] - 2s 4ms/step - loss: 0.1583 - accuracy: 0.9460 - auc: 0.9839 - f1_score: 0.9411\n",
      "Epoch 16/100\n",
      "518/518 [==============================] - 2s 4ms/step - loss: 0.1525 - accuracy: 0.9474 - auc: 0.9850 - f1_score: 0.9426\n",
      "Epoch 17/100\n",
      "518/518 [==============================] - 2s 4ms/step - loss: 0.1517 - accuracy: 0.9490 - auc: 0.9851 - f1_score: 0.9443\n",
      "Epoch 18/100\n",
      "518/518 [==============================] - 2s 4ms/step - loss: 0.1517 - accuracy: 0.9469 - auc: 0.9853 - f1_score: 0.9420\n",
      "Epoch 19/100\n",
      "518/518 [==============================] - 2s 4ms/step - loss: 0.1501 - accuracy: 0.9471 - auc: 0.9854 - f1_score: 0.9423\n",
      "Epoch 20/100\n",
      "518/518 [==============================] - 2s 4ms/step - loss: 0.1458 - accuracy: 0.9479 - auc: 0.9862 - f1_score: 0.9432\n",
      "Epoch 21/100\n",
      "518/518 [==============================] - 2s 4ms/step - loss: 0.1438 - accuracy: 0.9503 - auc: 0.9864 - f1_score: 0.9459\n",
      "Epoch 22/100\n",
      "518/518 [==============================] - 2s 4ms/step - loss: 0.1431 - accuracy: 0.9495 - auc: 0.9866 - f1_score: 0.9448\n",
      "Epoch 23/100\n",
      "518/518 [==============================] - 2s 4ms/step - loss: 0.1439 - accuracy: 0.9497 - auc: 0.9863 - f1_score: 0.9450\n",
      "Epoch 24/100\n",
      "518/518 [==============================] - 2s 4ms/step - loss: 0.1394 - accuracy: 0.9509 - auc: 0.9875 - f1_score: 0.9464\n",
      "Epoch 25/100\n",
      "518/518 [==============================] - 2s 4ms/step - loss: 0.1390 - accuracy: 0.9517 - auc: 0.9874 - f1_score: 0.9472\n",
      "Epoch 26/100\n",
      "518/518 [==============================] - 2s 4ms/step - loss: 0.1409 - accuracy: 0.9506 - auc: 0.9869 - f1_score: 0.9461\n",
      "Epoch 27/100\n",
      "518/518 [==============================] - 2s 4ms/step - loss: 0.1376 - accuracy: 0.9522 - auc: 0.9876 - f1_score: 0.9478\n",
      "Epoch 28/100\n",
      "518/518 [==============================] - 2s 4ms/step - loss: 0.1354 - accuracy: 0.9526 - auc: 0.9879 - f1_score: 0.9483\n",
      "Epoch 29/100\n",
      "518/518 [==============================] - 2s 4ms/step - loss: 0.1345 - accuracy: 0.9521 - auc: 0.9880 - f1_score: 0.9477\n",
      "Epoch 30/100\n",
      "518/518 [==============================] - 2s 5ms/step - loss: 0.1332 - accuracy: 0.9549 - auc: 0.9882 - f1_score: 0.9508\n",
      "Epoch 31/100\n",
      "518/518 [==============================] - 2s 4ms/step - loss: 0.1324 - accuracy: 0.9536 - auc: 0.9884 - f1_score: 0.9494\n",
      "Epoch 32/100\n",
      "518/518 [==============================] - 2s 4ms/step - loss: 0.1322 - accuracy: 0.9530 - auc: 0.9883 - f1_score: 0.9487\n",
      "Epoch 33/100\n",
      "518/518 [==============================] - 2s 4ms/step - loss: 0.1306 - accuracy: 0.9534 - auc: 0.9888 - f1_score: 0.9491\n",
      "Epoch 34/100\n",
      "518/518 [==============================] - 2s 4ms/step - loss: 0.1269 - accuracy: 0.9550 - auc: 0.9894 - f1_score: 0.9508\n",
      "Epoch 35/100\n",
      "518/518 [==============================] - 2s 4ms/step - loss: 0.1267 - accuracy: 0.9556 - auc: 0.9893 - f1_score: 0.9515\n",
      "Epoch 36/100\n",
      "518/518 [==============================] - 2s 4ms/step - loss: 0.1258 - accuracy: 0.9553 - auc: 0.9894 - f1_score: 0.9513\n",
      "Epoch 37/100\n",
      "518/518 [==============================] - 2s 4ms/step - loss: 0.1256 - accuracy: 0.9549 - auc: 0.9895 - f1_score: 0.9507\n",
      "Epoch 38/100\n",
      "518/518 [==============================] - 2s 4ms/step - loss: 0.1244 - accuracy: 0.9559 - auc: 0.9897 - f1_score: 0.9519\n",
      "Epoch 39/100\n",
      "518/518 [==============================] - 2s 4ms/step - loss: 0.1243 - accuracy: 0.9555 - auc: 0.9897 - f1_score: 0.9514\n",
      "Epoch 40/100\n",
      "518/518 [==============================] - 2s 4ms/step - loss: 0.1248 - accuracy: 0.9548 - auc: 0.9897 - f1_score: 0.9504\n",
      "Epoch 41/100\n",
      "518/518 [==============================] - 2s 4ms/step - loss: 0.1222 - accuracy: 0.9554 - auc: 0.9901 - f1_score: 0.9513\n",
      "Epoch 42/100\n",
      "518/518 [==============================] - 2s 4ms/step - loss: 0.1226 - accuracy: 0.9558 - auc: 0.9900 - f1_score: 0.9518\n",
      "Epoch 43/100\n",
      "518/518 [==============================] - 2s 4ms/step - loss: 0.1196 - accuracy: 0.9563 - auc: 0.9906 - f1_score: 0.9522\n",
      "Epoch 44/100\n",
      "518/518 [==============================] - 2s 4ms/step - loss: 0.1210 - accuracy: 0.9562 - auc: 0.9902 - f1_score: 0.9521\n",
      "Epoch 45/100\n",
      "518/518 [==============================] - 2s 4ms/step - loss: 0.1177 - accuracy: 0.9572 - auc: 0.9909 - f1_score: 0.9533\n",
      "Epoch 46/100\n",
      "518/518 [==============================] - 2s 4ms/step - loss: 0.1192 - accuracy: 0.9570 - auc: 0.9906 - f1_score: 0.9531\n",
      "Epoch 47/100\n",
      "518/518 [==============================] - 2s 4ms/step - loss: 0.1221 - accuracy: 0.9565 - auc: 0.9900 - f1_score: 0.9524\n",
      "Epoch 48/100\n",
      "518/518 [==============================] - 2s 4ms/step - loss: 0.1189 - accuracy: 0.9570 - auc: 0.9906 - f1_score: 0.9530\n",
      "Epoch 49/100\n",
      "518/518 [==============================] - 2s 4ms/step - loss: 0.1171 - accuracy: 0.9573 - auc: 0.9908 - f1_score: 0.9533\n",
      "Epoch 50/100\n",
      "518/518 [==============================] - 2s 4ms/step - loss: 0.1175 - accuracy: 0.9582 - auc: 0.9907 - f1_score: 0.9543\n",
      "Epoch 51/100\n",
      "518/518 [==============================] - 2s 4ms/step - loss: 0.1158 - accuracy: 0.9568 - auc: 0.9910 - f1_score: 0.9528\n",
      "Epoch 52/100\n",
      "518/518 [==============================] - 2s 5ms/step - loss: 0.1148 - accuracy: 0.9587 - auc: 0.9911 - f1_score: 0.9550\n",
      "Epoch 53/100\n",
      "518/518 [==============================] - 3s 6ms/step - loss: 0.1141 - accuracy: 0.9580 - auc: 0.9913 - f1_score: 0.9541\n",
      "Epoch 54/100\n",
      "518/518 [==============================] - 2s 4ms/step - loss: 0.1142 - accuracy: 0.9593 - auc: 0.9913 - f1_score: 0.9555\n",
      "Epoch 55/100\n",
      "518/518 [==============================] - 2s 4ms/step - loss: 0.1149 - accuracy: 0.9585 - auc: 0.9912 - f1_score: 0.9547\n",
      "Epoch 56/100\n",
      "518/518 [==============================] - 2s 4ms/step - loss: 0.1129 - accuracy: 0.9593 - auc: 0.9915 - f1_score: 0.9554\n",
      "Epoch 57/100\n",
      "518/518 [==============================] - 2s 4ms/step - loss: 0.1156 - accuracy: 0.9580 - auc: 0.9910 - f1_score: 0.9541\n",
      "Epoch 58/100\n",
      "518/518 [==============================] - 2s 4ms/step - loss: 0.1103 - accuracy: 0.9603 - auc: 0.9918 - f1_score: 0.9566\n",
      "Epoch 59/100\n",
      "518/518 [==============================] - 2s 4ms/step - loss: 0.1107 - accuracy: 0.9606 - auc: 0.9918 - f1_score: 0.9569\n",
      "Epoch 60/100\n",
      "518/518 [==============================] - 2s 4ms/step - loss: 0.1107 - accuracy: 0.9599 - auc: 0.9918 - f1_score: 0.9562\n",
      "Epoch 61/100\n",
      "518/518 [==============================] - 2s 4ms/step - loss: 0.1100 - accuracy: 0.9605 - auc: 0.9919 - f1_score: 0.9569\n",
      "Epoch 62/100\n",
      "518/518 [==============================] - 2s 4ms/step - loss: 0.1096 - accuracy: 0.9599 - auc: 0.9917 - f1_score: 0.9562\n",
      "Epoch 63/100\n",
      "518/518 [==============================] - 2s 4ms/step - loss: 0.1117 - accuracy: 0.9596 - auc: 0.9916 - f1_score: 0.9558\n",
      "Epoch 64/100\n",
      "518/518 [==============================] - 2s 4ms/step - loss: 0.1080 - accuracy: 0.9607 - auc: 0.9922 - f1_score: 0.9569\n",
      "Epoch 65/100\n",
      "518/518 [==============================] - 2s 4ms/step - loss: 0.1106 - accuracy: 0.9592 - auc: 0.9918 - f1_score: 0.9553\n",
      "Epoch 66/100\n",
      "518/518 [==============================] - 2s 4ms/step - loss: 0.1085 - accuracy: 0.9596 - auc: 0.9923 - f1_score: 0.9557\n",
      "Epoch 67/100\n",
      "518/518 [==============================] - 2s 4ms/step - loss: 0.1074 - accuracy: 0.9604 - auc: 0.9923 - f1_score: 0.9567\n",
      "Epoch 68/100\n",
      "518/518 [==============================] - 2s 4ms/step - loss: 0.1101 - accuracy: 0.9604 - auc: 0.9920 - f1_score: 0.9567\n",
      "Epoch 69/100\n",
      "518/518 [==============================] - 2s 5ms/step - loss: 0.1054 - accuracy: 0.9609 - auc: 0.9925 - f1_score: 0.9571\n",
      "Epoch 70/100\n",
      "518/518 [==============================] - 2s 5ms/step - loss: 0.1116 - accuracy: 0.9596 - auc: 0.9916 - f1_score: 0.9558\n",
      "Epoch 71/100\n",
      "518/518 [==============================] - 2s 5ms/step - loss: 0.1067 - accuracy: 0.9602 - auc: 0.9923 - f1_score: 0.9565\n",
      "Epoch 72/100\n",
      "518/518 [==============================] - 2s 5ms/step - loss: 0.1054 - accuracy: 0.9626 - auc: 0.9924 - f1_score: 0.9591\n",
      "Epoch 73/100\n",
      "518/518 [==============================] - 2s 5ms/step - loss: 0.1074 - accuracy: 0.9604 - auc: 0.9923 - f1_score: 0.9567\n",
      "Epoch 74/100\n",
      "518/518 [==============================] - 2s 4ms/step - loss: 0.1099 - accuracy: 0.9594 - auc: 0.9919 - f1_score: 0.9555\n",
      "Score for fold 6: loss of 0.2694286108016968; accuracy of 0.9338670372962952; auc of 0.974009096622467; f1_score of 0.9268668293952942\n",
      "Epoch 1/100\n",
      "518/518 [==============================] - 3s 4ms/step - loss: 0.2898 - accuracy: 0.8835 - auc: 0.9503 - f1_score: 0.8713\n",
      "Epoch 2/100\n",
      "518/518 [==============================] - 2s 4ms/step - loss: 0.2098 - accuracy: 0.9241 - auc: 0.9724 - f1_score: 0.9176\n",
      "Epoch 3/100\n",
      "518/518 [==============================] - 2s 5ms/step - loss: 0.1996 - accuracy: 0.9293 - auc: 0.9749 - f1_score: 0.9228\n",
      "Epoch 4/100\n",
      "518/518 [==============================] - 2s 5ms/step - loss: 0.1910 - accuracy: 0.9339 - auc: 0.9772 - f1_score: 0.9276\n",
      "Epoch 5/100\n",
      "518/518 [==============================] - 2s 5ms/step - loss: 0.1879 - accuracy: 0.9368 - auc: 0.9777 - f1_score: 0.9309\n",
      "Epoch 6/100\n",
      "518/518 [==============================] - 4s 7ms/step - loss: 0.1819 - accuracy: 0.9374 - auc: 0.9789 - f1_score: 0.9316\n",
      "Epoch 7/100\n",
      "518/518 [==============================] - 2s 5ms/step - loss: 0.1796 - accuracy: 0.9381 - auc: 0.9797 - f1_score: 0.9324\n",
      "Epoch 8/100\n",
      "518/518 [==============================] - 2s 4ms/step - loss: 0.1763 - accuracy: 0.9403 - auc: 0.9802 - f1_score: 0.9347\n",
      "Epoch 9/100\n",
      "518/518 [==============================] - 2s 4ms/step - loss: 0.1704 - accuracy: 0.9415 - auc: 0.9813 - f1_score: 0.9362\n",
      "Epoch 10/100\n",
      "518/518 [==============================] - 2s 4ms/step - loss: 0.1668 - accuracy: 0.9435 - auc: 0.9821 - f1_score: 0.9382\n",
      "Epoch 11/100\n",
      "518/518 [==============================] - 2s 4ms/step - loss: 0.1675 - accuracy: 0.9430 - auc: 0.9818 - f1_score: 0.9377\n",
      "Epoch 12/100\n",
      "518/518 [==============================] - 2s 4ms/step - loss: 0.1633 - accuracy: 0.9434 - auc: 0.9828 - f1_score: 0.9382\n",
      "Epoch 13/100\n",
      "518/518 [==============================] - 2s 4ms/step - loss: 0.1596 - accuracy: 0.9442 - auc: 0.9836 - f1_score: 0.9391\n",
      "Epoch 14/100\n",
      "518/518 [==============================] - 2s 4ms/step - loss: 0.1570 - accuracy: 0.9453 - auc: 0.9841 - f1_score: 0.9402\n",
      "Epoch 15/100\n",
      "518/518 [==============================] - 2s 4ms/step - loss: 0.1573 - accuracy: 0.9452 - auc: 0.9839 - f1_score: 0.9402\n",
      "Epoch 16/100\n",
      "518/518 [==============================] - 2s 4ms/step - loss: 0.1539 - accuracy: 0.9474 - auc: 0.9847 - f1_score: 0.9425\n",
      "Epoch 17/100\n",
      "518/518 [==============================] - 2s 5ms/step - loss: 0.1529 - accuracy: 0.9483 - auc: 0.9847 - f1_score: 0.9436\n",
      "Epoch 18/100\n",
      "518/518 [==============================] - 2s 5ms/step - loss: 0.1512 - accuracy: 0.9481 - auc: 0.9852 - f1_score: 0.9433\n",
      "Epoch 19/100\n",
      "518/518 [==============================] - 2s 5ms/step - loss: 0.1464 - accuracy: 0.9491 - auc: 0.9858 - f1_score: 0.9445\n",
      "Epoch 20/100\n",
      "518/518 [==============================] - 2s 5ms/step - loss: 0.1467 - accuracy: 0.9502 - auc: 0.9859 - f1_score: 0.9456\n",
      "Epoch 21/100\n",
      "518/518 [==============================] - 2s 5ms/step - loss: 0.1455 - accuracy: 0.9485 - auc: 0.9862 - f1_score: 0.9437\n",
      "Epoch 22/100\n",
      "518/518 [==============================] - 2s 5ms/step - loss: 0.1406 - accuracy: 0.9500 - auc: 0.9869 - f1_score: 0.9454\n",
      "Epoch 23/100\n",
      "518/518 [==============================] - 2s 5ms/step - loss: 0.1415 - accuracy: 0.9503 - auc: 0.9868 - f1_score: 0.9458\n",
      "Epoch 24/100\n",
      "518/518 [==============================] - 2s 5ms/step - loss: 0.1384 - accuracy: 0.9520 - auc: 0.9872 - f1_score: 0.9476\n",
      "Epoch 25/100\n",
      "518/518 [==============================] - 2s 5ms/step - loss: 0.1389 - accuracy: 0.9511 - auc: 0.9871 - f1_score: 0.9467\n",
      "Epoch 26/100\n",
      "518/518 [==============================] - 2s 5ms/step - loss: 0.1373 - accuracy: 0.9514 - auc: 0.9874 - f1_score: 0.9470\n",
      "Epoch 27/100\n",
      "518/518 [==============================] - 2s 5ms/step - loss: 0.1359 - accuracy: 0.9528 - auc: 0.9879 - f1_score: 0.9484\n",
      "Epoch 28/100\n",
      "518/518 [==============================] - 2s 5ms/step - loss: 0.1361 - accuracy: 0.9515 - auc: 0.9877 - f1_score: 0.9470\n",
      "Epoch 29/100\n",
      "518/518 [==============================] - 2s 5ms/step - loss: 0.1328 - accuracy: 0.9529 - auc: 0.9883 - f1_score: 0.9484\n",
      "Epoch 30/100\n",
      "518/518 [==============================] - 2s 5ms/step - loss: 0.1324 - accuracy: 0.9520 - auc: 0.9884 - f1_score: 0.9475\n",
      "Epoch 31/100\n",
      "418/518 [=======================>......] - ETA: 0s - loss: 0.1322 - accuracy: 0.9536 - auc: 0.9882 - f1_score: 0.9495"
     ]
    }
   ],
   "source": [
    "inputs = np.concatenate((X_train_mlp, X_valid_mlp, X_test_mlp), axis=0)\n",
    "targets = np.concatenate((y_train_mlp, y_valid_mlp, y_test_mlp), axis=0)\n",
    "\n",
    "BATCH_SIZE = 50    # Tamanho do batch de treinamento\n",
    "N_EPOCHS = 100\n",
    "\n",
    "fold_no = 1\n",
    "loss_per_fold = []\n",
    "acc_per_fold = []\n",
    "auc_per_fold = []\n",
    "f1_per_fold = []\n",
    "\n",
    "for train_index, test_index in cv.split(inputs, targets):\n",
    "  INPUT_SHAPE = (X_train_mlp.shape[1],)\n",
    "  DROPOUT = 0.3\n",
    "\n",
    "  model_cv = keras.models.Sequential([\n",
    "                                        keras.layers.Dense(100, activation='relu', input_shape=INPUT_SHAPE),\n",
    "                                        keras.layers.Dropout(DROPOUT),\n",
    "                                        keras.layers.Dense(50, activation='relu'),\n",
    "                                        keras.layers.Dropout(DROPOUT),\n",
    "                                        keras.layers.Dense(10, activation='relu'),\n",
    "                                        keras.layers.Dropout(DROPOUT),\n",
    "                                        keras.layers.Dense(1, activation = \"sigmoid\")\n",
    "  ])\n",
    "\n",
    "  f1_score = F1Score(num_classes=2, average=\"micro\", threshold=0.5)\n",
    "\n",
    "  model_cv.compile(loss='binary_crossentropy', optimizer=\"Adam\", metrics= ['accuracy', keras.metrics.AUC(name='auc'), f1_score])\n",
    "\n",
    "  callback_cv = tf.keras.callbacks.EarlyStopping(monitor='loss', patience=5) \n",
    "  # This callback will stop the training when there is no improvement in the loss for five consecutive epochs.\n",
    "\n",
    "  history_cv = model_cv.fit(\n",
    "                              x=inputs[train_index], \n",
    "                              y=targets[train_index], \n",
    "                              epochs=N_EPOCHS, \n",
    "                              batch_size=BATCH_SIZE, \n",
    "                              verbose='auto', \n",
    "                              # validation_data=(X_valid_mlp,y_valid_mlp),\n",
    "                              callbacks=[callback_cv],\n",
    "                            )\n",
    "  # Generate metrics\n",
    "  scores = model_cv.evaluate(inputs[test_index], targets[test_index], verbose=0)\n",
    "\n",
    "  print(f'Score for fold {fold_no}: {model_cv.metrics_names[0]} of {scores[0]}; {model_cv.metrics_names[1]} of {scores[1]}; {model_cv.metrics_names[2]} of {scores[2]}; {model_cv.metrics_names[3]} of {scores[3]}')\n",
    "  \n",
    "  loss_per_fold.append(scores[0])\n",
    "  acc_per_fold.append(scores[1])\n",
    "  auc_per_fold.append(scores[2])\n",
    "  f1_per_fold.append(scores[3])\n",
    "\n",
    "  # Increase fold number\n",
    "  fold_no = fold_no + 1"
   ]
  },
  {
   "cell_type": "code",
   "execution_count": null,
   "id": "7JrZMgPPcfgN",
   "metadata": {
    "colab": {
     "base_uri": "https://localhost:8080/"
    },
    "id": "7JrZMgPPcfgN",
    "outputId": "26132a37-2b01-485b-e78c-70ff7a8557c2"
   },
   "outputs": [
    {
     "name": "stdout",
     "output_type": "stream",
     "text": [
      "Accuracy:     0.936 +/- 0.003\n",
      "F1_score:     0.930 +/- 0.003\n",
      "Roc_auc:      0.974 +/- 0.003\n",
      "\n"
     ]
    }
   ],
   "source": [
    "# Print metrics\n",
    "print(\n",
    "        f\"Accuracy:     {np.mean(acc_per_fold):.3f} +/- {np.std(acc_per_fold):.3f}\\n\"\n",
    "        f\"F1_score:     {np.mean(f1_per_fold):.3f} +/- {np.std(f1_per_fold):.3f}\\n\"\n",
    "        f\"Roc_auc:      {np.mean(auc_per_fold):.3f} +/- {np.std(auc_per_fold):.3f}\\n\"\n",
    ")"
   ]
  },
  {
   "cell_type": "code",
   "execution_count": null,
   "id": "kIU_GVDxxYaJ",
   "metadata": {
    "colab": {
     "base_uri": "https://localhost:8080/"
    },
    "id": "kIU_GVDxxYaJ",
    "outputId": "1e071c4c-2710-4712-ab95-ccf2b244f0c1"
   },
   "outputs": [
    {
     "name": "stdout",
     "output_type": "stream",
     "text": [
      "Accuracy per fold:     [0.9335420727729797, 0.9349339008331299, 0.9380654096603394, 0.930734395980835, 0.9380438327789307, 0.9335189461708069, 0.9349112510681152, 0.9397841691970825, 0.939436137676239, 0.9363034963607788]\n",
      "F1_score per fold:     [0.9269598722457886, 0.9280492067337036, 0.9327794909477234, 0.9254401922225952, 0.9324734210968018, 0.9269598722457886, 0.9289243817329407, 0.9339946508407593, 0.9334353804588318, 0.9306555986404419]\n",
      "Roc_auc per fold:      [0.9742457270622253, 0.972420871257782, 0.9675591588020325, 0.9754006862640381, 0.9762335419654846, 0.9753592014312744, 0.9734725952148438, 0.977726936340332, 0.9736078977584839, 0.9730005264282227]\n",
      "\n"
     ]
    }
   ],
   "source": [
    "# Print metrics for all folds\n",
    "print(\n",
    "      f\"Accuracy per fold:     {acc_per_fold}\\n\"\n",
    "      f\"F1_score per fold:     {f1_per_fold}\\n\"\n",
    "      f\"Roc_auc per fold:      {auc_per_fold}\\n\"\n",
    ")"
   ]
  }
 ],
 "metadata": {
  "accelerator": "GPU",
  "colab": {
   "collapsed_sections": [],
   "name": "incendios_alberta_pre_processamento_versao_final.ipynb",
   "provenance": []
  },
  "kernelspec": {
   "display_name": "Python 3 (ipykernel)",
   "language": "python",
   "name": "python3"
  },
  "language_info": {
   "codemirror_mode": {
    "name": "ipython",
    "version": 3
   },
   "file_extension": ".py",
   "mimetype": "text/x-python",
   "name": "python",
   "nbconvert_exporter": "python",
   "pygments_lexer": "ipython3",
   "version": "3.8.11"
  },
  "varInspector": {
   "cols": {
    "lenName": 16,
    "lenType": 16,
    "lenVar": 40
   },
   "kernels_config": {
    "python": {
     "delete_cmd_postfix": "",
     "delete_cmd_prefix": "del ",
     "library": "var_list.py",
     "varRefreshCmd": "print(var_dic_list())"
    },
    "r": {
     "delete_cmd_postfix": ") ",
     "delete_cmd_prefix": "rm(",
     "library": "var_list.r",
     "varRefreshCmd": "cat(var_dic_list()) "
    }
   },
   "types_to_exclude": [
    "module",
    "function",
    "builtin_function_or_method",
    "instance",
    "_Feature"
   ],
   "window_display": false
  }
 },
 "nbformat": 4,
 "nbformat_minor": 5
}
